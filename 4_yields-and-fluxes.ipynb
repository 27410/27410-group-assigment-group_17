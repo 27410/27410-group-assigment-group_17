{
 "cells": [
  {
   "cell_type": "markdown",
   "id": "5beda3be",
   "metadata": {},
   "source": [
    "# 3 Selection and assessment of existing GSM\n",
    "In this section the published iSynCJ816 model will be assessed. The heterologous pathways for production of p-coumaric acid will be introduced here, such that this assessment will be the reference to which the improvements of computer-aided cell factory engineering will be compared.\n",
    "\n",
    "## 3.1 Reconstruction of existing GSM"
   ]
  },
  {
   "cell_type": "code",
   "execution_count": 1,
   "id": "7fdea443",
   "metadata": {},
   "outputs": [
    {
     "data": {
      "text/html": [
       "\n",
       "        <table>\n",
       "            <tr>\n",
       "                <td><strong>Reaction identifier</strong></td><td>DM_PCOU</td>\n",
       "            </tr><tr>\n",
       "                <td><strong>Name</strong></td><td>p-Coumaric acid demand</td>\n",
       "            </tr><tr>\n",
       "                <td><strong>Memory address</strong></td>\n",
       "                <td>0x018dc31563c8</td>\n",
       "            </tr><tr>\n",
       "                <td><strong>Stoichiometry</strong></td>\n",
       "                <td>\n",
       "                    <p style='text-align:right'>PCOU --></p>\n",
       "                    <p style='text-align:right'>p-Coumaric acid --></p>\n",
       "                </td>\n",
       "            </tr><tr>\n",
       "                <td><strong>GPR</strong></td><td></td>\n",
       "            </tr><tr>\n",
       "                <td><strong>Lower bound</strong></td><td>0</td>\n",
       "            </tr><tr>\n",
       "                <td><strong>Upper bound</strong></td><td>1000.0</td>\n",
       "            </tr>\n",
       "        </table>\n",
       "        "
      ],
      "text/plain": [
       "<Reaction DM_PCOU at 0x18dc31563c8>"
      ]
     },
     "execution_count": 1,
     "metadata": {},
     "output_type": "execute_result"
    }
   ],
   "source": [
    "import pytest\n",
    "import hashlib\n",
    "import numpy as np\n",
    "from cobra.io import read_sbml_model\n",
    "from cobra.util import create_stoichiometric_matrix\n",
    "from cobra import Reaction, Metabolite\n",
    "\n",
    "model = read_sbml_model('iSynCJ816.xml')\n",
    "\n",
    "#adding the metabolites (from KEGG, according to the article)\n",
    "trans_Cinnamate = Metabolite(id = 'TRCI', compartment='c', name='trans-Cinnamate', formula='C9H8O2')\n",
    "p_Coumaric_acid = Metabolite(id = 'PCOU', compartment='c', name='p-Coumaric acid', formula='C9H8O3')\n",
    "\n",
    "#adding the reactions\n",
    "phenylalanine_ammonia_lyase = Reaction('PAL')\n",
    "trans_cinnamate_4_monooxygenase = Reaction('CYP73A')\n",
    "\n",
    "#adding the metabolites into the reactions\n",
    "phenylalanine_ammonia_lyase.add_metabolites(({model.metabolites.phe__L_c : -1,  \n",
    "                              trans_Cinnamate: 1, \n",
    "                              model.metabolites.nh3_c: 1, \n",
    "                            }))\n",
    "trans_cinnamate_4_monooxygenase.add_metabolites(({model.metabolites.o2_c : -1,\n",
    "                                                  trans_Cinnamate: -1,\n",
    "                                                  model.metabolites.nadph_c : -1,\n",
    "                                                  p_Coumaric_acid: 1,\n",
    "                                                  model.metabolites.h2o_c: 1,\n",
    "                                                  model.metabolites.nadph_c : 1,\n",
    "                                                 }))\n",
    "\n",
    "#Adding the reactions to the model:\n",
    "model.add_reactions([phenylalanine_ammonia_lyase])\n",
    "model.add_reactions([trans_cinnamate_4_monooxygenase])\n",
    "\n",
    "model.add_boundary(model.metabolites.TRCI, type='demand')\n",
    "model.add_boundary(model.metabolites.PCOU, type='demand')"
   ]
  },
  {
   "cell_type": "markdown",
   "id": "89a86642",
   "metadata": {},
   "source": [
    "## 3.2 Study of important fluxes\n",
    "\n",
    "### 3.2.1 p-coumaric production analysis\n",
    "\n",
    "p-coumaric range of production is expressed as mmol p-coumaric/g(DW)h. Using experimental data, we can establish the bounds for CYP73A reaction. Gao et al. (2021) performed different Synechocystis sp. PCC 6803 tests, where the cyanobacteria were cultured during 7 days (168 hours) reaching a OD730 of 1,4 and then the concentration of p-coumaric acid measured, with results in the range 130-200 mg/L. The DW concentration of bacteria can be calculated as 148 mg/L/OD730 (Du, 2016). Calculations to obtain the final values and results can be seen below."
   ]
  },
  {
   "cell_type": "code",
   "execution_count": 2,
   "id": "add9c27c",
   "metadata": {},
   "outputs": [
    {
     "name": "stdout",
     "output_type": "stream",
     "text": [
      "DW_concentration = 0.18352 g(DW)/L\n",
      "Coumaric_max_mmol/L 1.2195121951219512 mmol/L\n",
      "Coumaric_min_mmol/L 0.7926829268292683 mmol/L\n",
      "Productivity_max = 0.03955427834263397 mmol/g(DW)/h\n",
      "Productivity_min = 0.025710280922712082 mmol/g(DW)/h\n"
     ]
    }
   ],
   "source": [
    "DW_factor = 0.148 #g/L/OD730\n",
    "OD730 = 1.24 \n",
    "DW_concentration = DW_factor * OD730\n",
    "print('DW_concentration =', DW_concentration, 'g(DW)/L')\n",
    "Time = 168 #hours\n",
    "MW = 164 #g/mol\n",
    "Coumaric_max_g = 0.200 #g/l\n",
    "Coumaric_min_g = 0.130 #g/L\n",
    "Coumaric_max_mmol = Coumaric_max_g / MW * 1000 \n",
    "print('Coumaric_max_mmol/L', Coumaric_max_mmol, 'mmol/L')\n",
    "Coumaric_min_mmol = Coumaric_min_g / MW * 1000 \n",
    "print('Coumaric_min_mmol/L', Coumaric_min_mmol, 'mmol/L')\n",
    "Productivity_max=Coumaric_max_mmol/DW_concentration/Time\n",
    "Productivity_min=Coumaric_min_mmol/DW_concentration/Time\n",
    "print('Productivity_max =', Productivity_max, 'mmol/g(DW)/h') \n",
    "print('Productivity_min =', Productivity_min, 'mmol/g(DW)/h') "
   ]
  },
  {
   "cell_type": "code",
   "execution_count": 3,
   "id": "ca4d7441",
   "metadata": {},
   "outputs": [
    {
     "name": "stdout",
     "output_type": "stream",
     "text": [
      "Maximum p-coumaric = 3.4849238349761794e-05 mmol/g(DW)/h\n"
     ]
    }
   ],
   "source": [
    "with model as model:\n",
    "    model.objective=model.reactions.CYP73A\n",
    "    maximum_growth_hetero = model.optimize().objective_value #flux\n",
    "    print('Maximum p-coumaric =', maximum_growth_hetero, 'mmol/g(DW)/h')"
   ]
  },
  {
   "cell_type": "markdown",
   "id": "6312b952",
   "metadata": {},
   "source": [
    "As we can see, the difference between the experimental p-coumaric production and the one predicted by the model is very high. Thus,from this comparation can be concluded that the model needs a lot of manual curing and optimization to be able to predict the p-coumaric production and be realistic. However, in the next analysis we will use the predicted value as reference to see if p-coumaric production can be improved by genome editing techniques. \n",
    "\n",
    "### 3.2.2 Photon exchange analysis"
   ]
  },
  {
   "cell_type": "code",
   "execution_count": 4,
   "id": "1be7926e",
   "metadata": {},
   "outputs": [
    {
     "name": "stdout",
     "output_type": "stream",
     "text": [
      "Maximum photon exchange = 0.0 mmol/g(DW)/h\n",
      "Photon exchange bounds = (0.0, 0.0)\n"
     ]
    }
   ],
   "source": [
    "with model as model:\n",
    "    model.objective=model.reactions.EX_photon_e\n",
    "    maximum_growth_hetero = model.optimize().objective_value #flux\n",
    "    print('Maximum photon exchange =', maximum_growth_hetero, 'mmol/g(DW)/h')\n",
    "    print('Photon exchange bounds =', model.reactions.EX_photon_e.bounds)"
   ]
  },
  {
   "cell_type": "markdown",
   "id": "1c3103be",
   "metadata": {},
   "source": [
    "Photons are essential for any photosynthetic microorganism. The model doesn't consider photon exchange, as the bounds are set to 0. A bioenergetic assesment carried out by Touloupakis et al. (2015) showed that photon exchange flux in *Synechocystis* is ranged up to 95 mmol/g(DW)/h, being optimal at 50 mmol/g(DW)/h. Bounds are set as [-50, 0] for autotrophic conditions. \n",
    "\n",
    "### 3.2.3 Glucose update analysis"
   ]
  },
  {
   "cell_type": "code",
   "execution_count": 5,
   "id": "2bfeb7ab",
   "metadata": {},
   "outputs": [
    {
     "name": "stdout",
     "output_type": "stream",
     "text": [
      "Maximum glucose exchange = -0.85 mmol/g(DW)/h\n",
      "Photon exchange bounds = (-0.85, 999999.0)\n",
      "Maximum glucose exchange = -0.85 mmol/g(DW)/h\n",
      "Photon exchange bounds = (-0.85, 999999.0)\n"
     ]
    }
   ],
   "source": [
    "with model as model:\n",
    "    model.objective=model.reactions.BIOMASS_Ec_SynAuto_1\n",
    "    maximum_growth_hetero = model.optimize().objective_value #flux\n",
    "    glucose=model.reactions.EX_glc__D_e.flux\n",
    "    print('Maximum glucose exchange =', glucose, 'mmol/g(DW)/h')\n",
    "    print('Photon exchange bounds =', model.reactions.EX_glc__D_e.bounds)\n",
    "\n",
    "with model as model:\n",
    "    model.objective=model.reactions.BIOMASS_Ec_SynMixo_1\n",
    "    maximum_growth_hetero = model.optimize().objective_value #flux\n",
    "    glucose=model.reactions.EX_glc__D_e.flux\n",
    "    print('Maximum glucose exchange =', glucose, 'mmol/g(DW)/h')\n",
    "    print('Photon exchange bounds =', model.reactions.EX_glc__D_e.bounds)"
   ]
  },
  {
   "cell_type": "markdown",
   "id": "356ad732",
   "metadata": {},
   "source": [
    "Glucose uptake is done under heterotrophic and mixotrophic mode. Our model shows a glucose uptake rate of 0.85 mmol/g(DW)/h for both heterotrophic and mixotrophic modes. Metabolic flux analysis carried out by Yang (2002) shows that 0.85 and 0.38 are the rates for heterotrophic and mixotrophic modes, respectively. \n",
    "\n",
    "### 3.2.4 CO2 fixation (RuBisCO) analysis"
   ]
  },
  {
   "cell_type": "code",
   "execution_count": 6,
   "id": "a3557414",
   "metadata": {},
   "outputs": [
    {
     "name": "stdout",
     "output_type": "stream",
     "text": [
      "Maximum CO2 fixation rate = 71435.92738095239 mmol/g(DW)/h\n",
      "CO2 exchange bounds = (0.0, 999999.0)\n"
     ]
    }
   ],
   "source": [
    "with model as model:\n",
    "    model.objective=model.reactions.RBPC_1\n",
    "    co2fix = model.optimize().objective_value #flux\n",
    "    print('Maximum CO2 fixation rate =', co2fix, 'mmol/g(DW)/h')\n",
    "    print('CO2 exchange bounds =', model.reactions.RBPC_1.bounds)\n"
   ]
  },
  {
   "cell_type": "markdown",
   "id": "1de6c2c5",
   "metadata": {},
   "source": [
    "CO2 fixation is the main process that photosynthetic microorganisms use to obtain carbon. CO2 is incorporated to ribulose-1,5-biphosphate, in a reaction catalyzed by RuBisCO (RBPC_1). Thus, we use flux trhough RuBisCO as a way to measure CO2 fixation. The model predicts a optimized value that is too high, so bounds must be changed to perform model analysis. A characterization of *Synechocystis* sp- PC6803 carried out by Zavřel et al. (2017), showed CO2 fixation rate range to be 2.97 - 3.54 mmol(CO2)/g(DW)/h. Bounds are set as [2.97, 3.54] for autotrophic and mixotrophic conditions.\n",
    "\n",
    "\n",
    "## 3.2. Autotrophic, heterotrophic and mixotrophic comparation\n",
    "\n",
    "It has already been explained in the literature review of the cell factory section how *Synechocystis* sp. PCC6803 can switch between autotrophic, heterotrophic and mixotrophic metabolism. Our model considers this three metabolisms, and has a specific biomass reaction for each of them. By setting each biomass reaction as objective and optimizing the flux through it the model will measure the rest ofthe metabolic flux as autotrophic, mixotrophic or heterotrophic behaviour.\n",
    "In addition, some other paramenters are modified to optimize the metabolism mode simulation. The model doesn't consider flux through CO2 fixation and photon exchange, so specific RBPC_1 and EX_photon_e bounds are established using literature data."
   ]
  },
  {
   "cell_type": "code",
   "execution_count": 7,
   "id": "0bb055e8",
   "metadata": {},
   "outputs": [
    {
     "name": "stdout",
     "output_type": "stream",
     "text": [
      "Maximum growth = 0.17433033139528287 h-1\n",
      "Maximum productivity = 7.786812912192326e-05 mmol p-coumaric/gDW*h\n",
      "Maximum theoretical yield on co2 = 2.199664664461109e-05 mmol-p_coumaric/mmol-co2\n",
      "C-mmol Maximum theoretical yield on co2 = 0.0001979698198014998 c-mmol-p_coumaric/c-mmol-co2\n"
     ]
    }
   ],
   "source": [
    "#Autotrophic\n",
    "with model as model:\n",
    "    model.reactions.EX_photon_e.bounds = -50, 0\n",
    "    model.reactions.RBPC_1.bounds = 2.97, 3.54\n",
    "    model.objective=model.reactions.BIOMASS_Ec_SynAuto_1\n",
    "    maximum_growth_hetero = model.optimize().objective_value #flux\n",
    "    print('Maximum growth =', maximum_growth_hetero, 'h-1')\n",
    "    p_coumaric_production = model.reactions.CYP73A.flux\n",
    "    print('Maximum productivity =', p_coumaric_production, 'mmol p-coumaric/gDW*h')\n",
    "    maximum_yield_co2 = p_coumaric_production / (1*(model.reactions.RBPC_1.flux)) #yield calculations\n",
    "    print('Maximum theoretical yield on co2 =', maximum_yield_co2, 'mmol-p_coumaric/mmol-co2')\n",
    "    cmolmaximum_yield_co2 = p_coumaric_production*9 / (1*(model.reactions.RBPC_1.flux)) #yield calculations\n",
    "    print('C-mmol Maximum theoretical yield on co2 =', cmolmaximum_yield_co2, 'c-mmol-p_coumaric/c-mmol-co2')"
   ]
  },
  {
   "cell_type": "code",
   "execution_count": 8,
   "id": "77ef1709",
   "metadata": {},
   "outputs": [
    {
     "name": "stdout",
     "output_type": "stream",
     "text": [
      "Maximum growth = 0.07802010063372732 h-1\n",
      "Maximum productivity = 3.4849238350415784e-05 mmol p-coumaric/gDW*h\n",
      "Maximum theoretical yield on co2 = 1.173375028633528e-05 mmol-p_coumaric/mmol-co2\n",
      "Maximum theoretical yield on glucose = 4.099910394166563e-05 mmol-p-coumaric/mmol-glucose\n",
      "C-mmol Maximum theoretical yield on co2 = 0.00010560375257701752 c-mmol-p_coumaric/c-mmol-co2\n",
      "C-mmol Maximum theoretical yield on glucose = 6.149865591249844e-05 c-mmol-p-coumaric/c-mmol-glucose\n"
     ]
    }
   ],
   "source": [
    "#Mixotrophic\n",
    "with model as model:\n",
    "    model.reactions.RBPC_1.bounds = 2.97, 3.54\n",
    "    model.objective=model.reactions.BIOMASS_Ec_SynMixo_1\n",
    "    maximum_growth_mixo = model.optimize().objective_value #flux\n",
    "    print('Maximum growth =', maximum_growth_mixo, 'h-1')\n",
    "    p_coumaric_production = model.reactions.CYP73A.flux\n",
    "    print('Maximum productivity =', p_coumaric_production, 'mmol p-coumaric/gDW*h')\n",
    "    maximum_yield_co2 = p_coumaric_production / (1*(model.reactions.RBPC_1.flux)) #yield calculations\n",
    "    print('Maximum theoretical yield on co2 =', maximum_yield_co2, 'mmol-p_coumaric/mmol-co2')\n",
    "    maximum_yield_glucose = p_coumaric_production / (-1*(model.reactions.EX_glc__D_e.flux)) #yield calculations\n",
    "    print('Maximum theoretical yield on glucose =', maximum_yield_glucose, 'mmol-p-coumaric/mmol-glucose')\n",
    "    cmolmaximum_yield_co2 = p_coumaric_production*9 / (1*(model.reactions.RBPC_1.flux)) #yield calculations\n",
    "    print('C-mmol Maximum theoretical yield on co2 =', cmolmaximum_yield_co2, 'c-mmol-p_coumaric/c-mmol-co2')\n",
    "    cmolmaximum_yield_glucose = p_coumaric_production*9 / (-1*(model.reactions.EX_glc__D_e.flux)*6) #yield calculations\n",
    "    print('C-mmol Maximum theoretical yield on glucose =', cmolmaximum_yield_glucose, 'c-mmol-p-coumaric/c-mmol-glucose')"
   ]
  },
  {
   "cell_type": "code",
   "execution_count": 9,
   "id": "c1b23089",
   "metadata": {},
   "outputs": [
    {
     "name": "stdout",
     "output_type": "stream",
     "text": [
      "Maximum growth = 0.07802010063372736 h-1\n",
      "Maximum productivity = 3.484923835011394e-05 mmol p-coumaric/gDW*h\n",
      "Maximum theoretical yield on glucose = 4.099910394131052e-05 mmol-p-coumaric/mmol-glucose\n",
      "C-mmol Maximum theoretical yield on glucose = 6.149865591196579e-05 c-mmol-p-coumaric/c-mmol-glucose\n"
     ]
    }
   ],
   "source": [
    "#Heterotrophic\n",
    "with model as model:\n",
    "    model.reactions.RBPC_1.bounds = 0, 0\n",
    "    model.objective=model.reactions.BIOMASS_Ec_SynHetero_1\n",
    "    maximum_growth_hetero = model.optimize().objective_value #flux\n",
    "    print('Maximum growth =', maximum_growth_hetero, 'h-1')\n",
    "    p_coumaric_production = model.reactions.CYP73A.flux\n",
    "    print('Maximum productivity =', p_coumaric_production, 'mmol p-coumaric/gDW*h')\n",
    "    maximum_yield_glucose = p_coumaric_production / (-1*(model.reactions.EX_glc__D_e.flux)) #yield calculations\n",
    "    print('Maximum theoretical yield on glucose =', maximum_yield_glucose, 'mmol-p-coumaric/mmol-glucose')\n",
    "    cmolmaximum_yield_glucose = p_coumaric_production*9 / (-1*(model.reactions.EX_glc__D_e.flux)*6) #yield calculations\n",
    "    print('C-mmol Maximum theoretical yield on glucose =', cmolmaximum_yield_glucose, 'c-mmol-p-coumaric/c-mmol-glucose')"
   ]
  },
  {
   "cell_type": "markdown",
   "id": "d5c6bcee",
   "metadata": {},
   "source": [
    "### 3.2.1 Summary of growth model comparison\n",
    "\n",
    "|  | Max. growth (h-1) | Max. productivity (mmol/g(DW)/h)| Max. yield on glucose | Max yield on CO2 | C-mmol max yield on glucose | C-mmol max yield on CO2 |\n",
    "| :-: | :-: | :-: | :-: | :-: | :-: | :-: |\n",
    "| Autotrophic | 0.17 | 7.78E-5| --- | 2.62E-5 | --- | 2.35E-4 |\n",
    "| Mixootrophic | 0.078 |3.48E-5 | 4.09E-5 | 1.17E-5 | 6.14E-5 | 1.05E-4 |\n",
    "| Heterotrophic | 0.078 | 3.48E-5 | 4.09E-5 | --- |  6.14E-5 | --- |\n"
   ]
  },
  {
   "cell_type": "markdown",
   "id": "83f6594e",
   "metadata": {},
   "source": [
    "Results are very similar in the three conditions. Yang et al. (2002) reported a maximum heterotrophic and mixotrophic growth rate of 0.076 and 0.059 h-1, respectively. For the autotrophic growth rate, van Alphen et al. (2018) reported 0.16 h-1 under optimized light conditions, although standard conditions show 0.09 h-1. Thus, growth rates predicted by our models are in the range of literature data and are valid. \n",
    "\n",
    "p-coumaric production is equal to the result obtained for the optimization of CYP73A flux. In this sense, our model predicts a low p-coumaric production but this production remains constant when the biomass growth is optimized. Thus, the product can be biosynthesized under optimal growth conditions. \n",
    "\n",
    "Finally, C-mmol yields on glucose and CO2 show that CO2 asimilation leads to a higher c-mmol production of p-coumaric acid. Autotrophic mode is feasible in terms of sustainability, as more carbon from the external source end up in p-coumaric acid molecule than in heterotrophic or mixotrophic modes. "
   ]
  },
  {
   "cell_type": "code",
   "execution_count": null,
   "id": "351d2198",
   "metadata": {},
   "outputs": [],
   "source": []
  }
 ],
 "metadata": {
  "kernelspec": {
   "display_name": "Python 3 (ipykernel)",
   "language": "python",
   "name": "python3"
  },
  "language_info": {
   "codemirror_mode": {
    "name": "ipython",
    "version": 3
   },
   "file_extension": ".py",
   "mimetype": "text/x-python",
   "name": "python",
   "nbconvert_exporter": "python",
   "pygments_lexer": "ipython3",
   "version": "3.7.0"
  }
 },
 "nbformat": 4,
 "nbformat_minor": 5
}
