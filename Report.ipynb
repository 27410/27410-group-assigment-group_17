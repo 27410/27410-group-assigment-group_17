{
 "cells": [
  {
   "cell_type": "markdown",
   "metadata": {},
   "source": [
    "# Production of p-coumaric acid using *Synechocystis* sp. PCC 6803\n",
    "\n",
    "*Victor Buñuel – s212736, Ragna Eberhardt – s213623, Bence Kraskó – s212913, Tanmay Parekh – s210114, Christian Walsh – s213075*"
   ]
  },
  {
   "cell_type": "markdown",
   "metadata": {},
   "source": [
    "## 1. Introduction"
   ]
  },
  {
   "cell_type": "markdown",
   "metadata": {},
   "source": [
    "### 1.1 Literature review of the compound\n",
    "The phytochemical p-Coumaric acid is a phenolic acid and part of the hydroxycinnamic acid family. It is predominantly found in plants and mushrooms either in free or bound form (Pei et al., 2016). Coumaric acid occurs in three isomers which are derivates of cinnamic acid. The isomer p-Coumaric acid is the most abundant one in nature. p-Coumaric acid can be found in numerous edible plants such as in fruit like apples, tomatoes and berries, in vegetables like carrots and beans and in cereal such as wheat and maize (Boz, 2015). While in comparison the content of free p-Coumaric acid is low in plants, some mushroom species like *Cantharellus cibarius* or *Ganoderma lucidum* have a relatively high free p-Coumaric acid content. The natural biosynthesis of p-Coumaric acid is through the shikimate pathway which involves phenylalanine and tyrosine as precursors. In plants and mushrooms, tyrosine is converted into p-Coumaric acid by the enzyme tyrosine ammonia-lyase. p-Coumaric acid plays a crucial role in the secondary metabolism as it converts into phenolic acids, flavonoids, lignin precursors as well as other metabolites (Pei et al., 2016).\n",
    "\n",
    "Like other secondary metabolites, p-Coumaric acid is primarily produced by plants to protect them from stress. As a bioactive natural compound, it possesses a wide range of health benefits. And as a precursor of bioactive ingredients, it is valued for its numerous anti-inflammatory and antioxidant characteristics in the pharmaceutical, food, cosmetic and agricultural industry sectors (Gao et al., 2021). Besides that p-Coumaric acid also showed other bioactivities including antimutagenic, anti-ulcer, antiplatelet, and anti-cancer activities, as well as the ability to alleviate atherosclerosis, oxidative cardiac damage, UV-induced damage to ocular tissues, neuronal injury, anxiety, gout, and diabetes (Pei et al., 2016). p-Coumaric acid has also been found to be an inhibitor of human tyrosinase and its antimelanogenic effects have already been demonstrated in human studies. This makes it a promising natural skin-lightening agent in the cosmetic industry (Boo, 2019).\n",
    "\n",
    "For the biosynthesis of p-Coumaric acid, there are two relevant pathways that are both part of the phenylpropanoid biosynthesis. The first one involves tyrosine which is deaminated by the enzyme tyrosine ammonia-lyase (TAL). In the second one, phenylalanine is deaminated by phenylalanine ammonia-lyase (PAL) into trans-Cinnamic acid which is further converted into p-Coumaric acid by adding a hydroxyl group with the help of trans-cinnamate 4-monooxygenase (C4H). The biosynthesis of phenylpropanoids originates from the shared precursor Chorismate which is produced in the shikimate pathway by Phosphoenolpyruvate (PEP) and D-Erythrose 4-phosphate forming 3-Deoxy-arabino-heptulonate 7-phosphate (DAHP) which later converts to Chorismate. In the organism *Synechocystis*, p-Coumaric acid is synthesized by prephenate dehydratase (PheA) from Prephenate which converts further into phenylalanine, trans-Cinnamic acid and subsequently into p-Coumaric acid (Gao et al., 2021).\n"
   ]
  },
  {
   "cell_type": "markdown",
   "metadata": {},
   "source": [
    "### 1.2 Literature review of the cell factory\n",
    "Cyanobacteria are photosynthetic unicellular prokaryotic organisms that have been present on earth for the last 2.5 billion years (Brocks, 1999). Cyanobacteria are considered the firs oxygenic photosynthetic microorganisms contributing to oxygen production on Earth (Rasmussen, 2008). They can grow as individual cells, filamentus or colonies, creating big blooms that are visible (Catherine, 2013). \n",
    "\n",
    "*Synechocystis* sp. strain PCC6803 is one of the most studied cyanobacteria species, and it was first isolated from a lake in 1968 (Yu, 2013). Its genome size is 3.6 Mb, and it can be easily engineered. The genome of *Synechocystis* PCC6803 was sequenced by Kaneko et al. (1996), and it was the first genomic sequence obtained from a photosynthetic autotroph microorganism. *Synechocystis* PCC6803 can either use the Calvin cycle to fix CO2 as a photoautotrophic or use glycolysis to metabolize glucose as heterotrophic. It can also show a photoheterotrophic metabolism. However, cellular growth is around 8-fold higher in photoautotrophic (7-10 hours) than in heterotrophic metabolism (84 hours) (Yu, 2013).  Genetic modification studies shown that *Synechocystis* PCC6803 has a very plastic metabolism, being able to adapt from photoautotrophic to heterotrophic growing conditions (Vermaas, 1996). \n",
    "\n",
    "Cyanobacteria are very good potential cell factory platform because of its fast growth rate, the sustainable process when fixing CO2 and the easily engineered genome. There are also some challenges that must be solved in the future, such as low product titer, long biosynthesis process or production and scale-up costs (Yu, 2013). Cyanobacteria have been used for production of several biofuels such as ethanol, butanol or isobutanol (Nozzi, 2013); pharmaceutical bioactive compounds (Vijayakumar, 2015) and other chemical compound as polyketides, terpenes, alkaloids (Gademann, 2011). \n",
    "\n",
    "Different genome-scale metabolic models have addressed *Synechocystis* PCC6803. First genome-scale network was characterized by Shastri & Morgan (2005) using a Flux Balance Analysis (FBA). In order to improve the multiple solutions obtained with this first stoichiometric-based FBA model, other methods were used. Flux Coupling Finder (FCF) was used, in combination with transcriptomics, to elucidate the metabolic modifications that lead to change from autotrophic to heterotrophic metabolism as a respond to availability of light (Montagud, 2011). Recently, FBA has been used to build a new genomic-scale model with a better characterization of the photo-respiratory metabolism. Moreover, this model used Dynamic Flux Balance Analysis (DFBA) to consider the metabolic changes due to light-dark cycle (Joshi, 2017).  "
   ]
  },
  {
   "cell_type": "markdown",
   "metadata": {},
   "source": [
    "## 2. Problem definition (<300 words)"
   ]
  },
  {
   "cell_type": "markdown",
   "metadata": {},
   "source": [
    "## 3. *If Project category II:* Selection and assessment of existing GSM (<500 words)"
   ]
  },
  {
   "cell_type": "markdown",
   "metadata": {},
   "source": [
    "## 4. Computer-Aided Cell Factory Engineering (<1500 words if Category II project; <500 words for Category I project)"
   ]
  },
  {
   "cell_type": "markdown",
   "metadata": {},
   "source": [
    "## 5. Discussion (<500 words)"
   ]
  },
  {
   "cell_type": "markdown",
   "metadata": {},
   "source": [
    "## 6. Conclusion (<200 words)"
   ]
  },
  {
   "cell_type": "markdown",
   "metadata": {},
   "source": [
    "## References\n",
    ">Boo, Y. C. (2019). p-Coumaric Acid as An Active Ingredient in Cosmetics: A Review Focusing on its Antimelanogenic Effects. Antioxidants, 8(8), 275. https://doi.org/10.3390/antiox8080275\n",
    "\n",
    ">Boz, H. (2015). p -Coumaric acid in cereals: presence, antioxidant and antimicrobial effects. International Journal of Food Science & Technology, 50(11), 2323–2328. https://doi.org/10.1111/ijfs.12898\n",
    "\n",
    ">Brey, L. F., Włodarczyk, A. J., Thøfner, J. F. B., Burow, M., Crocoll, C., Nielsen, I., ... & Jensen, P. E. (2020). Metabolic engineering of *Synechocystis* sp. PCC 6803 for the production of aromatic amino acids and derived phenylpropanoids. Metabolic engineering, 57, 129-139.\n",
    "\n",
    ">Brocks, J. J., Logan, G. A., Buick, R., & Summons, R. E. (1999). Archean molecular fossils and the early rise of eukaryotes. science, 285(5430), 1033-1036.\n",
    "\n",
    ">Catherine, Q., Susanna, W., Isidora, E. S., Mark, H., Aurélie, V., & Jean-François, H. (2013). A review of current knowledge on toxic benthic freshwater cyanobacteria–ecology, toxin production and risk management. Water research, 47(15), 5464-5479.\n",
    "\n",
    ">Du, W., Jongbloets, J. A., Hernández, H. P., Bruggeman, F. J., Hellingwerf, K. J., & dos Santos, F. B. (2016). Photonfluxostat: a method for light-limited batch cultivation of cyanobacteria at different, yet constant, growth rates. Algal research, 20, 118-125.\n",
    "\n",
    ">Gademann K. (2011). Out in the green: biologically active metabolites produced by cyanobacteria. Chimia, 65(6), 416–419. https://doi.org/10.2533/chimia.2011.416\n",
    "\n",
    ">Gao, E. B., Kyere-Yeboah, K., Wu, J., & Qiu, H. (2021). Photoautotrophic production of p-Coumaric acid using genetically engineered *Synechocystis* sp. Pasteur Culture Collection 6803. Algal Research, 54, 102180. https://doi.org/10.1016/j.algal.2020.102180\n",
    "\n",
    ">Joshi, C. J., Peebles, C. A., & Prasad, A. (2017). Modeling and analysis of flux distribution and bioproduct formation in *Synechocystis* sp. PCC 6803 using a new genome-scale metabolic reconstruction. Algal research, 27, 295-310.\n",
    "\n",
    ">Kaneko, T., Sato, S., Kotani, H., Tanaka, A., Asamizu, E., Nakamura, Y., ... & Tabata, S. (1996). Sequence analysis of the genome of the unicellular cyanobacterium *Synechocystis* sp. strain PCC6803. II. Sequence determination of the entire genome and assignment of potential protein-coding regions. DNA research, 3(3), 109-136.\n",
    "\n",
    ">Montagud, A., Zelezniak, A., Navarro, E., de Córdoba, P. F., Urchueguía, J. F., & Patil, K. R. (2011). Flux coupling and transcriptional regulation within the metabolic network of the photosynthetic bacterium *Synechocystis* sp. PCC6803. Biotechnology journal, 6(3), 330-342.\n",
    "\n",
    ">Nozzi, N. E., Oliver, J. W., & Atsumi, S. (2013). Cyanobacteria as a platform for biofuel production. Frontiers in bioengineering and biotechnology, 1, 7.\n",
    "\n",
    ">Pei, K., Ou, J., Huang, J., & Ou, S. (2016). p -Coumaric acid and its conjugates: dietary sources, pharmacokinetic properties and biological activities. Journal of the Science of Food and Agriculture, 96(9), 2952–2962. https://doi.org/10.1002/jsfa.7578\n",
    "\n",
    ">Rasmussen, B., Fletcher, I. R., Brocks, J. J., & Kilburn, M. R. (2008). Reassessing the first appearance of eukaryotes and cyanobacteria. Nature, 455(7216), 1101-1104.\n",
    "\n",
    "> Shastri, A. A., & Morgan, J. A. (2005). Flux balance analysis of photoautotrophic metabolism. Biotechnology progress, 21(6), 1617-1626.\n",
    "\n",
    ">Touloupakis, E., Cicchi, B., & Torzillo, G. (2015). A bioenergetic assessment of photosynthetic growth of *Synechocystis* sp. PCC 6803 in continuous cultures. Biotechnology for biofuels, 8(1), 1-11.\n",
    "\n",
    ">Van Alphen, P., Abedini Najafabadi, H., Branco dos Santos, F., & Hellingwerf, K. J. (2018). Increasing the photoautotrophic growth rate of *Synechocystis* sp. PCC 6803 by identifying the limitations of its cultivation. Biotechnology journal, 13(8), 1700764.\n",
    "\n",
    ">Vermaas, W. (1996). Molecular genetics of the cyanobacterium *Synechocystis* sp. PCC 6803: Principles and possible biotechnology applications. Journal of Applied Phycology, 8(4), 263-273.\n",
    "\n",
    ">Vijayakumar, S., & Menakha, M. (2015). Pharmaceutical applications of cyanobacteria—A review. Journal of Acute Medicine, 5(1), 15-23.\n",
    "\n",
    ">Yang, C., Hua, Q., & Shimizu, K. (2002). Metabolic flux analysis in *Synechocystis* using isotope distribution from 13C-labeled glucose. Metabolic engineering, 4(3), 202-216.\n",
    "\n",
    ">Yu, Y., You, L., Liu, D., Hollinshead, W., Tang, Y. J., & Zhang, F. (2013). Development of *Synechocystis* sp. PCC 6803 as a phototrophic cell factory. Marine drugs, 11(8), 2894-2916.\n",
    "\n",
    ">Zavřel, T., Očenášová, P., & Červený, J. (2017). Phenotypic characterization of *Synechocystis* sp. PCC 6803 substrains reveals differences in sensitivity to abiotic stress. PLoS One, 12(12), e0189130.\n"
   ]
  },
  {
   "cell_type": "code",
   "execution_count": null,
   "metadata": {},
   "outputs": [],
   "source": []
  }
 ],
 "metadata": {
  "kernelspec": {
   "display_name": "Python 3 (ipykernel)",
   "language": "python",
   "name": "python3"
  },
  "language_info": {
   "codemirror_mode": {
    "name": "ipython",
    "version": 3
   },
   "file_extension": ".py",
   "mimetype": "text/x-python",
   "name": "python",
   "nbconvert_exporter": "python",
   "pygments_lexer": "ipython3",
   "version": "3.9.13"
  }
 },
 "nbformat": 4,
 "nbformat_minor": 4
}
