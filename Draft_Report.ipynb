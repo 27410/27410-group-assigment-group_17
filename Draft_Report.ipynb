{
 "cells": [
  {
   "cell_type": "code",
   "execution_count": null,
   "id": "927932fb-2b16-4149-88fd-acc88760be1e",
   "metadata": {},
   "outputs": [],
   "source": []
  },
  {
   "cell_type": "markdown",
   "id": "6efc8a65-f48f-42c9-accd-ec1b8f17ccc8",
   "metadata": {},
   "source": [
    "# p-Coumaric acid production in *Synechocystis* sp. PCC6803"
   ]
  },
  {
   "cell_type": "markdown",
   "id": "14beaf0e-cbfe-47f3-9d21-951724e6e922",
   "metadata": {},
   "source": [
    "#### Students\n",
    "\n",
    "Victor Buñuel Sorribas (s212736)\n",
    "\n",
    "\n",
    "\n"
   ]
  },
  {
   "cell_type": "markdown",
   "id": "44b78b88-7410-4eb8-b508-9828a25f3fa7",
   "metadata": {},
   "source": [
    "## 1. Introduction"
   ]
  },
  {
   "cell_type": "markdown",
   "id": "1403ce5c-752d-4507-aaa6-537d2c3bc0a6",
   "metadata": {},
   "source": [
    "### 1.1. Literature review of the compound"
   ]
  },
  {
   "cell_type": "markdown",
   "id": "eea4c186-c473-4f37-be82-f72f9c58a782",
   "metadata": {},
   "source": [
    "### 1.2. Literature review of the cell factory"
   ]
  },
  {
   "cell_type": "markdown",
   "id": "6a80e954-ece8-4cb0-a1df-6444377fd8b1",
   "metadata": {},
   "source": [
    "Cyanobacteria are photosynthetic unicellular prokaryotic organisms that have been present on earth for the last 2.5 billion years (Brocks, 1999). Cyanobacteria are considered the firs oxygenic photosynthetic microorganisms contributing to oxygen production on Earth (Rasmussen, 2008). They can grow as individual cells, filamentus or colonies, creating big blooms that are visible (Catherine, 2013). \n",
    "\n",
    "Synechocystis sp. strain PCC6803 is one of the most studied cyanobacteria species, and it was first isolated from a lake in 1968 (Yu, 2013). Its genome size is 3.6 Mb, and it can be easily engineered. The genome of Synechocystis PCC6803 was sequenced by Kaneko et al. (1996), and it was the first genomic sequence obtained from a photosynthetic autotroph microorganism. Synechocystis PCC6803 can either use the Calvin cycle to fix CO2 as a photoautotrophic or use glycolysis to metabolize glucose as heterotrophic. It can also show a photoheterotrophic metabolism. However, cellular growth is around 8-fold higher in photoautotrophic (7-10 hours) than in heterotrophic metabolism (84 hours) (Yu, 2013).  Genetic modification studies shown that Synechocystis PCC6803 has a very plastic metabolism, being able to adapt from photoautotrophic to heterotrophic growing conditions (Vermaas, 1996). \n",
    "\n",
    "Cyanobacteria are very good potential cell factory platform because of its fast growth rate, the sustainable process when fixing CO2 and the easily engineered genome. There are also some challenges that must be solved in the future, such as low product titer, long biosynthesis process or production and scale-up costs (Yu, 2013). Cyanobacteria have been used for production of several biofuels such as ethanol, butanol or isobutanol (Nozzi, 2013); pharmaceutical bioactive compounds (Vijayakumar, 2015) and other chemical compound as polyketides, terpenes, alkaloids (Gademann, 2011). \n",
    "\n",
    "Different genome-scale metabolic models have addressed Synechocystis PCC6803. First genome-scale network was characterized by Shastri & Morgan (2005) using a Flux Balance Analysis (FBA). In order to improve the multiple solutions obtained with this first stoichiometric-based FBA model, other methods were used. Flux Coupling Finder (FCF) was used, in combination with transcriptomics, to elucidate the metabolic modifications that lead to change from autotrophic to heterotrophic metabolism as a respond to availability of light (Montagud, 2011). Recently, FBA has been used to build a new genomic-scale model with a better characterization of the photo-respiratory metabolism. Moreover, this model used Dynamic Flux Balance Analysis (DFBA) to consider the metabolic changes due to light-dark cycle (Joshi, 2017).  \n"
   ]
  },
  {
   "cell_type": "markdown",
   "id": "ca05d409-1878-492a-9d98-3bd0d672193e",
   "metadata": {},
   "source": [
    "## 2. Problem definition"
   ]
  },
  {
   "cell_type": "markdown",
   "id": "deb9ea12-f0f1-4210-b188-d47eaa46c346",
   "metadata": {},
   "source": [
    "## 3. Selection and assessment of existing GSM"
   ]
  },
  {
   "cell_type": "code",
   "execution_count": 640,
   "id": "3a277616-2272-4e97-a3a0-94e16988c8b6",
   "metadata": {},
   "outputs": [],
   "source": [
    "import pytest"
   ]
  },
  {
   "cell_type": "code",
   "execution_count": 641,
   "id": "0e471b90-dfb3-4964-9bf4-129600d86b74",
   "metadata": {},
   "outputs": [],
   "source": [
    "import hashlib\n",
    "import numpy as np\n",
    "from cobra.io import read_sbml_model\n",
    "from cobra.util import create_stoichiometric_matrix\n",
    "from cobra import Reaction, Metabolite"
   ]
  },
  {
   "cell_type": "code",
   "execution_count": 642,
   "id": "d12f23f6-2d47-4494-8042-1ee80257ef31",
   "metadata": {},
   "outputs": [
    {
     "name": "stderr",
     "output_type": "stream",
     "text": [
      "No objective coefficients in model. Unclear what should be optimized\n"
     ]
    }
   ],
   "source": [
    "model = read_sbml_model('iSynCJ816knock.xml')"
   ]
  },
  {
   "cell_type": "code",
   "execution_count": 643,
   "id": "cf2d886f-70e5-46e5-b524-87afcbd03898",
   "metadata": {},
   "outputs": [],
   "source": [
    "#adding the metabolites (from KEGG, according to the article)\n"
   ]
  },
  {
   "cell_type": "code",
   "execution_count": 644,
   "id": "add8e5b2-165a-47a3-8630-31bd4b55866a",
   "metadata": {},
   "outputs": [],
   "source": [
    "trans_Cinnamate = Metabolite(id = 'TRCI', compartment='c', name='trans-Cinnamate', formula='C9H8O2')"
   ]
  },
  {
   "cell_type": "code",
   "execution_count": 645,
   "id": "f3044fdf-3928-4f8f-b4d9-e89e47876c47",
   "metadata": {},
   "outputs": [],
   "source": [
    "p_Coumaric_acid = Metabolite(id = 'PCOU', compartment='c', name='p-Coumaric acid', formula='C9H8O3')"
   ]
  },
  {
   "cell_type": "code",
   "execution_count": 646,
   "id": "5a4f3dc3-dcb8-4d6c-9c6a-e950824bf72a",
   "metadata": {},
   "outputs": [],
   "source": [
    "#adding the reactions"
   ]
  },
  {
   "cell_type": "code",
   "execution_count": 647,
   "id": "b794c6e2-c44b-4312-b12d-71f097c8b32f",
   "metadata": {},
   "outputs": [],
   "source": [
    "phenylalanine_ammonia_lyase = Reaction('PAL')"
   ]
  },
  {
   "cell_type": "code",
   "execution_count": 648,
   "id": "1039d882-6a78-4559-8cf3-d90e2b5626c0",
   "metadata": {},
   "outputs": [],
   "source": [
    "trans_cinnamate_4_monooxygenase = Reaction('CYP73A')"
   ]
  },
  {
   "cell_type": "code",
   "execution_count": 649,
   "id": "b6ec2b87-fee1-48ef-a262-36e9c23d2ec6",
   "metadata": {},
   "outputs": [],
   "source": [
    "#adding the metabolites into the reactions"
   ]
  },
  {
   "cell_type": "code",
   "execution_count": 650,
   "id": "f88537b9-b824-4635-af25-102787cde37b",
   "metadata": {},
   "outputs": [],
   "source": [
    "phenylalanine_ammonia_lyase.add_metabolites(({model.metabolites.phe__L_c : -1,  \n",
    "                              trans_Cinnamate: 1, \n",
    "                              model.metabolites.nh3_c: 1, \n",
    "                            }))"
   ]
  },
  {
   "cell_type": "code",
   "execution_count": 651,
   "id": "405e15e8-ac75-4397-b451-96590b3df63b",
   "metadata": {},
   "outputs": [],
   "source": [
    "trans_cinnamate_4_monooxygenase.add_metabolites(({model.metabolites.o2_c : -1,\n",
    "                                                  trans_Cinnamate: -1,\n",
    "                                                  model.metabolites.nadph_c : -1,\n",
    "                                                  p_Coumaric_acid: 1,\n",
    "                                                  model.metabolites.h2o_c: 1,\n",
    "                                                  model.metabolites.nadph_c : 1,\n",
    "                                                 }))"
   ]
  },
  {
   "cell_type": "code",
   "execution_count": 652,
   "id": "374d54b4-edfc-4bff-8214-7650f2488def",
   "metadata": {},
   "outputs": [],
   "source": [
    "#Adding the reactions to the model:\n",
    "model.add_reactions([phenylalanine_ammonia_lyase])\n",
    "model.add_reactions([trans_cinnamate_4_monooxygenase])"
   ]
  },
  {
   "cell_type": "code",
   "execution_count": 653,
   "id": "08037fd1-42c4-4ee7-9012-e0ea1b94ac10",
   "metadata": {},
   "outputs": [
    {
     "data": {
      "text/html": [
       "\n",
       "        <table>\n",
       "            <tr>\n",
       "                <td><strong>Reaction identifier</strong></td><td>DM_PCOU</td>\n",
       "            </tr><tr>\n",
       "                <td><strong>Name</strong></td><td>p-Coumaric acid demand</td>\n",
       "            </tr><tr>\n",
       "                <td><strong>Memory address</strong></td>\n",
       "                <td>0x2a9f0037a00</td>\n",
       "            </tr><tr>\n",
       "                <td><strong>Stoichiometry</strong></td>\n",
       "                <td>\n",
       "                    <p style='text-align:right'>PCOU --></p>\n",
       "                    <p style='text-align:right'>p-Coumaric acid --></p>\n",
       "                </td>\n",
       "            </tr><tr>\n",
       "                <td><strong>GPR</strong></td><td></td>\n",
       "            </tr><tr>\n",
       "                <td><strong>Lower bound</strong></td><td>0</td>\n",
       "            </tr><tr>\n",
       "                <td><strong>Upper bound</strong></td><td>1000.0</td>\n",
       "            </tr>\n",
       "        </table>\n",
       "        "
      ],
      "text/plain": [
       "<Reaction DM_PCOU at 0x2a9f0037a00>"
      ]
     },
     "execution_count": 653,
     "metadata": {},
     "output_type": "execute_result"
    }
   ],
   "source": [
    "model.add_boundary(model.metabolites.TRCI, type='demand')\n",
    "model.add_boundary(model.metabolites.PCOU, type='demand')"
   ]
  },
  {
   "cell_type": "markdown",
   "id": "5a34754b-bc93-4a7e-a5d9-df31ee3b3463",
   "metadata": {},
   "source": [
    "\n",
    "\n",
    "\n",
    "### 3.¿? Study of important fluxes\n",
    "\n",
    "***p-coumaric production analysis***\n",
    "\n",
    "p-coumaric range of production is expressed as mmol p-coumaric/g(DW)h. Using experimental data, we can establish the bounds for CYP73A reaction. Gao et al. (2021) performed different Synechocystis sp. PCC 6803 tests, where the cyanobacteria were cultured during 7 days (168 hours) reaching a OD730 of 1,4 and then the concentration of p-coumaric acid measured, with results in the range 130-200 mg/L. The DW concentration of bacteria can be calculated as 148 mg/L/OD730 (Du, 2016). Calculations to obtain the final values and results can be seen below."
   ]
  },
  {
   "cell_type": "code",
   "execution_count": 654,
   "id": "81284e40-9518-4709-bc6a-9d9c6582f5af",
   "metadata": {},
   "outputs": [
    {
     "name": "stdout",
     "output_type": "stream",
     "text": [
      "DW_concentration = 0.18352 g(DW)/L\n",
      "Coumaric_max_mmol/L 1.2195121951219512 mmol/L\n",
      "Coumaric_min_mmol/L 0.7926829268292683 mmol/L\n",
      "Productivity_max = 0.03955427834263397 mmol/g(DW)/h\n",
      "Productivity_min = 0.025710280922712082 mmol/g(DW)/h\n"
     ]
    }
   ],
   "source": [
    "DW_factor = 0.148 #g/L/OD730\n",
    "OD730 = 1.24 \n",
    "DW_concentration = DW_factor * OD730\n",
    "print('DW_concentration =', DW_concentration, 'g(DW)/L')\n",
    "Time = 168 #hours\n",
    "MW = 164 #g/mol\n",
    "Coumaric_max_g = 0.200 #g/l\n",
    "Coumaric_min_g = 0.130 #g/L\n",
    "Coumaric_max_mmol = Coumaric_max_g / MW * 1000 \n",
    "print('Coumaric_max_mmol/L', Coumaric_max_mmol, 'mmol/L')\n",
    "Coumaric_min_mmol = Coumaric_min_g / MW * 1000 \n",
    "print('Coumaric_min_mmol/L', Coumaric_min_mmol, 'mmol/L')\n",
    "Productivity_max=Coumaric_max_mmol/DW_concentration/Time\n",
    "Productivity_min=Coumaric_min_mmol/DW_concentration/Time\n",
    "print('Productivity_max =', Productivity_max, 'mmol/g(DW)/h') \n",
    "print('Productivity_min =', Productivity_min, 'mmol/g(DW)/h') "
   ]
  },
  {
   "cell_type": "code",
   "execution_count": 655,
   "id": "d03eb8de-f7c7-41b6-a42d-578ff140f584",
   "metadata": {},
   "outputs": [
    {
     "name": "stdout",
     "output_type": "stream",
     "text": [
      "Maximum p-coumaric = 3.484935297244293e-05 mmol/g(DW)/h\n"
     ]
    }
   ],
   "source": [
    "with model as model:\n",
    "    model.objective=model.reactions.CYP73A\n",
    "    maximum_growth_hetero = model.optimize().objective_value #flux\n",
    "    print('Maximum p-coumaric =', maximum_growth_hetero, 'mmol/g(DW)/h')"
   ]
  },
  {
   "cell_type": "markdown",
   "id": "d5116be7-d6c4-45cc-b04b-c8a8ad21ccd7",
   "metadata": {},
   "source": [
    "As we can see, the difference between the experimental p-coumaric production and the one predicted by the model is very high. Thus,from this comparation can be concluded that the model needs a lot of manual curing and optimization to be able to predict the p-coumaric production and be realistic. However, in the next analysis we will use the predicted value as reference to see if p-coumaric production can be improved by genome editing techniques. "
   ]
  },
  {
   "cell_type": "markdown",
   "id": "f624f895-2f9c-4188-aa7f-cc69e3e2cbfb",
   "metadata": {},
   "source": [
    "***Photon exchange analysis***"
   ]
  },
  {
   "cell_type": "code",
   "execution_count": 656,
   "id": "f21f7b8f-3903-4e81-95bc-6d50cb39563a",
   "metadata": {},
   "outputs": [
    {
     "name": "stdout",
     "output_type": "stream",
     "text": [
      "Maximum photon exchange = 0.0 mmol/g(DW)/h\n",
      "Photon exchange bounds = (0.0, 0.0)\n"
     ]
    }
   ],
   "source": [
    "with model as model:\n",
    "    model.objective=model.reactions.EX_photon_e\n",
    "    maximum_growth_hetero = model.optimize().objective_value #flux\n",
    "    print('Maximum photon exchange =', maximum_growth_hetero, 'mmol/g(DW)/h')\n",
    "    print('Photon exchange bounds =', model.reactions.EX_photon_e.bounds)"
   ]
  },
  {
   "cell_type": "markdown",
   "id": "e76dab0b-3429-49ce-84af-3c88c43425aa",
   "metadata": {},
   "source": [
    "Photons are essential for any photosynthetic microorganism. The model doesn't consider photon exchange, as the bounds are set to 0. A bioenergetic assesment carried out by Touloupakis et al. (2015) showed that photon exchange flux in *Synechocystis* is ranged up to 95 mmol/g(DW)/h, being optimal at 50 mmol/g(DW)/h. Bounds are set as [-50, 0] for autotrophic conditions. "
   ]
  },
  {
   "cell_type": "markdown",
   "id": "f95059d5-54b2-48d4-a749-4bfcaf308536",
   "metadata": {},
   "source": [
    "***Glucose uptake analysis***"
   ]
  },
  {
   "cell_type": "code",
   "execution_count": 680,
   "id": "1ecd317a-707f-4e4c-8682-63cb80d5e663",
   "metadata": {},
   "outputs": [
    {
     "name": "stdout",
     "output_type": "stream",
     "text": [
      "Maximum glucose exchange = -0.85 mmol/g(DW)/h\n",
      "Photon exchange bounds = (-0.85, 999999.0)\n"
     ]
    }
   ],
   "source": [
    "with model as model:\n",
    "    model.objective=model.reactions.BIOMASS_Ec_SynAuto_1\n",
    "    maximum_growth_hetero = model.optimize().objective_value #flux\n",
    "    glucose=model.reactions.EX_glc__D_e.flux\n",
    "    print('Maximum glucose exchange =', glucose, 'mmol/g(DW)/h')\n",
    "    print('Photon exchange bounds =', model.reactions.EX_glc__D_e.bounds)"
   ]
  },
  {
   "cell_type": "code",
   "execution_count": 693,
   "id": "e7f32f9f-ed9c-4214-bc3e-540063553112",
   "metadata": {},
   "outputs": [
    {
     "name": "stdout",
     "output_type": "stream",
     "text": [
      "Maximum glucose exchange = -0.85 mmol/g(DW)/h\n",
      "Photon exchange bounds = (-0.85, 999999.0)\n"
     ]
    }
   ],
   "source": [
    "with model as model:\n",
    "    model.objective=model.reactions.BIOMASS_Ec_SynMixo_1\n",
    "    maximum_growth_hetero = model.optimize().objective_value #flux\n",
    "    glucose=model.reactions.EX_glc__D_e.flux\n",
    "    print('Maximum glucose exchange =', glucose, 'mmol/g(DW)/h')\n",
    "    print('Photon exchange bounds =', model.reactions.EX_glc__D_e.bounds)"
   ]
  },
  {
   "cell_type": "markdown",
   "id": "323c6787-0db4-4438-8e54-03c38d041b84",
   "metadata": {},
   "source": [
    "Glucose uptake is done under heterotrophic and mixotrophic mode. Our model shows a glucose uptake rate of 0.85 mmol/g(DW)/h for both heterotrophic and mixotrophic modes. Metabolic flux analysis carried out by Yang (2002) shows that 0.85 and 0.38 are the rates for heterotrophic and mixotrophic modes, respectively. "
   ]
  },
  {
   "cell_type": "markdown",
   "id": "bd6e470e-9aa0-4a84-a93c-bb95a5a4c037",
   "metadata": {},
   "source": [
    "***CO2 fixation (RuBisCO) analysis***"
   ]
  },
  {
   "cell_type": "code",
   "execution_count": 705,
   "id": "da861f03-34ca-48fb-b1d6-41b80f6f59a0",
   "metadata": {},
   "outputs": [
    {
     "name": "stdout",
     "output_type": "stream",
     "text": [
      "Maximum CO2 fixation rate = 71435.92738095242 mmol/g(DW)/h\n",
      "CO2 exchange bounds = (0.0, 999999.0)\n"
     ]
    }
   ],
   "source": [
    "with model as model:\n",
    "    model.objective=model.reactions.RBPC_1\n",
    "    co2fix = model.optimize().objective_value #flux\n",
    "    print('Maximum CO2 fixation rate =', co2fix, 'mmol/g(DW)/h')\n",
    "    print('CO2 exchange bounds =', model.reactions.RBPC_1.bounds)\n"
   ]
  },
  {
   "cell_type": "markdown",
   "id": "38001836-f5d7-459d-b213-6e049456da23",
   "metadata": {},
   "source": [
    "CO2 fixation is the main process that photosynthetic microorganisms use to obtain carbon. CO2 is incorporated to ribulose-1,5-biphosphate, in a reaction catalyzed by RuBisCO (RBPC_1). Thus, we use flux trhough RuBisCO as a way to measure CO2 fixation. The model predicts a optimized value that is too high, so bounds must be changed to perform model analysis. A characterization of *Synechocystis* sp- PC6803 carried out by Zavřel et al. (2017), showed CO2 fixation rate range to be 2.97 - 3.54 mmol(CO2)/g(DW)/h. Bounds are set as [2.97, 3.54] for autotrophic and mixotrophic conditions."
   ]
  },
  {
   "cell_type": "markdown",
   "id": "bff37ddd-9fd3-4d8f-b692-7c845cc18510",
   "metadata": {},
   "source": [
    "\n",
    "### 3.2. Autotrophic, heterotrophic and mixotrophic comparation\n",
    "\n",
    "It has already been explained in the literature review of the cell factory section how *Synechocystis* sp. PCC6803 can switch between autotrophic, heterotrophic and mixotrophic metabolism. Our model considers this three metabolisms, and has a specific biomass reaction for each of them. By setting each biomass reaction as objective and optimizing the flux through it the model will measure the rest ofthe metabolic flux as autotrophic, mixotrophic or heterotrophic behaviour.\n",
    "In addition, some other paramenters are modified to optimize the metabolism mode simulation. The model doesn't consider flux through CO2 fixation and photon exchange, so specific RBPC_1 and EX_photon_e bounds are established using literature data."
   ]
  },
  {
   "cell_type": "code",
   "execution_count": 685,
   "id": "7576c3d6-266d-4824-9bfc-82ddde13960f",
   "metadata": {},
   "outputs": [
    {
     "name": "stdout",
     "output_type": "stream",
     "text": [
      "Maximum growth = 0.17433033139529122 h-1\n",
      "Maximum productivity = 7.78681291198624e-05 mmol p-coumaric/gDW*h\n",
      "Maximum theoretical yield on co2 = 2.6218225292882964e-05 mmol-p_coumaric/mmol-co2\n",
      "C-mmol Maximum theoretical yield on co2 = 0.00023596402763594666 c-mmol-p_coumaric/c-mmol-co2\n"
     ]
    }
   ],
   "source": [
    "#Autotrophic\n",
    "with model as model:\n",
    "    model.reactions.EX_photon_e.bounds = -50, 0\n",
    "    model.reactions.RBPC_1.bounds = 2.97, 3.54\n",
    "    model.objective=model.reactions.BIOMASS_Ec_SynAuto_1\n",
    "    maximum_growth_hetero = model.optimize().objective_value #flux\n",
    "    print('Maximum growth =', maximum_growth_hetero, 'h-1')\n",
    "    p_coumaric_production = model.reactions.CYP73A.flux\n",
    "    print('Maximum productivity =', p_coumaric_production, 'mmol p-coumaric/gDW*h')\n",
    "    maximum_yield_co2 = p_coumaric_production / (1*(model.reactions.RBPC_1.flux)) #yield calculations\n",
    "    print('Maximum theoretical yield on co2 =', maximum_yield_co2, 'mmol-p_coumaric/mmol-co2')\n",
    "    cmolmaximum_yield_co2 = p_coumaric_production*9 / (1*(model.reactions.RBPC_1.flux)) #yield calculations\n",
    "    print('C-mmol Maximum theoretical yield on co2 =', cmolmaximum_yield_co2, 'c-mmol-p_coumaric/c-mmol-co2')"
   ]
  },
  {
   "cell_type": "code",
   "execution_count": 686,
   "id": "470da0b0-5eb6-40cf-9b0d-440523744130",
   "metadata": {},
   "outputs": [
    {
     "name": "stdout",
     "output_type": "stream",
     "text": [
      "Maximum growth = 0.17777590204169774 h-1\n",
      "Maximum productivity = 7.940716216598559e-05 mmol p-coumaric/gDW*h\n",
      "Maximum theoretical yield on co2 = 2.6141374371291162e-05 mmol-p_coumaric/mmol-co2\n",
      "Maximum theoretical yield on glucose = 9.342019078351247e-05 mmol-p-coumaric/mmol-glucose\n",
      "C-mmol Maximum theoretical yield on co2 = 0.00023527236934162046 c-mmol-p_coumaric/c-mmol-co2\n",
      "C-mmol Maximum theoretical yield on glucose = 0.0001401302861752687 c-mmol-p-coumaric/c-mmol-glucose\n"
     ]
    }
   ],
   "source": [
    "#Mixotrophic\n",
    "with model as model:\n",
    "    model.reactions.RBPC_1.bounds = 2.97, 3.54\n",
    "    model.objective=model.reactions.BIOMASS_Ec_SynMixo_1\n",
    "    maximum_growth_mixo = model.optimize().objective_value #flux\n",
    "    print('Maximum growth =', maximum_growth_mixo, 'h-1')\n",
    "    p_coumaric_production = model.reactions.CYP73A.flux\n",
    "    print('Maximum productivity =', p_coumaric_production, 'mmol p-coumaric/gDW*h')\n",
    "    maximum_yield_co2 = p_coumaric_production / (1*(model.reactions.RBPC_1.flux)) #yield calculations\n",
    "    print('Maximum theoretical yield on co2 =', maximum_yield_co2, 'mmol-p_coumaric/mmol-co2')\n",
    "    maximum_yield_glucose = p_coumaric_production / (-1*(model.reactions.EX_glc__D_e.flux)) #yield calculations\n",
    "    print('Maximum theoretical yield on glucose =', maximum_yield_glucose, 'mmol-p-coumaric/mmol-glucose')\n",
    "    cmolmaximum_yield_co2 = p_coumaric_production*9 / (1*(model.reactions.RBPC_1.flux)) #yield calculations\n",
    "    print('C-mmol Maximum theoretical yield on co2 =', cmolmaximum_yield_co2, 'c-mmol-p_coumaric/c-mmol-co2')\n",
    "    cmolmaximum_yield_glucose = p_coumaric_production*9 / (-1*(model.reactions.EX_glc__D_e.flux)*6) #yield calculations\n",
    "    print('C-mmol Maximum theoretical yield on glucose =', cmolmaximum_yield_glucose, 'c-mmol-p-coumaric/c-mmol-glucose')"
   ]
  },
  {
   "cell_type": "code",
   "execution_count": 660,
   "id": "8c071136-6738-49aa-845f-985c54b25279",
   "metadata": {},
   "outputs": [
    {
     "name": "stdout",
     "output_type": "stream",
     "text": [
      "Maximum growth = 0.07802010063372698 h-1\n",
      "Maximum productivity = 3.484923835037974e-05 mmol p-coumaric/gDW*h\n",
      "Maximum theoretical yield on glucose = 4.0999103941623224e-05 mmol-p-coumaric/mmol-glucose\n",
      "C-mmol Maximum theoretical yield on glucose = 6.149865591243484e-05 c-mmol-p-coumaric/c-mmol-glucose\n"
     ]
    }
   ],
   "source": [
    "#Heterotrophic\n",
    "with model as model:\n",
    "    model.reactions.RBPC_1.bounds = 0, 0\n",
    "    model.objective=model.reactions.BIOMASS_Ec_SynHetero_1\n",
    "    maximum_growth_hetero = model.optimize().objective_value #flux\n",
    "    print('Maximum growth =', maximum_growth_hetero, 'h-1')\n",
    "    p_coumaric_production = model.reactions.CYP73A.flux\n",
    "    print('Maximum productivity =', p_coumaric_production, 'mmol p-coumaric/gDW*h')\n",
    "    maximum_yield_glucose = p_coumaric_production / (-1*(model.reactions.EX_glc__D_e.flux)) #yield calculations\n",
    "    print('Maximum theoretical yield on glucose =', maximum_yield_glucose, 'mmol-p-coumaric/mmol-glucose')\n",
    "    cmolmaximum_yield_glucose = p_coumaric_production*9 / (-1*(model.reactions.EX_glc__D_e.flux)*6) #yield calculations\n",
    "    print('C-mmol Maximum theoretical yield on glucose =', cmolmaximum_yield_glucose, 'c-mmol-p-coumaric/c-mmol-glucose')"
   ]
  },
  {
   "cell_type": "markdown",
   "id": "2029a7c6-6c23-4ee6-afee-e8166881a4aa",
   "metadata": {},
   "source": [
    "##### Results\n",
    "\n",
    "|  | Max. growth (h-1) | Max. productivity (mmol/g(DW)/h)| Max. yield on glucose | Max yield on CO2 | C-mmol max yield on glucose | C-mmol max yield on CO2 |\n",
    "| :-: | :-: | :-: | :-: | :-: | :-: | :-: |\n",
    "| Autotrophic | 0.17 | 7.78E-5| --- | 2.62E-5 | --- | 2.35E-4 |\n",
    "| Mixootrophic | 0.078 |3.48E-5 | 4.09E-5 | 1.17E-5 | 6.14E-5 | 1.05E-4 |\n",
    "| Heterotrophic | 0.078 | 3.48E-5 | 4.09E-5 | --- |  6.14E-5 | --- |\n"
   ]
  },
  {
   "cell_type": "markdown",
   "id": "7f29c9dc-b499-4752-baed-6fb6c50d8e0e",
   "metadata": {},
   "source": [
    "Results are very similar in the three conditions. Yang et al. (2002) reported a maximum heterotrophic and mixotrophic growth rate of 0.076 and 0.059 h-1, respectively. For the autotrophic growth rate, van Alphen et al. (2018) reported 0.16 h-1 under optimized light conditions, although standard conditions show 0.09 h-1. Thus, growth rates predicted by our models are in the range of literature data and are valid. \n",
    "\n",
    "p-coumaric production is equal to the result obtained for the optimization of CYP73A flux. In this sense, our model predicts a low p-coumaric production but this production remains constant when the biomass growth is optimized. Thus, the product can be biosynthesized under optimal growth conditions. \n",
    "\n",
    "Finally, C-mmol yields on glucose and CO2 show that CO2 asimilation leads to a higher c-mmol production of p-coumaric acid. Autotrophic mode is feasible in terms of sustainability, as more carbon from the external source end up in p-coumaric acid molecule than in heterotrophic or mixotrophic modes. "
   ]
  },
  {
   "cell_type": "markdown",
   "id": "f2032962-332b-4926-99a8-8d0a9701a9a1",
   "metadata": {},
   "source": [
    "## 4. Computer-Aided Cell Factory Engineering\n",
    "\n",
    "We will focus the cell-factory engineering on metabolic engineering strategies to increase p-coumaric production. First, the main metabolic pathways leading to p-coumaric synthesis were analysed, using KEGG to browse the following specific *Synechocystis* sp. PCC6803 pathways: Aromatic aminoacids metabolism (https://www.genome.jp/pathway/syn00400) and phenylalanine metabolism (https://www.genome.jp/pathway/syn00360). Two strategies will be addressed: phenylalanine flux optimization and addition of new biosynthetic pathways. \n",
    "\n",
    "### 4.1. p-coumaric flux optimization: PPOR and PPND knockout\n",
    "\n",
    "Two different knockout strategies were tested to optimize p-coumaric flux. Knocout targets were selected based on KEGG pathways metabolic analysis and similar experiments from literature. These knockouts would theoretically reduce competition and would redirect more carbon to p-coumaric production pathway. \n",
    "\n",
    "The phenylpyruvate oxidoreductase (PPOR) is an enzyme catalyzing the conversion of phenylpyruvate into 2-hydroxyphenylacetate. Phenylpyruvate is the precursor of phenylalanine, so in theory PPOR knockout would increase the flux through phenylalanine biosynthesis. \n",
    "\n",
    "The prephenate dehydrogenase (PPND) catalyzes the conversion of prephenate into 3-4-Hydroxyphenylpiruvate, which will be converted into tyrosine by tyrosine transaminase (TYRTA) in the next reaction. Knockout of tyrosine biosynthetic enzyme genes has shown to increase flux through p-coumaric production without disturbing *Synechocystis* metabolism (Gao, 2021). Hence, we decided to knockout PPND. "
   ]
  },
  {
   "cell_type": "code",
   "execution_count": 689,
   "id": "80f5550d-1dad-4aae-a92f-7db5dd7b1d21",
   "metadata": {},
   "outputs": [
    {
     "name": "stdout",
     "output_type": "stream",
     "text": [
      "PPND's bounds inside the with statement:\n",
      "0 (0, 0)\n",
      "PPOR's bounds inside the with statement:\n",
      "0 (0, 0)\n",
      "Maximum growth = 3.432938797288907e-17 h-1\n",
      "Maximum productivity = 4.519548762969066e-15 mmol p-coumaric/gDW*h\n",
      "Maximum theoretical yield on co2 = 1.5217335902252745e-15 mmol-p_coumaric/mmol-co2\n"
     ]
    }
   ],
   "source": [
    "#Autotrophic\n",
    "with model as model:\n",
    "    model.reactions.PPND.bounds = 0, 0\n",
    "    model.reactions.PPOR.bounds = 0, 0\n",
    "    print(\"PPND's bounds inside the with statement:\")\n",
    "    print(model.reactions.PPND.lower_bound, model.reactions.PPND.bounds)\n",
    "    print(\"PPOR's bounds inside the with statement:\")\n",
    "    print(model.reactions.PPOR.lower_bound, model.reactions.PPOR.bounds)\n",
    "    model.reactions.EX_photon_e.bounds = -50, 0\n",
    "    model.reactions.RBPC_1.bounds = 2.97, 3.54\n",
    "    model.objective=model.reactions.BIOMASS_Ec_SynAuto_1\n",
    "    maximum_growth_hetero = model.optimize().objective_value #flux\n",
    "    print('Maximum growth =', maximum_growth_hetero, 'h-1')\n",
    "    p_coumaric_production = model.reactions.CYP73A.flux\n",
    "    print('Maximum productivity =', p_coumaric_production, 'mmol p-coumaric/gDW*h')\n",
    "    maximum_yield_co2 = p_coumaric_production / (1*(model.reactions.RBPC_1.flux)) #yield calculations\n",
    "    print('Maximum theoretical yield on co2 =', maximum_yield_co2, 'mmol-p_coumaric/mmol-co2')"
   ]
  },
  {
   "cell_type": "code",
   "execution_count": 662,
   "id": "7c3c4daf-75fd-4444-b3f7-ba8ffd071b78",
   "metadata": {},
   "outputs": [
    {
     "name": "stdout",
     "output_type": "stream",
     "text": [
      "PPND's bounds inside the with statement:\n",
      "0 (0, 0)\n",
      "PPOR's bounds inside the with statement:\n",
      "0 (0, 0)\n",
      "Maximum growth = 1.6368899029428874e-16 h-1\n",
      "Maximum productivity = -1.3670761137979829e-15 mmol p-coumaric/gDW*h\n",
      "Maximum theoretical yield on co2 = -4.602949878107686e-16 mmol-p_coumaric/mmol-co2\n",
      "Maximum theoretical yield on glucose = -1.6083248397623328e-15 mmol-p-coumaric/mmol-glucose\n"
     ]
    }
   ],
   "source": [
    "#Mixotrophic\n",
    "with model as model:\n",
    "    model.reactions.PPND.bounds = 0, 0\n",
    "    model.reactions.PPOR.bounds = 0, 0\n",
    "    print(\"PPND's bounds inside the with statement:\")\n",
    "    print(model.reactions.PPND.lower_bound, model.reactions.PPND.bounds)\n",
    "    print(\"PPOR's bounds inside the with statement:\")\n",
    "    print(model.reactions.PPOR.lower_bound, model.reactions.PPOR.bounds)\n",
    "    model.reactions.EX_photon_e.bounds = 0, 95\n",
    "    model.reactions.RBPC_1.bounds = 2.97, 3.54\n",
    "    model.objective=model.reactions.BIOMASS_Ec_SynMixo_1\n",
    "    maximum_growth_mixo = model.optimize().objective_value #flux\n",
    "    print('Maximum growth =', maximum_growth_mixo, 'h-1')\n",
    "    p_coumaric_production = model.reactions.CYP73A.flux\n",
    "    print('Maximum productivity =', p_coumaric_production, 'mmol p-coumaric/gDW*h')\n",
    "    maximum_yield_co2 = p_coumaric_production / (1*(model.reactions.RBPC_1.flux)) #yield calculations\n",
    "    print('Maximum theoretical yield on co2 =', maximum_yield_co2, 'mmol-p_coumaric/mmol-co2')\n",
    "    maximum_yield_glucose = p_coumaric_production / (-1*(model.reactions.EX_glc__D_e.flux)) #yield calculations\n",
    "    print('Maximum theoretical yield on glucose =', maximum_yield_glucose, 'mmol-p-coumaric/mmol-glucose')"
   ]
  },
  {
   "cell_type": "code",
   "execution_count": 663,
   "id": "a51cbda7-1919-4bb7-8cff-fbf9d94e0641",
   "metadata": {},
   "outputs": [
    {
     "name": "stdout",
     "output_type": "stream",
     "text": [
      "PPND's bounds inside the with statement:\n",
      "0 (0, 0)\n",
      "PPOR's bounds inside the with statement:\n",
      "0 (0, 0)\n",
      "Maximum growth = 0.0 h-1\n",
      "Maximum productivity = 0.0 mmol p-coumaric/gDW*h\n",
      "Maximum theoretical yield on glucose = 0.0 mmol-p-coumaric/mmol-glucose\n"
     ]
    }
   ],
   "source": [
    "#Heterotrophic\n",
    "with model as model:\n",
    "    model.reactions.PPND.bounds = 0, 0\n",
    "    model.reactions.PPOR.bounds = 0, 0\n",
    "    print(\"PPND's bounds inside the with statement:\")\n",
    "    print(model.reactions.PPND.lower_bound, model.reactions.PPND.bounds)\n",
    "    print(\"PPOR's bounds inside the with statement:\")\n",
    "    print(model.reactions.PPOR.lower_bound, model.reactions.PPOR.bounds)\n",
    "    model.reactions.RBPC_1.bounds = 0, 0\n",
    "    model.objective=model.reactions.BIOMASS_Ec_SynHetero_1\n",
    "    maximum_growth_hetero = model.optimize().objective_value #flux\n",
    "    print('Maximum growth =', maximum_growth_hetero, 'h-1')\n",
    "    p_coumaric_production = model.reactions.CYP73A.flux\n",
    "    print('Maximum productivity =', p_coumaric_production, 'mmol p-coumaric/gDW*h')\n",
    "    maximum_yield_glucose = p_coumaric_production / (-1*(model.reactions.EX_glc__D_e.flux)) #yield calculations\n",
    "    print('Maximum theoretical yield on glucose =', maximum_yield_glucose, 'mmol-p-coumaric/mmol-glucose')"
   ]
  },
  {
   "cell_type": "markdown",
   "id": "bc3e6e79-06ba-4c72-8e53-7929c26cb24a",
   "metadata": {},
   "source": [
    "##### Results\n",
    "\n",
    "|  | Max. growth (h-1) | WT Max. productivity (mmol/g(DW)/h) | XAL Max. productivity (mmol/g(DW)/h)| Max. yield on glucose | Max yield on CO2\n",
    "| :-: | :-: | :-: | :-: | :-: | :-: |\n",
    "| Autotrophic | 3.43E-17| 3.41E-5| 4.51E-15 | --- | 1.52E-15 |\n",
    "| Mixootrophic | 2.74E-17 |3.48E-5 | 1.05E-15 | 1.2E-15 | 3.4E-16 |\n",
    "| Heterotrophic | 0.0 | 3.48E-5 | 0.0| 0.0 | --- |\n"
   ]
  },
  {
   "cell_type": "markdown",
   "id": "ffb7b9ae-83f3-4f27-add5-1825c6353aec",
   "metadata": {},
   "source": [
    "Results show that biomass growth is decreased to a very low levels, what can be explained as a result of tyrosine production inhibition because tyrosine is considered by the model to calculate the BIOMASS flux. Regarding the p-coumaric production, it also decreases to values much more lower compared to wild-type. The study carried out by Gao et al. (2021) revealed an increase of 54% in p-coumaric production when tyrosine pathway was knocked out. Thus, our model don't predict the *in-vitro* results and further optimization regarding other knock out targets should be done. "
   ]
  },
  {
   "cell_type": "markdown",
   "id": "97f151aa-f23f-459e-a48f-7267e6c891bd",
   "metadata": {},
   "source": [
    "### 4.2: Additional biosynthetic pathway: Cloning of XAL enzyme\n",
    "\n",
    "Another option to increase p-coumaric production would be to clone the gen encoding an enzyme able to directly convert L-tyrosine into p-coumaric acid in a sinlge reaction step. We select the enzyme XAL from *Trichosporon cutaneum*, which was already cloned and studied in *Synechocystis* sp. PCC6303 by Brel et al. (2020). XAL has both phenylalanine ammonia-lyase (PAL) and tyrosine ammonia-lyase (TAL) activity. Ideally, we clone the enzyme with a high constitutive expression system, which would redirect close to 100% tyrosine to p-coumaric conversion. Tyrosine and subproducts could be exogenously administered to ensure metabolic flux through the tyrosine related essential pathways. "
   ]
  },
  {
   "cell_type": "code",
   "execution_count": 664,
   "id": "8cd4ac14-8562-4033-b98b-5fcafd488519",
   "metadata": {},
   "outputs": [],
   "source": [
    "phenylalanine_ammonia_lyase2 = Reaction('PAL2')\n",
    "tyrosine_ammonia_lyase = Reaction('TAL')\n",
    "phenylalanine_ammonia_lyase2.add_metabolites(({model.metabolites.phe__L_c : -1,  \n",
    "                              trans_Cinnamate: 1, \n",
    "                              model.metabolites.nh3_c: 1, \n",
    "                            }))\n",
    "tyrosine_ammonia_lyase.add_metabolites(({model.metabolites.tyr__L_c : -1,                                                                                            \n",
    "                                                  p_Coumaric_acid: 1,                                          \n",
    "                                                  model.metabolites.nh3_c : 1,\n",
    "                                                 }))"
   ]
  },
  {
   "cell_type": "code",
   "execution_count": 665,
   "id": "5dd147fd-532b-4607-990b-5432ea75d3eb",
   "metadata": {},
   "outputs": [],
   "source": [
    "model.add_reactions([phenylalanine_ammonia_lyase2])\n",
    "model.add_reactions([tyrosine_ammonia_lyase])\n"
   ]
  },
  {
   "cell_type": "markdown",
   "id": "544bb90f-a3b3-4234-9747-d59756b3b21b",
   "metadata": {},
   "source": [
    "When we optimize the flux through any the three biomass reactions, we see that TAL flux is 0. The reason is that tyrosine is considered by the model as a metabolite taking part in biomass reactions. As the flux is being optimized through biomass, there is no flux left for TAL. Our solution is to consider an ideal situation where all the tyrosine is converted into p-coumaric, thus using tyrosine formation flux through TYRTA (Tyrosine transaminase) as the hypothetical TAL flux. "
   ]
  },
  {
   "cell_type": "code",
   "execution_count": 666,
   "id": "7d7408df-152b-48aa-8dfd-1a1e1943b143",
   "metadata": {},
   "outputs": [
    {
     "name": "stdout",
     "output_type": "stream",
     "text": [
      "Maximum growth = 0.07802010063372718 h-1\n",
      "TAL flux = 0.0 mmol/g(DW)/h\n",
      "TYRTA flux = 0.01047497871108421 mmol/g(DW)/h\n"
     ]
    }
   ],
   "source": [
    "with model as model:\n",
    "    model.objective=model.reactions.BIOMASS_Ec_SynMixo_1\n",
    "    maximum_growth_mixo = model.optimize().objective_value #flux\n",
    "    print('Maximum growth =', maximum_growth_mixo, 'h-1')\n",
    "    TAL_flux=model.reactions.TAL.flux\n",
    "    print('TAL flux =', TAL_flux, 'mmol/g(DW)/h')\n",
    "    TYRTA_flux=model.reactions.TYRTA.flux\n",
    "    print('TYRTA flux =', -1*TYRTA_flux, 'mmol/g(DW)/h')"
   ]
  },
  {
   "cell_type": "code",
   "execution_count": 667,
   "id": "0db07215-5e1f-4adc-8ed9-909fe7eee752",
   "metadata": {},
   "outputs": [
    {
     "data": {
      "text/plain": [
       "frozenset({<Reaction BIOMASS_Ec_SynAuto_1 at 0x2a9f020ed00>,\n",
       "           <Reaction BIOMASS_Ec_SynHetero_1 at 0x2a9f020eee0>,\n",
       "           <Reaction BIOMASS_Ec_SynMixo_1 at 0x2a9f020e6d0>,\n",
       "           <Reaction TAL at 0x2a9f0ab35b0>,\n",
       "           <Reaction THZPSN2 at 0x2a9f06eab50>,\n",
       "           <Reaction THZSN_1 at 0x2a9f0a2cf10>,\n",
       "           <Reaction TYRTA at 0x2a9f07dec10>,\n",
       "           <Reaction TYRTRS at 0x2a9f0663970>})"
      ]
     },
     "execution_count": 667,
     "metadata": {},
     "output_type": "execute_result"
    }
   ],
   "source": [
    "model.metabolites.tyr__L_c.reactions\n"
   ]
  },
  {
   "cell_type": "code",
   "execution_count": 688,
   "id": "897d6a3d-b2af-4b2c-aa19-36ad178e7bfe",
   "metadata": {},
   "outputs": [
    {
     "name": "stdout",
     "output_type": "stream",
     "text": [
      "Maximum growth = 0.17433033141836166 h-1\n",
      "Maximum productivity = 0.023483458434071708 mmol p-coumaric/gDW*h\n",
      "Maximum theoretical yield on co2 = 0.007906888361640305 mmol-p_coumaric/mmol-co2\n"
     ]
    }
   ],
   "source": [
    "#Autotrophic\n",
    "with model as model:\n",
    "    model.reactions.EX_photon_e.bounds = -50, 0\n",
    "    model.reactions.RBPC_1.bounds = 2.97, 3.54\n",
    "    model.objective=model.reactions.BIOMASS_Ec_SynAuto_1\n",
    "    maximum_growth_hetero = model.optimize().objective_value #flux\n",
    "    print('Maximum growth =', maximum_growth_hetero, 'h-1')\n",
    "    p_coumaric_production = -model.reactions.TYRTA.flux + model.reactions.CYP73A.flux\n",
    "    print('Maximum productivity =', p_coumaric_production, 'mmol p-coumaric/gDW*h')\n",
    "    maximum_yield_co2 = p_coumaric_production / (1*(model.reactions.RBPC_1.flux)) #yield calculations\n",
    "    print('Maximum theoretical yield on co2 =', maximum_yield_co2, 'mmol-p_coumaric/mmol-co2')"
   ]
  },
  {
   "cell_type": "code",
   "execution_count": 669,
   "id": "1df1ee66-d523-436a-9fd3-68b403bd0641",
   "metadata": {},
   "outputs": [
    {
     "name": "stdout",
     "output_type": "stream",
     "text": [
      "Maximum growth = 0.07802010063372702 h-1\n",
      "Maximum productivity = 0.010509827949434065 mmol p-coumaric/gDW*h\n",
      "Maximum theoretical yield on co2 = 0.003538662609237059 mmol-p_coumaric/mmol-co2\n",
      "Maximum theoretical yield on glucose = 0.01236450346992243 mmol-p-coumaric/mmol-glucose\n"
     ]
    }
   ],
   "source": [
    "#Mixotrophic\n",
    "with model as model:\n",
    "    model.reactions.EX_photon_e.bounds = 0, 95\n",
    "    model.reactions.RBPC_1.bounds = 2.97, 3.54\n",
    "    model.objective=model.reactions.BIOMASS_Ec_SynMixo_1\n",
    "    maximum_growth_mixo = model.optimize().objective_value #flux\n",
    "    print('Maximum growth =', maximum_growth_mixo, 'h-1')\n",
    "    p_coumaric_production = -model.reactions.TYRTA.flux + model.reactions.CYP73A.flux\n",
    "    print('Maximum productivity =', p_coumaric_production, 'mmol p-coumaric/gDW*h')\n",
    "    maximum_yield_co2 = p_coumaric_production / (1*(model.reactions.RBPC_1.flux)) #yield calculations\n",
    "    print('Maximum theoretical yield on co2 =', maximum_yield_co2, 'mmol-p_coumaric/mmol-co2')\n",
    "    maximum_yield_glucose = p_coumaric_production / (-1*(model.reactions.EX_glc__D_e.flux)) #yield calculations\n",
    "    print('Maximum theoretical yield on glucose =', maximum_yield_glucose, 'mmol-p-coumaric/mmol-glucose')"
   ]
  },
  {
   "cell_type": "code",
   "execution_count": 670,
   "id": "72d9018b-bb1a-4e80-9810-cef6cad69634",
   "metadata": {},
   "outputs": [
    {
     "name": "stdout",
     "output_type": "stream",
     "text": [
      "Maximum growth = 0.07802010063372711 h-1\n",
      "Maximum productivity = 0.010509827949433717 mmol p-coumaric/gDW*h\n",
      "Maximum theoretical yield on glucose = 0.01236450346992202 mmol-p-coumaric/mmol-glucose\n"
     ]
    }
   ],
   "source": [
    "### Heterotrophic\n",
    "with model as model:\n",
    "    model.reactions.EX_photon_e.bounds = 0, 95\n",
    "    model.reactions.RBPC_1.bounds = 0, 0\n",
    "    model.objective=model.reactions.BIOMASS_Ec_SynHetero_1\n",
    "    maximum_growth_hetero = model.optimize().objective_value #flux\n",
    "    print('Maximum growth =', maximum_growth_hetero, 'h-1')\n",
    "    p_coumaric_production = -model.reactions.TYRTA.flux + model.reactions.CYP73A.flux\n",
    "    print('Maximum productivity =', p_coumaric_production, 'mmol p-coumaric/gDW*h')\n",
    "    maximum_yield_glucose = p_coumaric_production / (-1*(model.reactions.EX_glc__D_e.flux)) #yield calculations\n",
    "    print('Maximum theoretical yield on glucose =', maximum_yield_glucose, 'mmol-p-coumaric/mmol-glucose')"
   ]
  },
  {
   "cell_type": "markdown",
   "id": "40cc5442-4a70-49fa-b9b0-db9f9094c5e4",
   "metadata": {},
   "source": [
    "##### Results\n",
    "\n",
    "|  | Max. growth (h-1) | WT Max. productivity (mmol/g(DW)/h) | XAL Max. productivity (mmol/g(DW)/h)| Max. yield on glucose | Max yield on CO2\n",
    "| :-: | :-: | :-: | :-: | :-: | :-: |\n",
    "| Autotrophic | 0.174 | 7.78E-5| 0.0234 | --- | 0.0079 |\n",
    "| Mixootrophic | 0.078 |3.48E-5 | 0.0105 | 0.012 | 0.0035 |\n",
    "| Heterotrophic | 0.078 | 3.48E-5 | 0.0105 | 0.012 | --- |"
   ]
  },
  {
   "cell_type": "markdown",
   "id": "ebac2b5f-fbbf-4a8e-9640-10c3a684c6a1",
   "metadata": {},
   "source": [
    "These results show an increase in p-coumaric production with XAL. In the three scenarios, the increase in p-coumaric production is around 295 fold more. The study by Brel et al. (2020) showed an increase of 12 fold more, so our model predicts a higher improvement of p-coumaric production. However, further optimization of this cloning should be done, as we don't know if all the tyrosine can really be redirected through XAL flux *in vivo*. "
   ]
  },
  {
   "cell_type": "markdown",
   "id": "ff5122af-5063-4188-8299-a76aebafc460",
   "metadata": {},
   "source": [
    "## References"
   ]
  },
  {
   "cell_type": "markdown",
   "id": "181240fd-3558-4466-8043-5eac7f98e6b0",
   "metadata": {},
   "source": [
    ">Brey, L. F., Włodarczyk, A. J., Thøfner, J. F. B., Burow, M., Crocoll, C., Nielsen, I., ... & Jensen, P. E. (2020). Metabolic engineering of Synechocystis sp. PCC 6803 for the production of aromatic amino acids and derived phenylpropanoids. Metabolic engineering, 57, 129-139.\n",
    "\n",
    ">Brocks, J. J., Logan, G. A., Buick, R., & Summons, R. E. (1999). Archean molecular fossils and the early rise of eukaryotes. science, 285(5430), 1033-1036.\n",
    "\n",
    ">Catherine, Q., Susanna, W., Isidora, E. S., Mark, H., Aurélie, V., & Jean-François, H. (2013). A review of current knowledge on toxic benthic freshwater cyanobacteria–ecology, toxin production and risk management. Water research, 47(15), 5464-5479.\n",
    "\n",
    ">Du, W., Jongbloets, J. A., Hernández, H. P., Bruggeman, F. J., Hellingwerf, K. J., & dos Santos, F. B. (2016). Photonfluxostat: a method for light-limited batch cultivation of cyanobacteria at different, yet constant, growth rates. Algal research, 20, 118-125.\n",
    "\n",
    ">Gademann K. (2011). Out in the green: biologically active metabolites produced by cyanobacteria. Chimia, 65(6), 416–419. https://doi.org/10.2533/chimia.2011.416\n",
    "\n",
    ">Gao, E. B., Kyere-Yeboah, K., Wu, J., & Qiu, H. (2021). Photoautotrophic production of p-Coumaric acid using genetically engineered Synechocystis sp. Pasteur Culture Collection 6803. Algal Research, 54, 102180.\n",
    "\n",
    ">Joshi, C. J., Peebles, C. A., & Prasad, A. (2017). Modeling and analysis of flux distribution and bioproduct formation in Synechocystis sp. PCC 6803 using a new genome-scale metabolic reconstruction. Algal research, 27, 295-310.\n",
    "\n",
    ">Kaneko, T., Sato, S., Kotani, H., Tanaka, A., Asamizu, E., Nakamura, Y., ... & Tabata, S. (1996). Sequence analysis of the genome of the unicellular cyanobacterium Synechocystis sp. strain PCC6803. II. Sequence determination of the entire genome and assignment of potential protein-coding regions. DNA research, 3(3), 109-136.\n",
    "\n",
    ">Montagud, A., Zelezniak, A., Navarro, E., de Córdoba, P. F., Urchueguía, J. F., & Patil, K. R. (2011). Flux coupling and transcriptional regulation within the metabolic network of the photosynthetic bacterium Synechocystis sp. PCC6803. Biotechnology journal, 6(3), 330-342.\n",
    "\n",
    ">Nozzi, N. E., Oliver, J. W., & Atsumi, S. (2013). Cyanobacteria as a platform for biofuel production. Frontiers in bioengineering and biotechnology, 1, 7.\n",
    "\n",
    ">Rasmussen, B., Fletcher, I. R., Brocks, J. J., & Kilburn, M. R. (2008). Reassessing the first appearance of eukaryotes and cyanobacteria. Nature, 455(7216), 1101-1104.\n",
    "\n",
    "> Shastri, A. A., & Morgan, J. A. (2005). Flux balance analysis of photoautotrophic metabolism. Biotechnology progress, 21(6), 1617-1626.\n",
    "\n",
    ">Touloupakis, E., Cicchi, B., & Torzillo, G. (2015). A bioenergetic assessment of photosynthetic growth of Synechocystis sp. PCC 6803 in continuous cultures. Biotechnology for biofuels, 8(1), 1-11.\n",
    "\n",
    ">Van Alphen, P., Abedini Najafabadi, H., Branco dos Santos, F., & Hellingwerf, K. J. (2018). Increasing the photoautotrophic growth rate of Synechocystis sp. PCC 6803 by identifying the limitations of its cultivation. Biotechnology journal, 13(8), 1700764.\n",
    "\n",
    ">Vermaas, W. (1996). Molecular genetics of the cyanobacteriumSynechocystis sp. PCC 6803: Principles and possible biotechnology applications. Journal of Applied Phycology, 8(4), 263-273.\n",
    "\n",
    ">Vijayakumar, S., & Menakha, M. (2015). Pharmaceutical applications of cyanobacteria—A review. Journal of Acute Medicine, 5(1), 15-23.\n",
    "\n",
    ">Yang, C., Hua, Q., & Shimizu, K. (2002). Metabolic flux analysis in Synechocystis using isotope distribution from 13C-labeled glucose. Metabolic engineering, 4(3), 202-216.\n",
    "\n",
    ">Yu, Y., You, L., Liu, D., Hollinshead, W., Tang, Y. J., & Zhang, F. (2013). Development of Synechocystis sp. PCC 6803 as a phototrophic cell factory. Marine drugs, 11(8), 2894-2916.\n",
    "\n",
    ">Zavřel, T., Očenášová, P., & Červený, J. (2017). Phenotypic characterization of Synechocystis sp. PCC 6803 substrains reveals differences in sensitivity to abiotic stress. PLoS One, 12(12), e0189130.\n"
   ]
  },
  {
   "cell_type": "code",
   "execution_count": null,
   "id": "4bc6f084-785b-41f9-91d2-0be7846716c3",
   "metadata": {},
   "outputs": [],
   "source": []
  }
 ],
 "metadata": {
  "kernelspec": {
   "display_name": "Python 3 (ipykernel)",
   "language": "python",
   "name": "python3"
  },
  "language_info": {
   "codemirror_mode": {
    "name": "ipython",
    "version": 3
   },
   "file_extension": ".py",
   "mimetype": "text/x-python",
   "name": "python",
   "nbconvert_exporter": "python",
   "pygments_lexer": "ipython3",
   "version": "3.9.12"
  }
 },
 "nbformat": 4,
 "nbformat_minor": 5
}
