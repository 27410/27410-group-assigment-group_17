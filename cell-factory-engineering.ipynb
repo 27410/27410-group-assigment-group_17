{
 "cells": [
  {
   "cell_type": "markdown",
   "id": "c747786d",
   "metadata": {},
   "source": [
    "# Part 4: Computer-Aided Cell Factory Engineering"
   ]
  },
  {
   "cell_type": "markdown",
   "id": "740db5f2",
   "metadata": {},
   "source": [
    "## 4.1 Reconstruction of Existing GSM"
   ]
  },
  {
   "cell_type": "markdown",
   "id": "4793c965",
   "metadata": {},
   "source": [
    "#### First, create a draft GSM reconstruction using CarveMe. Then create a report for the model."
   ]
  },
  {
   "cell_type": "code",
   "execution_count": 4,
   "id": "d9850369",
   "metadata": {},
   "outputs": [
    {
     "name": "stdout",
     "output_type": "stream",
     "text": [
      "File exists, skipping.\n"
     ]
    },
    {
     "name": "stderr",
     "output_type": "stream",
     "text": [
      "diamond v2.0.15.153 (C) Max Planck Society for the Advancement of Science\n",
      "Documentation, support and updates available at http://www.diamondsearch.org\n",
      "Please cite: http://dx.doi.org/10.1038/s41592-021-01101-x Nature Methods (2021)\n",
      "\n",
      "#CPU threads: 8\n",
      "Scoring parameters: (Matrix=BLOSUM62 Lambda=0.267 K=0.041 Penalties=11/1)\n",
      "Temporary directory: \n",
      "Percentage range of top alignment score to report hits: 10\n",
      "Opening the database...  [0.082s]\n",
      "Database: c:\\program files\\python37\\lib\\site-packages\\carveme/data/generated/bigg_proteins.dmnd (type: Diamond database, sequences: 26727, letters: 11170577)\n",
      "Block size = 2000000000\n",
      "Opening the input file...  [0.063s]\n",
      "Opening the output file...  [0s]\n",
      "Loading query sequences...  [0.013s]\n",
      "Masking queries...  [0.025s]\n",
      "Algorithm: Double-indexed\n",
      "Building query histograms...  [0.049s]\n",
      "Allocating buffers...  [0s]\n",
      "Loading reference sequences...  [0.025s]\n",
      "Masking reference...  [0.184s]\n",
      "Initializing temporary storage...  [0.029s]\n",
      "Building reference histograms...  [0.535s]\n",
      "Allocating buffers...  [0s]\n",
      "Processing query block 1, reference block 1/1, shape 1/16, index chunk 1/4.\n",
      "Building reference seed array...  [0.053s]\n",
      "Building query seed array...  [0.006s]\n",
      "Computing hash join...  [0.011s]\n",
      "Masking low complexity seeds...  [0.002s]\n",
      "Searching alignments...  [0.024s]\n",
      "Processing query block 1, reference block 1/1, shape 1/16, index chunk 2/4.\n",
      "Building reference seed array...  [0.065s]\n",
      "Building query seed array...  [0.009s]\n",
      "Computing hash join...  [0.014s]\n",
      "Masking low complexity seeds...  [0.002s]\n",
      "Searching alignments...  [0.024s]\n",
      "Processing query block 1, reference block 1/1, shape 1/16, index chunk 3/4.\n",
      "Building reference seed array...  [0.084s]\n",
      "Building query seed array...  [0.011s]\n",
      "Computing hash join...  [0.013s]\n",
      "Masking low complexity seeds...  [0.002s]\n",
      "Searching alignments...  [0.021s]\n",
      "Processing query block 1, reference block 1/1, shape 1/16, index chunk 4/4.\n",
      "Building reference seed array...  [0.052s]\n",
      "Building query seed array...  [0.006s]\n",
      "Computing hash join...  [0.012s]\n",
      "Masking low complexity seeds...  [0.002s]\n",
      "Searching alignments...  [0.019s]\n",
      "Processing query block 1, reference block 1/1, shape 2/16, index chunk 1/4.\n",
      "Building reference seed array...  [0.052s]\n",
      "Building query seed array...  [0.006s]\n",
      "Computing hash join...  [0.011s]\n",
      "Masking low complexity seeds...  [0.002s]\n",
      "Searching alignments...  [0.018s]\n",
      "Processing query block 1, reference block 1/1, shape 2/16, index chunk 2/4.\n",
      "Building reference seed array...  [0.057s]\n",
      "Building query seed array...  [0.006s]\n",
      "Computing hash join...  [0.011s]\n",
      "Masking low complexity seeds...  [0.002s]\n",
      "Searching alignments...  [0.018s]\n",
      "Processing query block 1, reference block 1/1, shape 2/16, index chunk 3/4.\n",
      "Building reference seed array...  [0.061s]\n",
      "Building query seed array...  [0.006s]\n",
      "Computing hash join...  [0.011s]\n",
      "Masking low complexity seeds...  [0.002s]\n",
      "Searching alignments...  [0.018s]\n",
      "Processing query block 1, reference block 1/1, shape 2/16, index chunk 4/4.\n",
      "Building reference seed array...  [0.053s]\n",
      "Building query seed array...  [0.006s]\n",
      "Computing hash join...  [0.011s]\n",
      "Masking low complexity seeds...  [0.002s]\n",
      "Searching alignments...  [0.018s]\n",
      "Processing query block 1, reference block 1/1, shape 3/16, index chunk 1/4.\n",
      "Building reference seed array...  [0.053s]\n",
      "Building query seed array...  [0.008s]\n",
      "Computing hash join...  [0.011s]\n",
      "Masking low complexity seeds...  [0.002s]\n",
      "Searching alignments...  [0.02s]\n",
      "Processing query block 1, reference block 1/1, shape 3/16, index chunk 2/4.\n",
      "Building reference seed array...  [0.052s]\n",
      "Building query seed array...  [0.006s]\n",
      "Computing hash join...  [0.011s]\n",
      "Masking low complexity seeds...  [0.002s]\n",
      "Searching alignments...  [0.019s]\n",
      "Processing query block 1, reference block 1/1, shape 3/16, index chunk 3/4.\n",
      "Building reference seed array...  [0.056s]\n",
      "Building query seed array...  [0.007s]\n",
      "Computing hash join...  [0.011s]\n",
      "Masking low complexity seeds...  [0.002s]\n",
      "Searching alignments...  [0.022s]\n",
      "Processing query block 1, reference block 1/1, shape 3/16, index chunk 4/4.\n",
      "Building reference seed array...  [0.053s]\n",
      "Building query seed array...  [0.006s]\n",
      "Computing hash join...  [0.012s]\n",
      "Masking low complexity seeds...  [0.002s]\n",
      "Searching alignments...  [0.02s]\n",
      "Processing query block 1, reference block 1/1, shape 4/16, index chunk 1/4.\n",
      "Building reference seed array...  [0.056s]\n",
      "Building query seed array...  [0.006s]\n",
      "Computing hash join...  [0.011s]\n",
      "Masking low complexity seeds...  [0.002s]\n",
      "Searching alignments...  [0.02s]\n",
      "Processing query block 1, reference block 1/1, shape 4/16, index chunk 2/4.\n",
      "Building reference seed array...  [0.057s]\n",
      "Building query seed array...  [0.006s]\n",
      "Computing hash join...  [0.011s]\n",
      "Masking low complexity seeds...  [0.002s]\n",
      "Searching alignments...  [0.018s]\n",
      "Processing query block 1, reference block 1/1, shape 4/16, index chunk 3/4.\n",
      "Building reference seed array...  [0.055s]\n",
      "Building query seed array...  [0.01s]\n",
      "Computing hash join...  [0.012s]\n",
      "Masking low complexity seeds...  [0.002s]\n",
      "Searching alignments...  [0.018s]\n",
      "Processing query block 1, reference block 1/1, shape 4/16, index chunk 4/4.\n",
      "Building reference seed array...  [0.05s]\n",
      "Building query seed array...  [0.008s]\n",
      "Computing hash join...  [0.013s]\n",
      "Masking low complexity seeds...  [0.002s]\n",
      "Searching alignments...  [0.017s]\n",
      "Processing query block 1, reference block 1/1, shape 5/16, index chunk 1/4.\n",
      "Building reference seed array...  [0.049s]\n",
      "Building query seed array...  [0.006s]\n",
      "Computing hash join...  [0.012s]\n",
      "Masking low complexity seeds...  [0.002s]\n",
      "Searching alignments...  [0.022s]\n",
      "Processing query block 1, reference block 1/1, shape 5/16, index chunk 2/4.\n",
      "Building reference seed array...  [0.051s]\n",
      "Building query seed array...  [0.007s]\n",
      "Computing hash join...  [0.011s]\n",
      "Masking low complexity seeds...  [0.002s]\n",
      "Searching alignments...  [0.019s]\n",
      "Processing query block 1, reference block 1/1, shape 5/16, index chunk 3/4.\n",
      "Building reference seed array...  [0.057s]\n",
      "Building query seed array...  [0.006s]\n",
      "Computing hash join...  [0.012s]\n",
      "Masking low complexity seeds...  [0.002s]\n",
      "Searching alignments...  [0.018s]\n",
      "Processing query block 1, reference block 1/1, shape 5/16, index chunk 4/4.\n",
      "Building reference seed array...  [0.05s]\n",
      "Building query seed array...  [0.006s]\n",
      "Computing hash join...  [0.011s]\n",
      "Masking low complexity seeds...  [0.002s]\n",
      "Searching alignments...  [0.017s]\n",
      "Processing query block 1, reference block 1/1, shape 6/16, index chunk 1/4.\n",
      "Building reference seed array...  [0.05s]\n",
      "Building query seed array...  [0.006s]\n",
      "Computing hash join...  [0.011s]\n",
      "Masking low complexity seeds...  [0.002s]\n",
      "Searching alignments...  [0.019s]\n",
      "Processing query block 1, reference block 1/1, shape 6/16, index chunk 2/4.\n",
      "Building reference seed array...  [0.053s]\n",
      "Building query seed array...  [0.006s]\n",
      "Computing hash join...  [0.011s]\n",
      "Masking low complexity seeds...  [0.002s]\n",
      "Searching alignments...  [0.018s]\n",
      "Processing query block 1, reference block 1/1, shape 6/16, index chunk 3/4.\n",
      "Building reference seed array...  [0.057s]\n",
      "Building query seed array...  [0.006s]\n",
      "Computing hash join...  [0.01s]\n",
      "Masking low complexity seeds...  [0.002s]\n",
      "Searching alignments...  [0.017s]\n",
      "Processing query block 1, reference block 1/1, shape 6/16, index chunk 4/4.\n",
      "Building reference seed array...  [0.049s]\n",
      "Building query seed array...  [0.008s]\n",
      "Computing hash join...  [0.011s]\n",
      "Masking low complexity seeds...  [0.002s]\n",
      "Searching alignments...  [0.018s]\n",
      "Processing query block 1, reference block 1/1, shape 7/16, index chunk 1/4.\n",
      "Building reference seed array...  [0.048s]\n",
      "Building query seed array...  [0.006s]\n",
      "Computing hash join...  [0.01s]\n",
      "Masking low complexity seeds...  [0.002s]\n",
      "Searching alignments...  [0.018s]\n",
      "Processing query block 1, reference block 1/1, shape 7/16, index chunk 2/4.\n",
      "Building reference seed array...  [0.052s]\n",
      "Building query seed array...  [0.006s]\n",
      "Computing hash join...  [0.012s]\n",
      "Masking low complexity seeds...  [0.003s]\n",
      "Searching alignments...  [0.019s]\n",
      "Processing query block 1, reference block 1/1, shape 7/16, index chunk 3/4.\n",
      "Building reference seed array...  [0.057s]\n",
      "Building query seed array...  [0.006s]\n",
      "Computing hash join...  [0.011s]\n",
      "Masking low complexity seeds...  [0.003s]\n",
      "Searching alignments...  [0.017s]\n",
      "Processing query block 1, reference block 1/1, shape 7/16, index chunk 4/4.\n",
      "Building reference seed array...  [0.049s]\n",
      "Building query seed array...  [0.005s]\n",
      "Computing hash join...  [0.01s]\n",
      "Masking low complexity seeds...  [0.002s]\n",
      "Searching alignments...  [0.02s]\n",
      "Processing query block 1, reference block 1/1, shape 8/16, index chunk 1/4.\n",
      "Building reference seed array...  [0.051s]\n",
      "Building query seed array...  [0.005s]\n",
      "Computing hash join...  [0.01s]\n",
      "Masking low complexity seeds...  [0.002s]\n",
      "Searching alignments...  [0.018s]\n",
      "Processing query block 1, reference block 1/1, shape 8/16, index chunk 2/4.\n",
      "Building reference seed array...  [0.051s]\n",
      "Building query seed array...  [0.009s]\n",
      "Computing hash join...  [0.011s]\n",
      "Masking low complexity seeds...  [0.002s]\n",
      "Searching alignments...  [0.018s]\n",
      "Processing query block 1, reference block 1/1, shape 8/16, index chunk 3/4.\n",
      "Building reference seed array...  [0.056s]\n",
      "Building query seed array...  [0.006s]\n",
      "Computing hash join...  [0.01s]\n",
      "Masking low complexity seeds...  [0.002s]\n",
      "Searching alignments...  [0.017s]\n",
      "Processing query block 1, reference block 1/1, shape 8/16, index chunk 4/4.\n",
      "Building reference seed array...  [0.048s]\n",
      "Building query seed array...  [0.005s]\n",
      "Computing hash join...  [0.011s]\n",
      "Masking low complexity seeds...  [0.002s]\n",
      "Searching alignments...  [0.017s]\n",
      "Processing query block 1, reference block 1/1, shape 9/16, index chunk 1/4.\n",
      "Building reference seed array...  [0.049s]\n",
      "Building query seed array...  [0.006s]\n",
      "Computing hash join...  [0.01s]\n",
      "Masking low complexity seeds...  [0.002s]\n",
      "Searching alignments...  [0.018s]\n",
      "Processing query block 1, reference block 1/1, shape 9/16, index chunk 2/4.\n",
      "Building reference seed array...  [0.056s]\n",
      "Building query seed array...  [0.006s]\n",
      "Computing hash join...  [0.011s]\n",
      "Masking low complexity seeds...  [0.002s]\n",
      "Searching alignments...  [0.018s]\n",
      "Processing query block 1, reference block 1/1, shape 9/16, index chunk 3/4.\n",
      "Building reference seed array...  [0.057s]\n",
      "Building query seed array...  [0.008s]\n",
      "Computing hash join...  [0.01s]\n",
      "Masking low complexity seeds...  [0.002s]\n",
      "Searching alignments...  [0.018s]\n",
      "Processing query block 1, reference block 1/1, shape 9/16, index chunk 4/4.\n",
      "Building reference seed array...  [0.047s]\n",
      "Building query seed array...  [0.006s]\n",
      "Computing hash join...  [0.011s]\n",
      "Masking low complexity seeds...  [0.002s]\n",
      "Searching alignments...  [0.018s]\n",
      "Processing query block 1, reference block 1/1, shape 10/16, index chunk 1/4.\n",
      "Building reference seed array...  [0.047s]\n",
      "Building query seed array...  [0.006s]\n",
      "Computing hash join...  [0.011s]\n",
      "Masking low complexity seeds...  [0.002s]\n",
      "Searching alignments...  [0.02s]\n",
      "Processing query block 1, reference block 1/1, shape 10/16, index chunk 2/4.\n",
      "Building reference seed array...  [0.054s]\n",
      "Building query seed array...  [0.006s]\n",
      "Computing hash join...  [0.01s]\n",
      "Masking low complexity seeds...  [0.002s]\n",
      "Searching alignments...  [0.018s]\n",
      "Processing query block 1, reference block 1/1, shape 10/16, index chunk 3/4.\n",
      "Building reference seed array...  [0.059s]\n",
      "Building query seed array...  [0.006s]\n",
      "Computing hash join...  [0.01s]\n",
      "Masking low complexity seeds...  [0.002s]\n",
      "Searching alignments...  [0.017s]\n",
      "Processing query block 1, reference block 1/1, shape 10/16, index chunk 4/4.\n",
      "Building reference seed array...  [0.05s]\n",
      "Building query seed array...  [0.005s]\n",
      "Computing hash join...  [0.011s]\n",
      "Masking low complexity seeds...  [0.002s]\n",
      "Searching alignments...  [0.018s]\n",
      "Processing query block 1, reference block 1/1, shape 11/16, index chunk 1/4.\n",
      "Building reference seed array...  [0.055s]\n",
      "Building query seed array...  [0.008s]\n",
      "Computing hash join...  [0.011s]\n",
      "Masking low complexity seeds...  [0.002s]\n",
      "Searching alignments...  [0.019s]\n",
      "Processing query block 1, reference block 1/1, shape 11/16, index chunk 2/4.\n",
      "Building reference seed array...  [0.052s]\n",
      "Building query seed array...  [0.007s]\n",
      "Computing hash join...  [0.011s]\n",
      "Masking low complexity seeds...  [0.002s]\n",
      "Searching alignments...  [0.018s]\n",
      "Processing query block 1, reference block 1/1, shape 11/16, index chunk 3/4.\n",
      "Building reference seed array...  [0.054s]\n",
      "Building query seed array...  [0.006s]\n",
      "Computing hash join...  [0.011s]\n",
      "Masking low complexity seeds...  [0.002s]\n",
      "Searching alignments...  [0.018s]\n",
      "Processing query block 1, reference block 1/1, shape 11/16, index chunk 4/4.\n",
      "Building reference seed array...  [0.05s]\n",
      "Building query seed array...  [0.005s]\n",
      "Computing hash join...  [0.01s]\n",
      "Masking low complexity seeds...  [0.002s]\n",
      "Searching alignments...  [0.018s]\n",
      "Processing query block 1, reference block 1/1, shape 12/16, index chunk 1/4.\n",
      "Building reference seed array...  [0.052s]\n",
      "Building query seed array...  [0.009s]\n",
      "Computing hash join...  [0.011s]\n",
      "Masking low complexity seeds...  [0.002s]\n",
      "Searching alignments...  [0.018s]\n",
      "Processing query block 1, reference block 1/1, shape 12/16, index chunk 2/4.\n",
      "Building reference seed array...  [0.052s]\n",
      "Building query seed array...  [0.009s]\n",
      "Computing hash join...  [0.011s]\n",
      "Masking low complexity seeds...  [0.002s]\n",
      "Searching alignments...  [0.017s]\n",
      "Processing query block 1, reference block 1/1, shape 12/16, index chunk 3/4.\n",
      "Building reference seed array...  [0.054s]\n",
      "Building query seed array...  [0.006s]\n",
      "Computing hash join...  [0.011s]\n",
      "Masking low complexity seeds...  [0.002s]\n",
      "Searching alignments...  [0.017s]\n",
      "Processing query block 1, reference block 1/1, shape 12/16, index chunk 4/4.\n",
      "Building reference seed array...  [0.049s]\n",
      "Building query seed array...  [0.005s]\n",
      "Computing hash join...  [0.011s]\n",
      "Masking low complexity seeds...  [0.002s]\n",
      "Searching alignments...  [0.017s]\n",
      "Processing query block 1, reference block 1/1, shape 13/16, index chunk 1/4.\n",
      "Building reference seed array...  [0.047s]\n",
      "Building query seed array...  [0.005s]\n",
      "Computing hash join...  [0.011s]\n",
      "Masking low complexity seeds...  [0.002s]\n",
      "Searching alignments...  [0.018s]\n",
      "Processing query block 1, reference block 1/1, shape 13/16, index chunk 2/4.\n",
      "Building reference seed array...  [0.053s]\n",
      "Building query seed array...  [0.006s]\n",
      "Computing hash join...  [0.011s]\n",
      "Masking low complexity seeds...  [0.002s]\n",
      "Searching alignments...  [0.018s]\n",
      "Processing query block 1, reference block 1/1, shape 13/16, index chunk 3/4.\n",
      "Building reference seed array...  [0.058s]\n",
      "Building query seed array...  [0.006s]\n",
      "Computing hash join...  [0.01s]\n",
      "Masking low complexity seeds...  [0.002s]\n",
      "Searching alignments...  [0.017s]\n",
      "Processing query block 1, reference block 1/1, shape 13/16, index chunk 4/4.\n",
      "Building reference seed array...  [0.046s]\n",
      "Building query seed array...  [0.008s]\n",
      "Computing hash join...  [0.011s]\n",
      "Masking low complexity seeds...  [0.002s]\n",
      "Searching alignments...  [0.016s]\n",
      "Processing query block 1, reference block 1/1, shape 14/16, index chunk 1/4.\n",
      "Building reference seed array...  [0.047s]\n",
      "Building query seed array...  [0.005s]\n",
      "Computing hash join...  [0.01s]\n",
      "Masking low complexity seeds...  [0.002s]\n",
      "Searching alignments...  [0.018s]\n",
      "Processing query block 1, reference block 1/1, shape 14/16, index chunk 2/4.\n",
      "Building reference seed array...  [0.055s]\n",
      "Building query seed array...  [0.006s]\n",
      "Computing hash join...  [0.011s]\n",
      "Masking low complexity seeds...  [0.002s]\n",
      "Searching alignments...  [0.017s]\n",
      "Processing query block 1, reference block 1/1, shape 14/16, index chunk 3/4.\n",
      "Building reference seed array...  [0.059s]\n",
      "Building query seed array...  [0.006s]\n",
      "Computing hash join...  [0.01s]\n",
      "Masking low complexity seeds...  [0.002s]\n",
      "Searching alignments...  [0.017s]\n",
      "Processing query block 1, reference block 1/1, shape 14/16, index chunk 4/4.\n",
      "Building reference seed array...  [0.048s]\n",
      "Building query seed array...  [0.008s]\n",
      "Computing hash join...  [0.01s]\n",
      "Masking low complexity seeds...  [0.002s]\n",
      "Searching alignments...  [0.017s]\n",
      "Processing query block 1, reference block 1/1, shape 15/16, index chunk 1/4.\n",
      "Building reference seed array...  [0.05s]\n",
      "Building query seed array...  [0.008s]\n",
      "Computing hash join...  [0.011s]\n",
      "Masking low complexity seeds...  [0.002s]\n",
      "Searching alignments...  [0.018s]\n",
      "Processing query block 1, reference block 1/1, shape 15/16, index chunk 2/4.\n",
      "Building reference seed array...  [0.054s]\n",
      "Building query seed array...  [0.006s]\n",
      "Computing hash join...  [0.012s]\n",
      "Masking low complexity seeds...  [0.002s]\n",
      "Searching alignments...  [0.018s]\n",
      "Processing query block 1, reference block 1/1, shape 15/16, index chunk 3/4.\n",
      "Building reference seed array...  [0.061s]\n",
      "Building query seed array...  [0.006s]\n",
      "Computing hash join...  [0.012s]\n",
      "Masking low complexity seeds...  [0.002s]\n",
      "Searching alignments...  [0.018s]\n",
      "Processing query block 1, reference block 1/1, shape 15/16, index chunk 4/4.\n",
      "Building reference seed array...  [0.051s]\n",
      "Building query seed array...  [0.005s]\n",
      "Computing hash join...  [0.011s]\n",
      "Masking low complexity seeds...  [0.002s]\n",
      "Searching alignments...  [0.017s]\n",
      "Processing query block 1, reference block 1/1, shape 16/16, index chunk 1/4.\n",
      "Building reference seed array...  [0.05s]\n",
      "Building query seed array...  [0.005s]\n",
      "Computing hash join...  [0.011s]\n",
      "Masking low complexity seeds...  [0.002s]\n",
      "Searching alignments...  [0.018s]\n",
      "Processing query block 1, reference block 1/1, shape 16/16, index chunk 2/4.\n",
      "Building reference seed array...  [0.058s]\n",
      "Building query seed array...  [0.007s]\n",
      "Computing hash join...  [0.011s]\n",
      "Masking low complexity seeds...  [0.002s]\n",
      "Searching alignments...  [0.018s]\n",
      "Processing query block 1, reference block 1/1, shape 16/16, index chunk 3/4.\n",
      "Building reference seed array...  [0.054s]\n",
      "Building query seed array...  [0.01s]\n",
      "Computing hash join...  [0.011s]\n",
      "Masking low complexity seeds...  [0.002s]\n",
      "Searching alignments...  [0.018s]\n",
      "Processing query block 1, reference block 1/1, shape 16/16, index chunk 4/4.\n",
      "Building reference seed array...  [0.049s]\n",
      "Building query seed array...  [0.005s]\n",
      "Computing hash join...  [0.014s]\n",
      "Masking low complexity seeds...  [0.002s]\n",
      "Searching alignments...  [0.017s]\n",
      "Deallocating buffers...  [0.002s]\n",
      "Clearing query masking...  [0.008s]\n",
      "Computing alignments...  [2.844s]\n",
      "Deallocating reference...  [0.001s]\n",
      "Loading reference sequences...  [0s]\n",
      "Deallocating buffers...  [0s]\n",
      "Deallocating queries...  [0s]\n",
      "Loading query sequences...  [0s]\n",
      "Closing the input file...  [0s]\n",
      "Closing the output file...  [0s]\n",
      "Cleaning up...  [0s]\n",
      "Total time = 10.029s\n",
      "Reported 2581 pairwise alignments, 2581 HSPs.\n",
      "1490 queries aligned.\n"
     ]
    },
    {
     "name": "stdout",
     "output_type": "stream",
     "text": [
      "Scaling...\n",
      " A: min|aij| =  1.000e+00  max|aij| =  1.000e+00  ratio =  1.000e+00\n",
      "Problem data seem to be well scaled\n",
      "============================= test session starts =============================\n",
      "platform win32 -- Python 3.7.0, pytest-7.2.0, pluggy-1.0.0\n",
      "rootdir: c:\\\n",
      "plugins: anyio-3.5.0, dash-1.4.0\n",
      "collected 146 items / 1 skipped\n",
      "\n",
      "..\\..\\..\\..\\..\\..\\program files\\python37\\lib\\site-packages\\memote\\suite\\tests\\test_annotation.py . [  0%]\n",
      "..FFFFFFFFFFFFFFFFFFFFFFFFFFFFFFF...F....F.F...F.FF.FFFFFFFFFF..         [ 44%]\n",
      "Wall time: 5min 31s..\\..\\..\\..\\..\\..\\program files\\python37\\lib\\site-packages\\memote\\suite\\tests\\test_basic.py . [ 45%]\n"
     ]
    },
    {
     "name": "stderr",
     "output_type": "stream",
     "text": [
      "c:\\program files\\python37\\lib\\site-packages\\dash\\testing\\plugin.py:17: UserWarning:\n",
      "\n",
      "run `pip install dash[testing]` if you need dash.testing\n",
      "\n",
      "Writing snapshot report to 'Synechocystis_sp_PCC_6803.html'.\n"
     ]
    },
    {
     "name": "stdout",
     "output_type": "stream",
     "text": [
      "\n",
      ".....F........F.FFFFFF                                                   [ 60%]\n",
      "..\\..\\..\\..\\..\\..\\program files\\python37\\lib\\site-packages\\memote\\suite\\tests\\test_biomass.py . [ 60%]\n",
      "F.......F                                                                [ 67%]\n",
      "..\\..\\..\\..\\..\\..\\program files\\python37\\lib\\site-packages\\memote\\suite\\tests\\test_consistency.py . [ 67%]\n",
      "..ssssssssssssssssFFFF.F.FFF                                             [ 86%]\n",
      "..\\..\\..\\..\\..\\..\\program files\\python37\\lib\\site-packages\\memote\\suite\\tests\\test_essentiality.py s [ 87%]\n",
      "                                                                         [ 87%]\n",
      "..\\..\\..\\..\\..\\..\\program files\\python37\\lib\\site-packages\\memote\\suite\\tests\\test_growth.py s [ 88%]\n",
      "                                                                         [ 88%]\n",
      "..\\..\\..\\..\\..\\..\\program files\\python37\\lib\\site-packages\\memote\\suite\\tests\\test_matrix.py . [ 89%]\n",
      "...                                                                      [ 91%]\n",
      "..\\..\\..\\..\\..\\..\\program files\\python37\\lib\\site-packages\\memote\\suite\\tests\\test_sbml.py . [ 91%]\n",
      ".                                                                        [ 92%]\n",
      "..\\..\\..\\..\\..\\..\\program files\\python37\\lib\\site-packages\\memote\\suite\\tests\\test_sbo.py F [ 93%]\n",
      "FFFFFFFsF.                                                               [100%]\n",
      "\n",
      "============================== warnings summary ===============================\n",
      "..\\..\\..\\..\\..\\..\\program files\\python37\\lib\\site-packages\\_pytest\\config\\__init__.py:1171\n",
      "  c:\\program files\\python37\\lib\\site-packages\\_pytest\\config\\__init__.py:1171: PytestAssertRewriteWarning:\n",
      "  \n",
      "  Module already imported so cannot be rewritten: anyio\n",
      "\n",
      "-- Docs: https://docs.pytest.org/en/stable/how-to/capture-warnings.html\n",
      "=========================== short test summary info ===========================\n",
      "FAILED ..\\..\\..\\..\\..\\..\\program files\\python37\\lib\\site-packages\\memote\\suite\\tests\\test_annotation.py::test_metabolite_annotation_overview[pubchem.compound]\n",
      "FAILED ..\\..\\..\\..\\..\\..\\program files\\python37\\lib\\site-packages\\memote\\suite\\tests\\test_annotation.py::test_metabolite_annotation_overview[kegg.compound]\n",
      "FAILED ..\\..\\..\\..\\..\\..\\program files\\python37\\lib\\site-packages\\memote\\suite\\tests\\test_annotation.py::test_metabolite_annotation_overview[seed.compound]\n",
      "FAILED ..\\..\\..\\..\\..\\..\\program files\\python37\\lib\\site-packages\\memote\\suite\\tests\\test_annotation.py::test_metabolite_annotation_overview[inchikey]\n",
      "FAILED ..\\..\\..\\..\\..\\..\\program files\\python37\\lib\\site-packages\\memote\\suite\\tests\\test_annotation.py::test_metabolite_annotation_overview[inchi]\n",
      "FAILED ..\\..\\..\\..\\..\\..\\program files\\python37\\lib\\site-packages\\memote\\suite\\tests\\test_annotation.py::test_metabolite_annotation_overview[chebi]\n",
      "FAILED ..\\..\\..\\..\\..\\..\\program files\\python37\\lib\\site-packages\\memote\\suite\\tests\\test_annotation.py::test_metabolite_annotation_overview[hmdb]\n",
      "FAILED ..\\..\\..\\..\\..\\..\\program files\\python37\\lib\\site-packages\\memote\\suite\\tests\\test_annotation.py::test_metabolite_annotation_overview[reactome]\n",
      "FAILED ..\\..\\..\\..\\..\\..\\program files\\python37\\lib\\site-packages\\memote\\suite\\tests\\test_annotation.py::test_metabolite_annotation_overview[metanetx.chemical]\n",
      "FAILED ..\\..\\..\\..\\..\\..\\program files\\python37\\lib\\site-packages\\memote\\suite\\tests\\test_annotation.py::test_metabolite_annotation_overview[bigg.metabolite]\n",
      "FAILED ..\\..\\..\\..\\..\\..\\program files\\python37\\lib\\site-packages\\memote\\suite\\tests\\test_annotation.py::test_metabolite_annotation_overview[biocyc]\n",
      "FAILED ..\\..\\..\\..\\..\\..\\program files\\python37\\lib\\site-packages\\memote\\suite\\tests\\test_annotation.py::test_reaction_annotation_overview[rhea]\n",
      "FAILED ..\\..\\..\\..\\..\\..\\program files\\python37\\lib\\site-packages\\memote\\suite\\tests\\test_annotation.py::test_reaction_annotation_overview[kegg.reaction]\n",
      "FAILED ..\\..\\..\\..\\..\\..\\program files\\python37\\lib\\site-packages\\memote\\suite\\tests\\test_annotation.py::test_reaction_annotation_overview[seed.reaction]\n",
      "FAILED ..\\..\\..\\..\\..\\..\\program files\\python37\\lib\\site-packages\\memote\\suite\\tests\\test_annotation.py::test_reaction_annotation_overview[metanetx.reaction]\n",
      "FAILED ..\\..\\..\\..\\..\\..\\program files\\python37\\lib\\site-packages\\memote\\suite\\tests\\test_annotation.py::test_reaction_annotation_overview[bigg.reaction]\n",
      "FAILED ..\\..\\..\\..\\..\\..\\program files\\python37\\lib\\site-packages\\memote\\suite\\tests\\test_annotation.py::test_reaction_annotation_overview[reactome]\n",
      "FAILED ..\\..\\..\\..\\..\\..\\program files\\python37\\lib\\site-packages\\memote\\suite\\tests\\test_annotation.py::test_reaction_annotation_overview[ec-code]\n",
      "FAILED ..\\..\\..\\..\\..\\..\\program files\\python37\\lib\\site-packages\\memote\\suite\\tests\\test_annotation.py::test_reaction_annotation_overview[brenda]\n",
      "FAILED ..\\..\\..\\..\\..\\..\\program files\\python37\\lib\\site-packages\\memote\\suite\\tests\\test_annotation.py::test_reaction_annotation_overview[biocyc]\n",
      "FAILED ..\\..\\..\\..\\..\\..\\program files\\python37\\lib\\site-packages\\memote\\suite\\tests\\test_annotation.py::test_gene_product_annotation_overview[refseq]\n",
      "FAILED ..\\..\\..\\..\\..\\..\\program files\\python37\\lib\\site-packages\\memote\\suite\\tests\\test_annotation.py::test_gene_product_annotation_overview[uniprot]\n",
      "FAILED ..\\..\\..\\..\\..\\..\\program files\\python37\\lib\\site-packages\\memote\\suite\\tests\\test_annotation.py::test_gene_product_annotation_overview[ecogene]\n",
      "FAILED ..\\..\\..\\..\\..\\..\\program files\\python37\\lib\\site-packages\\memote\\suite\\tests\\test_annotation.py::test_gene_product_annotation_overview[kegg.genes]\n",
      "FAILED ..\\..\\..\\..\\..\\..\\program files\\python37\\lib\\site-packages\\memote\\suite\\tests\\test_annotation.py::test_gene_product_annotation_overview[ncbigi]\n",
      "FAILED ..\\..\\..\\..\\..\\..\\program files\\python37\\lib\\site-packages\\memote\\suite\\tests\\test_annotation.py::test_gene_product_annotation_overview[ncbigene]\n",
      "FAILED ..\\..\\..\\..\\..\\..\\program files\\python37\\lib\\site-packages\\memote\\suite\\tests\\test_annotation.py::test_gene_product_annotation_overview[ncbiprotein]\n",
      "FAILED ..\\..\\..\\..\\..\\..\\program files\\python37\\lib\\site-packages\\memote\\suite\\tests\\test_annotation.py::test_gene_product_annotation_overview[ccds]\n",
      "FAILED ..\\..\\..\\..\\..\\..\\program files\\python37\\lib\\site-packages\\memote\\suite\\tests\\test_annotation.py::test_gene_product_annotation_overview[hprd]\n",
      "FAILED ..\\..\\..\\..\\..\\..\\program files\\python37\\lib\\site-packages\\memote\\suite\\tests\\test_annotation.py::test_gene_product_annotation_overview[asap]\n",
      "FAILED ..\\..\\..\\..\\..\\..\\program files\\python37\\lib\\site-packages\\memote\\suite\\tests\\test_annotation.py::test_metabolite_annotation_wrong_ids[pubchem.compound]\n",
      "FAILED ..\\..\\..\\..\\..\\..\\program files\\python37\\lib\\site-packages\\memote\\suite\\tests\\test_annotation.py::test_metabolite_annotation_wrong_ids[inchi]\n",
      "FAILED ..\\..\\..\\..\\..\\..\\program files\\python37\\lib\\site-packages\\memote\\suite\\tests\\test_annotation.py::test_metabolite_annotation_wrong_ids[bigg.metabolite]\n",
      "FAILED ..\\..\\..\\..\\..\\..\\program files\\python37\\lib\\site-packages\\memote\\suite\\tests\\test_annotation.py::test_reaction_annotation_wrong_ids[rhea]\n",
      "FAILED ..\\..\\..\\..\\..\\..\\program files\\python37\\lib\\site-packages\\memote\\suite\\tests\\test_annotation.py::test_reaction_annotation_wrong_ids[bigg.reaction]\n",
      "FAILED ..\\..\\..\\..\\..\\..\\program files\\python37\\lib\\site-packages\\memote\\suite\\tests\\test_annotation.py::test_reaction_annotation_wrong_ids[ec-code]\n",
      "FAILED ..\\..\\..\\..\\..\\..\\program files\\python37\\lib\\site-packages\\memote\\suite\\tests\\test_annotation.py::test_reaction_annotation_wrong_ids[brenda]\n",
      "FAILED ..\\..\\..\\..\\..\\..\\program files\\python37\\lib\\site-packages\\memote\\suite\\tests\\test_annotation.py::test_gene_product_annotation_wrong_ids[refseq]\n",
      "FAILED ..\\..\\..\\..\\..\\..\\program files\\python37\\lib\\site-packages\\memote\\suite\\tests\\test_annotation.py::test_gene_product_annotation_wrong_ids[uniprot]\n",
      "FAILED ..\\..\\..\\..\\..\\..\\program files\\python37\\lib\\site-packages\\memote\\suite\\tests\\test_annotation.py::test_gene_product_annotation_wrong_ids[ecogene]\n",
      "FAILED ..\\..\\..\\..\\..\\..\\program files\\python37\\lib\\site-packages\\memote\\suite\\tests\\test_annotation.py::test_gene_product_annotation_wrong_ids[kegg.genes]\n",
      "FAILED ..\\..\\..\\..\\..\\..\\program files\\python37\\lib\\site-packages\\memote\\suite\\tests\\test_annotation.py::test_gene_product_annotation_wrong_ids[ncbigi]\n",
      "FAILED ..\\..\\..\\..\\..\\..\\program files\\python37\\lib\\site-packages\\memote\\suite\\tests\\test_annotation.py::test_gene_product_annotation_wrong_ids[ncbigene]\n",
      "FAILED ..\\..\\..\\..\\..\\..\\program files\\python37\\lib\\site-packages\\memote\\suite\\tests\\test_annotation.py::test_gene_product_annotation_wrong_ids[ncbiprotein]\n",
      "FAILED ..\\..\\..\\..\\..\\..\\program files\\python37\\lib\\site-packages\\memote\\suite\\tests\\test_annotation.py::test_gene_product_annotation_wrong_ids[ccds]\n",
      "FAILED ..\\..\\..\\..\\..\\..\\program files\\python37\\lib\\site-packages\\memote\\suite\\tests\\test_annotation.py::test_gene_product_annotation_wrong_ids[hprd]\n",
      "FAILED ..\\..\\..\\..\\..\\..\\program files\\python37\\lib\\site-packages\\memote\\suite\\tests\\test_annotation.py::test_gene_product_annotation_wrong_ids[asap]\n",
      "FAILED ..\\..\\..\\..\\..\\..\\program files\\python37\\lib\\site-packages\\memote\\suite\\tests\\test_basic.py::test_gene_protein_reaction_rule_presence\n",
      "FAILED ..\\..\\..\\..\\..\\..\\program files\\python37\\lib\\site-packages\\memote\\suite\\tests\\test_basic.py::test_transport_reaction_gpr_presence\n",
      "FAILED ..\\..\\..\\..\\..\\..\\program files\\python37\\lib\\site-packages\\memote\\suite\\tests\\test_basic.py::test_find_unique_metabolites\n",
      "FAILED ..\\..\\..\\..\\..\\..\\program files\\python37\\lib\\site-packages\\memote\\suite\\tests\\test_basic.py::test_find_duplicate_metabolites_in_compartments\n",
      "FAILED ..\\..\\..\\..\\..\\..\\program files\\python37\\lib\\site-packages\\memote\\suite\\tests\\test_basic.py::test_find_reactions_with_partially_identical_annotations\n",
      "FAILED ..\\..\\..\\..\\..\\..\\program files\\python37\\lib\\site-packages\\memote\\suite\\tests\\test_basic.py::test_find_duplicate_reactions\n",
      "FAILED ..\\..\\..\\..\\..\\..\\program files\\python37\\lib\\site-packages\\memote\\suite\\tests\\test_basic.py::test_find_reactions_with_identical_genes\n",
      "FAILED ..\\..\\..\\..\\..\\..\\program files\\python37\\lib\\site-packages\\memote\\suite\\tests\\test_basic.py::test_find_medium_metabolites\n",
      "FAILED ..\\..\\..\\..\\..\\..\\program files\\python37\\lib\\site-packages\\memote\\suite\\tests\\test_biomass.py::test_biomass_consistency[Growth]\n",
      "FAILED ..\\..\\..\\..\\..\\..\\program files\\python37\\lib\\site-packages\\memote\\suite\\tests\\test_biomass.py::test_essential_precursors_not_in_biomass[Growth]\n",
      "FAILED ..\\..\\..\\..\\..\\..\\program files\\python37\\lib\\site-packages\\memote\\suite\\tests\\test_consistency.py::test_reaction_charge_balance\n",
      "FAILED ..\\..\\..\\..\\..\\..\\program files\\python37\\lib\\site-packages\\memote\\suite\\tests\\test_consistency.py::test_reaction_mass_balance\n",
      "FAILED ..\\..\\..\\..\\..\\..\\program files\\python37\\lib\\site-packages\\memote\\suite\\tests\\test_consistency.py::test_blocked_reactions\n",
      "FAILED ..\\..\\..\\..\\..\\..\\program files\\python37\\lib\\site-packages\\memote\\suite\\tests\\test_consistency.py::test_find_stoichiometrically_balanced_cycles\n",
      "FAILED ..\\..\\..\\..\\..\\..\\program files\\python37\\lib\\site-packages\\memote\\suite\\tests\\test_consistency.py::test_find_deadends\n",
      "FAILED ..\\..\\..\\..\\..\\..\\program files\\python37\\lib\\site-packages\\memote\\suite\\tests\\test_consistency.py::test_find_metabolites_not_produced_with_open_bounds\n",
      "FAILED ..\\..\\..\\..\\..\\..\\program files\\python37\\lib\\site-packages\\memote\\suite\\tests\\test_consistency.py::test_find_metabolites_not_consumed_with_open_bounds\n",
      "FAILED ..\\..\\..\\..\\..\\..\\program files\\python37\\lib\\site-packages\\memote\\suite\\tests\\test_consistency.py::test_find_reactions_unbounded_flux_default_condition\n",
      "FAILED ..\\..\\..\\..\\..\\..\\program files\\python37\\lib\\site-packages\\memote\\suite\\tests\\test_sbo.py::test_metabolite_sbo_presence\n",
      "FAILED ..\\..\\..\\..\\..\\..\\program files\\python37\\lib\\site-packages\\memote\\suite\\tests\\test_sbo.py::test_reaction_sbo_presence\n",
      "FAILED ..\\..\\..\\..\\..\\..\\program files\\python37\\lib\\site-packages\\memote\\suite\\tests\\test_sbo.py::test_gene_sbo_presence\n",
      "FAILED ..\\..\\..\\..\\..\\..\\program files\\python37\\lib\\site-packages\\memote\\suite\\tests\\test_sbo.py::test_metabolic_reaction_specific_sbo_presence\n",
      "FAILED ..\\..\\..\\..\\..\\..\\program files\\python37\\lib\\site-packages\\memote\\suite\\tests\\test_sbo.py::test_transport_reaction_specific_sbo_presence\n",
      "FAILED ..\\..\\..\\..\\..\\..\\program files\\python37\\lib\\site-packages\\memote\\suite\\tests\\test_sbo.py::test_metabolite_specific_sbo_presence\n",
      "FAILED ..\\..\\..\\..\\..\\..\\program files\\python37\\lib\\site-packages\\memote\\suite\\tests\\test_sbo.py::test_gene_specific_sbo_presence\n",
      "FAILED ..\\..\\..\\..\\..\\..\\program files\\python37\\lib\\site-packages\\memote\\suite\\tests\\test_sbo.py::test_exchange_specific_sbo_presence\n",
      "FAILED ..\\..\\..\\..\\..\\..\\program files\\python37\\lib\\site-packages\\memote\\suite\\tests\\test_sbo.py::test_sink_specific_sbo_presence\n",
      "====== 74 failed, 53 passed, 20 skipped, 1 warning in 206.52s (0:03:26) =======\n"
     ]
    }
   ],
   "source": [
    "%%time\n",
    "\n",
    "!carve --refseq GCF_000009725.1 --output Synechocystis_sp_PCC_6803.xml\n",
    "# Problem! This organism is not expected to grow on LB media, so we must define the media ourselves. Usually BG-11 media.\n",
    "\n",
    "!memote report snapshot Synechocystis_sp_PCC_6803.xml --filename Synechocystis_sp_PCC_6803.html"
   ]
  },
  {
   "cell_type": "markdown",
   "id": "f3e513bd",
   "metadata": {},
   "source": [
    "#### Next, load a pre-built model found in literature and create a report for that model."
   ]
  },
  {
   "cell_type": "code",
   "execution_count": 2,
   "id": "32f3fdc1",
   "metadata": {},
   "outputs": [
    {
     "name": "stderr",
     "output_type": "stream",
     "text": [
      "No objective coefficients in model. Unclear what should be optimized\n"
     ]
    },
    {
     "data": {
      "text/html": [
       "\n",
       "        <table>\n",
       "            <tr>\n",
       "                <td><strong>Name</strong></td>\n",
       "                <td>iSynCJ816</td>\n",
       "            </tr><tr>\n",
       "                <td><strong>Memory address</strong></td>\n",
       "                <td>0x019345bf13c8</td>\n",
       "            </tr><tr>\n",
       "                <td><strong>Number of metabolites</strong></td>\n",
       "                <td>928</td>\n",
       "            </tr><tr>\n",
       "                <td><strong>Number of reactions</strong></td>\n",
       "                <td>1044</td>\n",
       "            </tr><tr>\n",
       "                <td><strong>Number of groups</strong></td>\n",
       "                <td>0</td>\n",
       "            </tr><tr>\n",
       "                <td><strong>Objective expression</strong></td>\n",
       "                <td>0</td>\n",
       "            </tr><tr>\n",
       "                <td><strong>Compartments</strong></td>\n",
       "                <td>cytosol, periplasm, extracellular space, peroxisome/glyoxysome, thylakoid, lysosome, cytochrome complex</td>\n",
       "            </tr>\n",
       "          </table>"
      ],
      "text/plain": [
       "<Model iSynCJ816 at 0x19345bf13c8>"
      ]
     },
     "execution_count": 2,
     "metadata": {},
     "output_type": "execute_result"
    }
   ],
   "source": [
    "from cobra.io import read_sbml_model\n",
    "from cobra import Reaction, Metabolite\n",
    "\n",
    "model = read_sbml_model('iSynCJ816.xml')\n",
    "model #Joshi_etal_2017"
   ]
  },
  {
   "cell_type": "code",
   "execution_count": 7,
   "id": "ebe499ea",
   "metadata": {},
   "outputs": [
    {
     "name": "stdout",
     "output_type": "stream",
     "text": [
      "Scaling...\n",
      " A: min|aij| =  1.000e+00  max|aij| =  1.000e+00  ratio =  1.000e+00\n",
      "Problem data seem to be well scaled\n",
      "============================= test session starts =============================\n",
      "platform win32 -- Python 3.7.0, pytest-7.2.0, pluggy-1.0.0\n",
      "rootdir: c:\\\n",
      "plugins: anyio-3.5.0, dash-1.4.0\n",
      "collected 164 items / 1 skipped\n",
      "\n",
      "..\\..\\..\\..\\..\\..\\program files\\python37\\lib\\site-packages\\memote\\suite\\tests\\test_annotation.py . [  0%]\n",
      "..FFFFFFFFF.FFFFF.FFFFFFFFFFFFFFF..FF..F...F....FFF.FFFFFFFFFF..         [ 39%]\n",
      "..\\..\\..\\..\\..\\..\\program files\\python37\\lib\\site-packages\\memote\\suite\\tests\\test_basic.py . [ 40%]\n",
      ".....F........F...F.FF                                                   [ 53%]\n",
      "..\\..\\..\\..\\..\\..\\program files\\python37\\lib\\site-packages\\memote\\suite\\tests\\test_biomass.py . [ 54%]\n",
      "FFF...............FFFFFFFFF                                              [ 70%]\n",
      "..\\..\\..\\..\\..\\..\\program files\\python37\\lib\\site-packages\\memote\\suite\\tests\\test_consistency.py F [ 71%]\n",
      "FFssssssssssssssssFFFFFFFFF.                                             [ 88%]\n",
      "..\\..\\..\\..\\..\\..\\program files\\python37\\lib\\site-packages\\memote\\suite\\tests\\test_essentiality.py s [ 89%]\n",
      "                                                                         [ 89%]\n",
      "..\\..\\..\\..\\..\\..\\program files\\python37\\lib\\site-packages\\memote\\suite\\tests\\test_growth.py s [ 89%]\n",
      "                                                                         [ 89%]\n",
      "..\\..\\..\\..\\..\\..\\program files\\python37\\lib\\site-packages\\memote\\suite\\tests\\test_matrix.py . [ 90%]\n",
      "...                                                                      [ 92%]\n",
      "..\\..\\..\\..\\..\\..\\program files\\python37\\lib\\site-packages\\memote\\suite\\tests\\test_sbml.py . [ 92%]\n",
      ".                                                                        [ 93%]\n",
      "..\\..\\..\\..\\..\\..\\program files\\python37\\lib\\site-packages\\memote\\suite\\tests\\test_sbo.py F [ 93%]\n",
      "FFFFFFFFF.                                                               [100%]\n",
      "\n",
      "============================== warnings summary ===============================\n",
      "..\\..\\..\\..\\..\\..\\program files\\python37\\lib\\site-packages\\_pytest\\config\\__init__.py:1171\n",
      "  c:\\program files\\python37\\lib\\site-packages\\_pytest\\config\\__init__.py:1171: PytestAssertRewriteWarning:\n",
      "  \n",
      "  Module already imported so cannot be rewritten: anyio\n",
      "\n",
      "-- Docs: https://docs.pytest.org/en/stable/how-to/capture-warnings.html\n",
      "=========================== short test summary info ===========================\n",
      "FAILED ..\\..\\..\\..\\..\\..\\program files\\python37\\lib\\site-packages\\memote\\suite\\tests\\test_annotation.py::test_metabolite_annotation_overview[pubchem.compound]\n",
      "FAILED ..\\..\\..\\..\\..\\..\\program files\\python37\\lib\\site-packages\\memote\\suite\\tests\\test_annotation.py::test_metabolite_annotation_overview[kegg.compound]\n",
      "FAILED ..\\..\\..\\..\\..\\..\\program files\\python37\\lib\\site-packages\\memote\\suite\\tests\\test_annotation.py::test_metabolite_annotation_overview[seed.compound]\n",
      "FAILED ..\\..\\..\\..\\..\\..\\program files\\python37\\lib\\site-packages\\memote\\suite\\tests\\test_annotation.py::test_metabolite_annotation_overview[inchikey]\n",
      "FAILED ..\\..\\..\\..\\..\\..\\program files\\python37\\lib\\site-packages\\memote\\suite\\tests\\test_annotation.py::test_metabolite_annotation_overview[inchi]\n",
      "FAILED ..\\..\\..\\..\\..\\..\\program files\\python37\\lib\\site-packages\\memote\\suite\\tests\\test_annotation.py::test_metabolite_annotation_overview[chebi]\n",
      "FAILED ..\\..\\..\\..\\..\\..\\program files\\python37\\lib\\site-packages\\memote\\suite\\tests\\test_annotation.py::test_metabolite_annotation_overview[hmdb]\n",
      "FAILED ..\\..\\..\\..\\..\\..\\program files\\python37\\lib\\site-packages\\memote\\suite\\tests\\test_annotation.py::test_metabolite_annotation_overview[reactome]\n",
      "FAILED ..\\..\\..\\..\\..\\..\\program files\\python37\\lib\\site-packages\\memote\\suite\\tests\\test_annotation.py::test_metabolite_annotation_overview[metanetx.chemical]\n",
      "FAILED ..\\..\\..\\..\\..\\..\\program files\\python37\\lib\\site-packages\\memote\\suite\\tests\\test_annotation.py::test_metabolite_annotation_overview[biocyc]\n",
      "FAILED ..\\..\\..\\..\\..\\..\\program files\\python37\\lib\\site-packages\\memote\\suite\\tests\\test_annotation.py::test_reaction_annotation_overview[rhea]\n",
      "FAILED ..\\..\\..\\..\\..\\..\\program files\\python37\\lib\\site-packages\\memote\\suite\\tests\\test_annotation.py::test_reaction_annotation_overview[kegg.reaction]\n",
      "FAILED ..\\..\\..\\..\\..\\..\\program files\\python37\\lib\\site-packages\\memote\\suite\\tests\\test_annotation.py::test_reaction_annotation_overview[seed.reaction]\n",
      "FAILED ..\\..\\..\\..\\..\\..\\program files\\python37\\lib\\site-packages\\memote\\suite\\tests\\test_annotation.py::test_reaction_annotation_overview[metanetx.reaction]\n",
      "FAILED ..\\..\\..\\..\\..\\..\\program files\\python37\\lib\\site-packages\\memote\\suite\\tests\\test_annotation.py::test_reaction_annotation_overview[reactome]\n",
      "FAILED ..\\..\\..\\..\\..\\..\\program files\\python37\\lib\\site-packages\\memote\\suite\\tests\\test_annotation.py::test_reaction_annotation_overview[ec-code]\n",
      "FAILED ..\\..\\..\\..\\..\\..\\program files\\python37\\lib\\site-packages\\memote\\suite\\tests\\test_annotation.py::test_reaction_annotation_overview[brenda]\n",
      "FAILED ..\\..\\..\\..\\..\\..\\program files\\python37\\lib\\site-packages\\memote\\suite\\tests\\test_annotation.py::test_reaction_annotation_overview[biocyc]\n",
      "FAILED ..\\..\\..\\..\\..\\..\\program files\\python37\\lib\\site-packages\\memote\\suite\\tests\\test_annotation.py::test_gene_product_annotation_overview[refseq]\n",
      "FAILED ..\\..\\..\\..\\..\\..\\program files\\python37\\lib\\site-packages\\memote\\suite\\tests\\test_annotation.py::test_gene_product_annotation_overview[uniprot]\n",
      "FAILED ..\\..\\..\\..\\..\\..\\program files\\python37\\lib\\site-packages\\memote\\suite\\tests\\test_annotation.py::test_gene_product_annotation_overview[ecogene]\n",
      "FAILED ..\\..\\..\\..\\..\\..\\program files\\python37\\lib\\site-packages\\memote\\suite\\tests\\test_annotation.py::test_gene_product_annotation_overview[kegg.genes]\n",
      "FAILED ..\\..\\..\\..\\..\\..\\program files\\python37\\lib\\site-packages\\memote\\suite\\tests\\test_annotation.py::test_gene_product_annotation_overview[ncbigi]\n",
      "FAILED ..\\..\\..\\..\\..\\..\\program files\\python37\\lib\\site-packages\\memote\\suite\\tests\\test_annotation.py::test_gene_product_annotation_overview[ncbigene]\n",
      "FAILED ..\\..\\..\\..\\..\\..\\program files\\python37\\lib\\site-packages\\memote\\suite\\tests\\test_annotation.py::test_gene_product_annotation_overview[ncbiprotein]\n",
      "FAILED ..\\..\\..\\..\\..\\..\\program files\\python37\\lib\\site-packages\\memote\\suite\\tests\\test_annotation.py::test_gene_product_annotation_overview[ccds]\n",
      "FAILED ..\\..\\..\\..\\..\\..\\program files\\python37\\lib\\site-packages\\memote\\suite\\tests\\test_annotation.py::test_gene_product_annotation_overview[hprd]\n",
      "FAILED ..\\..\\..\\..\\..\\..\\program files\\python37\\lib\\site-packages\\memote\\suite\\tests\\test_annotation.py::test_gene_product_annotation_overview[asap]\n",
      "FAILED ..\\..\\..\\..\\..\\..\\program files\\python37\\lib\\site-packages\\memote\\suite\\tests\\test_annotation.py::test_metabolite_annotation_wrong_ids[pubchem.compound]\n",
      "FAILED ..\\..\\..\\..\\..\\..\\program files\\python37\\lib\\site-packages\\memote\\suite\\tests\\test_annotation.py::test_metabolite_annotation_wrong_ids[inchikey]\n",
      "FAILED ..\\..\\..\\..\\..\\..\\program files\\python37\\lib\\site-packages\\memote\\suite\\tests\\test_annotation.py::test_metabolite_annotation_wrong_ids[inchi]\n",
      "FAILED ..\\..\\..\\..\\..\\..\\program files\\python37\\lib\\site-packages\\memote\\suite\\tests\\test_annotation.py::test_metabolite_annotation_wrong_ids[reactome]\n",
      "FAILED ..\\..\\..\\..\\..\\..\\program files\\python37\\lib\\site-packages\\memote\\suite\\tests\\test_annotation.py::test_reaction_annotation_wrong_ids[rhea]\n",
      "FAILED ..\\..\\..\\..\\..\\..\\program files\\python37\\lib\\site-packages\\memote\\suite\\tests\\test_annotation.py::test_reaction_annotation_wrong_ids[reactome]\n",
      "FAILED ..\\..\\..\\..\\..\\..\\program files\\python37\\lib\\site-packages\\memote\\suite\\tests\\test_annotation.py::test_reaction_annotation_wrong_ids[ec-code]\n",
      "FAILED ..\\..\\..\\..\\..\\..\\program files\\python37\\lib\\site-packages\\memote\\suite\\tests\\test_annotation.py::test_reaction_annotation_wrong_ids[brenda]\n",
      "FAILED ..\\..\\..\\..\\..\\..\\program files\\python37\\lib\\site-packages\\memote\\suite\\tests\\test_annotation.py::test_gene_product_annotation_wrong_ids[refseq]\n",
      "FAILED ..\\..\\..\\..\\..\\..\\program files\\python37\\lib\\site-packages\\memote\\suite\\tests\\test_annotation.py::test_gene_product_annotation_wrong_ids[uniprot]\n",
      "FAILED ..\\..\\..\\..\\..\\..\\program files\\python37\\lib\\site-packages\\memote\\suite\\tests\\test_annotation.py::test_gene_product_annotation_wrong_ids[ecogene]\n",
      "FAILED ..\\..\\..\\..\\..\\..\\program files\\python37\\lib\\site-packages\\memote\\suite\\tests\\test_annotation.py::test_gene_product_annotation_wrong_ids[kegg.genes]\n",
      "FAILED ..\\..\\..\\..\\..\\..\\program files\\python37\\lib\\site-packages\\memote\\suite\\tests\\test_annotation.py::test_gene_product_annotation_wrong_ids[ncbigi]\n",
      "FAILED ..\\..\\..\\..\\..\\..\\program files\\python37\\lib\\site-packages\\memote\\suite\\tests\\test_annotation.py::test_gene_product_annotation_wrong_ids[ncbigene]\n",
      "FAILED ..\\..\\..\\..\\..\\..\\program files\\python37\\lib\\site-packages\\memote\\suite\\tests\\test_annotation.py::test_gene_product_annotation_wrong_ids[ncbiprotein]\n",
      "FAILED ..\\..\\..\\..\\..\\..\\program files\\python37\\lib\\site-packages\\memote\\suite\\tests\\test_annotation.py::test_gene_product_annotation_wrong_ids[ccds]\n",
      "FAILED ..\\..\\..\\..\\..\\..\\program files\\python37\\lib\\site-packages\\memote\\suite\\tests\\test_annotation.py::test_gene_product_annotation_wrong_ids[hprd]\n",
      "FAILED ..\\..\\..\\..\\..\\..\\program files\\python37\\lib\\site-packages\\memote\\suite\\tests\\test_annotation.py::test_gene_product_annotation_wrong_ids[asap]\n",
      "FAILED ..\\..\\..\\..\\..\\..\\program files\\python37\\lib\\site-packages\\memote\\suite\\tests\\test_basic.py::test_gene_protein_reaction_rule_presence\n",
      "FAILED ..\\..\\..\\..\\..\\..\\program files\\python37\\lib\\site-packages\\memote\\suite\\tests\\test_basic.py::test_transport_reaction_gpr_presence\n",
      "FAILED ..\\..\\..\\..\\..\\..\\program files\\python37\\lib\\site-packages\\memote\\suite\\tests\\test_basic.py::test_find_reactions_with_partially_identical_annotations\n",
      "FAILED ..\\..\\..\\..\\..\\..\\program files\\python37\\lib\\site-packages\\memote\\suite\\tests\\test_basic.py::test_find_reactions_with_identical_genes\n",
      "FAILED ..\\..\\..\\..\\..\\..\\program files\\python37\\lib\\site-packages\\memote\\suite\\tests\\test_basic.py::test_find_medium_metabolites\n",
      "FAILED ..\\..\\..\\..\\..\\..\\program files\\python37\\lib\\site-packages\\memote\\suite\\tests\\test_biomass.py::test_biomass_consistency[BIOMASS_Ec_SynAuto_1]\n",
      "FAILED ..\\..\\..\\..\\..\\..\\program files\\python37\\lib\\site-packages\\memote\\suite\\tests\\test_biomass.py::test_biomass_consistency[BIOMASS_Ec_SynHetero_1]\n",
      "FAILED ..\\..\\..\\..\\..\\..\\program files\\python37\\lib\\site-packages\\memote\\suite\\tests\\test_biomass.py::test_biomass_consistency[BIOMASS_Ec_SynMixo_1]\n",
      "FAILED ..\\..\\..\\..\\..\\..\\program files\\python37\\lib\\site-packages\\memote\\suite\\tests\\test_biomass.py::test_fast_growth_default[BIOMASS_Ec_SynAuto_1]\n",
      "FAILED ..\\..\\..\\..\\..\\..\\program files\\python37\\lib\\site-packages\\memote\\suite\\tests\\test_biomass.py::test_fast_growth_default[BIOMASS_Ec_SynHetero_1]\n",
      "FAILED ..\\..\\..\\..\\..\\..\\program files\\python37\\lib\\site-packages\\memote\\suite\\tests\\test_biomass.py::test_fast_growth_default[BIOMASS_Ec_SynMixo_1]\n",
      "FAILED ..\\..\\..\\..\\..\\..\\program files\\python37\\lib\\site-packages\\memote\\suite\\tests\\test_biomass.py::test_direct_metabolites_in_biomass[BIOMASS_Ec_SynAuto_1]\n",
      "FAILED ..\\..\\..\\..\\..\\..\\program files\\python37\\lib\\site-packages\\memote\\suite\\tests\\test_biomass.py::test_direct_metabolites_in_biomass[BIOMASS_Ec_SynHetero_1]\n",
      "FAILED ..\\..\\..\\..\\..\\..\\program files\\python37\\lib\\site-packages\\memote\\suite\\tests\\test_biomass.py::test_direct_metabolites_in_biomass[BIOMASS_Ec_SynMixo_1]\n",
      "FAILED ..\\..\\..\\..\\..\\..\\program files\\python37\\lib\\site-packages\\memote\\suite\\tests\\test_biomass.py::test_essential_precursors_not_in_biomass[BIOMASS_Ec_SynAuto_1]\n",
      "FAILED ..\\..\\..\\..\\..\\..\\program files\\python37\\lib\\site-packages\\memote\\suite\\tests\\test_biomass.py::test_essential_precursors_not_in_biomass[BIOMASS_Ec_SynHetero_1]\n",
      "FAILED ..\\..\\..\\..\\..\\..\\program files\\python37\\lib\\site-packages\\memote\\suite\\tests\\test_biomass.py::test_essential_precursors_not_in_biomass[BIOMASS_Ec_SynMixo_1]\n",
      "FAILED ..\\..\\..\\..\\..\\..\\program files\\python37\\lib\\site-packages\\memote\\suite\\tests\\test_consistency.py::test_stoichiometric_consistency\n",
      "FAILED ..\\..\\..\\..\\..\\..\\program files\\python37\\lib\\site-packages\\memote\\suite\\tests\\test_consistency.py::test_unconserved_metabolites\n",
      "FAILED ..\\..\\..\\..\\..\\..\\program files\\python37\\lib\\site-packages\\memote\\suite\\tests\\test_consistency.py::test_inconsistent_min_stoichiometry\n",
      "FAILED ..\\..\\..\\..\\..\\..\\program files\\python37\\lib\\site-packages\\memote\\suite\\tests\\test_consistency.py::test_reaction_charge_balance\n",
      "FAILED ..\\..\\..\\..\\..\\..\\program files\\python37\\lib\\site-packages\\memote\\suite\\tests\\test_consistency.py::test_reaction_mass_balance\n",
      "FAILED ..\\..\\..\\..\\..\\..\\program files\\python37\\lib\\site-packages\\memote\\suite\\tests\\test_consistency.py::test_blocked_reactions\n",
      "FAILED ..\\..\\..\\..\\..\\..\\program files\\python37\\lib\\site-packages\\memote\\suite\\tests\\test_consistency.py::test_find_stoichiometrically_balanced_cycles\n",
      "FAILED ..\\..\\..\\..\\..\\..\\program files\\python37\\lib\\site-packages\\memote\\suite\\tests\\test_consistency.py::test_find_orphans\n",
      "FAILED ..\\..\\..\\..\\..\\..\\program files\\python37\\lib\\site-packages\\memote\\suite\\tests\\test_consistency.py::test_find_deadends\n",
      "FAILED ..\\..\\..\\..\\..\\..\\program files\\python37\\lib\\site-packages\\memote\\suite\\tests\\test_consistency.py::test_find_disconnected\n",
      "FAILED ..\\..\\..\\..\\..\\..\\program files\\python37\\lib\\site-packages\\memote\\suite\\tests\\test_consistency.py::test_find_metabolites_not_produced_with_open_bounds\n",
      "FAILED ..\\..\\..\\..\\..\\..\\program files\\python37\\lib\\site-packages\\memote\\suite\\tests\\test_consistency.py::test_find_metabolites_not_consumed_with_open_bounds\n",
      "FAILED ..\\..\\..\\..\\..\\..\\program files\\python37\\lib\\site-packages\\memote\\suite\\tests\\test_sbo.py::test_metabolite_sbo_presence\n",
      "FAILED ..\\..\\..\\..\\..\\..\\program files\\python37\\lib\\site-packages\\memote\\suite\\tests\\test_sbo.py::test_reaction_sbo_presence\n",
      "FAILED ..\\..\\..\\..\\..\\..\\program files\\python37\\lib\\site-packages\\memote\\suite\\tests\\test_sbo.py::test_gene_sbo_presence\n",
      "FAILED ..\\..\\..\\..\\..\\..\\program files\\python37\\lib\\site-packages\\memote\\suite\\tests\\test_sbo.py::test_metabolic_reaction_specific_sbo_presence\n",
      "FAILED ..\\..\\..\\..\\..\\..\\program files\\python37\\lib\\site-packages\\memote\\suite\\tests\\test_sbo.py::test_transport_reaction_specific_sbo_presence\n",
      "FAILED ..\\..\\..\\..\\..\\..\\program files\\python37\\lib\\site-packages\\memote\\suite\\tests\\test_sbo.py::test_metabolite_specific_sbo_presence\n",
      "FAILED ..\\..\\..\\..\\..\\..\\program files\\python37\\lib\\site-packages\\memote\\suite\\tests\\test_sbo.py::test_gene_specific_sbo_presence\n",
      "FAILED ..\\..\\..\\..\\..\\..\\program files\\python37\\lib\\site-packages\\memote\\suite\\tests\\test_sbo.py::test_exchange_specific_sbo_presence\n",
      "FAILED ..\\..\\..\\..\\..\\..\\program files\\python37\\lib\\site-packages\\memote\\suite\\tests\\test_sbo.py::test_demand_specific_sbo_presence\n",
      "FAILED ..\\..\\..\\..\\..\\..\\program files\\python37\\lib\\site-packages\\memote\\suite\\tests\\test_sbo.py::test_sink_specific_sbo_presence\n",
      "====== 85 failed, 61 passed, 19 skipped, 1 warning in 392.03s (0:06:32) =======\n",
      "Wall time: 7min 2s\n"
     ]
    },
    {
     "name": "stderr",
     "output_type": "stream",
     "text": [
      "error: No objective coefficients in model. Unclear what should be optimized\n",
      "c:\\program files\\python37\\lib\\site-packages\\dash\\testing\\plugin.py:17: UserWarning:\n",
      "\n",
      "run `pip install dash[testing]` if you need dash.testing\n",
      "\n",
      "Writing snapshot report to 'iSynCJ816.html'.\n"
     ]
    }
   ],
   "source": [
    "%%time\n",
    "!memote report snapshot iSynCJ816.xml --filename iSynCJ816.html"
   ]
  },
  {
   "cell_type": "markdown",
   "id": "01fb247b",
   "metadata": {},
   "source": [
    "#### Comments on differences between the reconstruction and published model"
   ]
  },
  {
   "cell_type": "code",
   "execution_count": null,
   "id": "a22a9ebe",
   "metadata": {},
   "outputs": [],
   "source": []
  },
  {
   "cell_type": "markdown",
   "id": "48956034",
   "metadata": {},
   "source": [
    "## 4.2 Addition of Heterologous Pathways for p-coumaric acid"
   ]
  },
  {
   "cell_type": "code",
   "execution_count": 3,
   "id": "f90e2695",
   "metadata": {},
   "outputs": [],
   "source": [
    "# Pathways are described in Gao et al 2021.\n",
    "\n",
    "# define metabolites\n",
    "trans_Cinnamate = Metabolite(id = 'TRCI', compartment='c', name='trans-Cinnamate', formula='C9H8O2')\n",
    "p_Coumaric_acid = Metabolite(id = 'PCOU', compartment='c', name='p-Coumaric acid', formula='C9H8O3')\n",
    "\n",
    "# define reactions\n",
    "phenylalanine_ammonia_lyase = Reaction('PAL') # R00697\n",
    "trans_cinnamate_4_monooxygenase = Reaction('CYP73A') # R02253\n",
    "\n",
    "# add metabolites to reactions\n",
    "phenylalanine_ammonia_lyase.add_metabolites(({model.metabolites.phe__L_c : -1,\n",
    "                                              trans_Cinnamate: 1,\n",
    "                                              model.metabolites.nh3_c: 1\n",
    "                                             }))\n",
    "trans_cinnamate_4_monooxygenase.add_metabolites(({model.metabolites.o2_c : -1,\n",
    "                                                  trans_Cinnamate: -1,\n",
    "                                                  model.metabolites.nadph_c : -1,\n",
    "                                                  p_Coumaric_acid: 1,\n",
    "                                                  model.metabolites.h2o_c: 1,\n",
    "                                                  model.metabolites.nadph_c : 1,\n",
    "                                                 }))\n",
    "\n",
    "# add reactions to model\n",
    "model.add_reactions([phenylalanine_ammonia_lyase])\n",
    "model.add_reactions([trans_cinnamate_4_monooxygenase])\n",
    "model.add_boundary(model.metabolites.TRCI, type='demand') # demand reaction because metabolites are intracellular\n",
    "model.add_boundary(model.metabolites.PCOU, type='demand') # demand reaction because metabolites are intracellular\n",
    "\n",
    "# set model objective to maximize P-Coumaric acid\n",
    "model.objective = 'PAL'"
   ]
  },
  {
   "cell_type": "markdown",
   "id": "d31eac27",
   "metadata": {},
   "source": [
    "## 4.3 Theoretical Maximum Yield"
   ]
  },
  {
   "cell_type": "markdown",
   "id": "1905d715",
   "metadata": {},
   "source": [
    "#### For default media (specified in pre-built model):"
   ]
  },
  {
   "cell_type": "code",
   "execution_count": 4,
   "id": "19ceeed5",
   "metadata": {},
   "outputs": [
    {
     "name": "stdout",
     "output_type": "stream",
     "text": [
      "The maximum rate of p-coumaric acid is:   0.51 mmol/gDW*h\n",
      "Maximum theoretical yield:   0.5 mmol-pcou/mmol-co2\n"
     ]
    }
   ],
   "source": [
    "pcou_rate = model.optimize().objective_value # AKA productivity\n",
    "print('The maximum rate of p-coumaric acid is:  ', pcou_rate, 'mmol/gDW*h')\n",
    "\n",
    "# Must define yield.  Versus sunlight? 50 umol photons/m2/s is common in Gao 2021. Try CO2 instead. More sensible.\n",
    "# The model includes the exchange reaction for CO2, EX_co2_e.\n",
    "max_yield = pcou_rate / (model.reactions.EX_co2_e.flux)\n",
    "print('Maximum theoretical yield:  ', max_yield, 'mmol-pcou/mmol-co2')"
   ]
  },
  {
   "cell_type": "markdown",
   "id": "1249c28b",
   "metadata": {},
   "source": [
    "#### For BG-11 media (typical medium for Synechocystis as used by Gao 2021):"
   ]
  },
  {
   "cell_type": "markdown",
   "id": "549ee0a0",
   "metadata": {},
   "source": [
    "The model built by Joshi et al 2017 includes the default medium choice, but the typical medium for Synechocystis cultivation, that was also used by Gao 2021, is BG-11. Add BG-11 into the model. BG-11 components: https://utex.org/products/bg-11-medium?variant=30991786868826 Of the 10 components comprising BG-11, only some (8) are found in the exchange reactions: sodium nitrate, sodium EDTA, sodium carbonate, dipotassium phosphate, magnesium sulfate, calcium chloride, citric acid, and ferric ammonium citrate."
   ]
  },
  {
   "cell_type": "code",
   "execution_count": null,
   "id": "8513f931",
   "metadata": {},
   "outputs": [],
   "source": [
    "# useful functions for cross-checking reactions and metabolites\n",
    "# model.medium\n",
    "# model.exchanges\n",
    "# model.metabolites.query('na')\n",
    "# model.reactions.get_by_id('EX_co2_e')\n",
    "# model.metabolites.get_by_id('cit_e')\n",
    "# model.slim_optimize() # returns just objective value, not entire solution object"
   ]
  },
  {
   "cell_type": "code",
   "execution_count": 5,
   "id": "4712b34c",
   "metadata": {},
   "outputs": [],
   "source": [
    "BG11 = {} # medium is a dictionary of exchange fluxes and their upper bounds\n",
    "\n",
    "# components comprising BG-11 medium\n",
    "BG11['EX_na1_e'] = 10 # from sodium nitrate, sodium EDTA, sodium carbonate\n",
    "BG11['EX_k_e'] = 10 # from potassium phosphate\n",
    "BG11['EX_pi_e'] = 10 # from dipotassium phosphate\n",
    "BG11['EX_h_e'] = 10 # from dipotassium phosphate\n",
    "BG11['EX_mg2_e'] = 10 # magnesium sulfate\n",
    "BG11['EX_ca2_e'] = 10 # from calcium chloride\n",
    "BG11['EX_cit_e'] = 10 # from citric acid\n",
    "BG11['EX_fe3_e'] = 10 # from ferric ammonium citrate\n",
    "BG11['EX_nh4_e'] = 10 # from ferric ammonium citrate\n",
    "BG11['EX_no3_e'] = 10 # from sodium nitrate\n",
    "BG11['EX_hco3_e'] = 10 # from sodium carbonate\n",
    "\n",
    "# other components in typical cultivations\n",
    "#BG11['EX_co2_e'] = 10 # ambient carbon dioxide\n",
    "#BG11['EX_o2_e'] = 0 # ambient oxygen, it's a photoautotroph\n",
    "BG11['EX_photon_e'] = 10000 # light\n",
    "\n",
    "#print(BG11)\n",
    "model.medium = BG11\n",
    "\n",
    "# set correct exchange reaction limits\n",
    "#model.reactions.EX_o2_e.bounds = -1000, 999999 # oxygen is released during photosynthesis"
   ]
  },
  {
   "cell_type": "code",
   "execution_count": 6,
   "id": "c6d54c42",
   "metadata": {},
   "outputs": [
    {
     "name": "stdout",
     "output_type": "stream",
     "text": [
      "For BG-11 media...\n",
      "\n",
      "Maximum rate of p-coumaric acid is:   122.5049701789264 mmol/gDW*h\n",
      "Maximum theoretical yield:   0.8032850997262417 mmol-pcou/mmol-co2\n",
      "\n",
      "The composition of the minimal media to achieve the maximum productivity is:  \n"
     ]
    },
    {
     "data": {
      "text/plain": [
       "EX_cit_e          10.0\n",
       "EX_h_e            10.0\n",
       "EX_photon_e    10000.0\n",
       "dtype: float64"
      ]
     },
     "execution_count": 6,
     "metadata": {},
     "output_type": "execute_result"
    }
   ],
   "source": [
    "from cobra.medium import minimal_medium\n",
    "\n",
    "print('For BG-11 media...\\n')\n",
    "\n",
    "pcou_rate = model.optimize().objective_value # AKA productivity\n",
    "print('Maximum rate of p-coumaric acid is:  ', pcou_rate, 'mmol/gDW*h')\n",
    "max_yield = pcou_rate / (model.reactions.EX_co2_e.flux)\n",
    "print('Maximum theoretical yield:  ', max_yield, 'mmol-pcou/mmol-co2')\n",
    "\n",
    "print('\\nThe composition of the minimal media to achieve the maximum productivity is:  ')\n",
    "minimal_medium(model, pcou_rate, minimize_components=8, open_exchanges=False)"
   ]
  },
  {
   "cell_type": "code",
   "execution_count": null,
   "id": "b8f22ad6",
   "metadata": {},
   "outputs": [],
   "source": [
    "%%time\n",
    "!memote report snapshot model --filename pcou_syn.html"
   ]
  },
  {
   "cell_type": "markdown",
   "id": "29b2fad1",
   "metadata": {},
   "source": [
    "#### Further optimization: Focus on CO2, oxygen, and light?"
   ]
  },
  {
   "cell_type": "code",
   "execution_count": null,
   "id": "4b760c51",
   "metadata": {},
   "outputs": [],
   "source": []
  },
  {
   "cell_type": "markdown",
   "id": "0338718a",
   "metadata": {},
   "source": [
    "## 4.4 Phenotypic Phase Planes"
   ]
  },
  {
   "cell_type": "markdown",
   "id": "2164c090",
   "metadata": {},
   "source": [
    "We know that Synechocystis is a photosynthetic organism, so the main process conditions we should explore in the phenotypic phase planes are light and CO2 levels.  Based on the minimal media analysis, we may also want to see phenotypic phase planes for citrate and pH. The objective for each should be p-coumaric acid production rate, rather than biomass formation, because it is an extracellular product."
   ]
  },
  {
   "cell_type": "code",
   "execution_count": 7,
   "id": "d7cb7689",
   "metadata": {},
   "outputs": [],
   "source": [
    "from cobra.flux_analysis.phenotype_phase_plane import production_envelope, _add_envelope"
   ]
  },
  {
   "cell_type": "code",
   "execution_count": 9,
   "id": "7489b2b6",
   "metadata": {},
   "outputs": [
    {
     "data": {
      "text/plain": [
       "<matplotlib.axes._subplots.AxesSubplot at 0x19372c3b748>"
      ]
     },
     "execution_count": 9,
     "metadata": {},
     "output_type": "execute_result"
    },
    {
     "data": {
      "image/png": "[encoded data removed]",
      "text/plain": [
       "<Figure size 432x288 with 1 Axes>"
      ]
     },
     "metadata": {
      "needs_background": "light"
     },
     "output_type": "display_data"
    }
   ],
   "source": [
    "# For photons\n",
    "ppp_pcou = production_envelope(model,\n",
    "                               reactions=[model.reactions.EX_photon_e],\n",
    "                               objective=model.reactions.PAL)\n",
    "ppp_pcou.plot(x='EX_photon_e', y='flux_maximum')"
   ]
  },
  {
   "cell_type": "code",
   "execution_count": 13,
   "id": "ca778d52",
   "metadata": {},
   "outputs": [
    {
     "data": {
      "text/plain": [
       "<matplotlib.axes._subplots.AxesSubplot at 0x2557d8bd748>"
      ]
     },
     "execution_count": 13,
     "metadata": {},
     "output_type": "execute_result"
    },
    {
     "data": {
      "image/png": "[encoded data removed]",
      "text/plain": [
       "<Figure size 432x288 with 1 Axes>"
      ]
     },
     "metadata": {
      "needs_background": "light"
     },
     "output_type": "display_data"
    }
   ],
   "source": [
    "# For CO2\n",
    "ppp_pcou = production_envelope(model,\n",
    "                               reactions=[model.reactions.EX_co2_e],\n",
    "                               objective=model.reactions.PAL)\n",
    "ppp_pcou.plot(x='EX_co2_e', y='flux_maximum')"
   ]
  },
  {
   "cell_type": "code",
   "execution_count": 14,
   "id": "f3533a05",
   "metadata": {},
   "outputs": [
    {
     "data": {
      "text/plain": [
       "<matplotlib.axes._subplots.AxesSubplot at 0x2557da50710>"
      ]
     },
     "execution_count": 14,
     "metadata": {},
     "output_type": "execute_result"
    },
    {
     "data": {
      "image/png": "[encoded data removed]",
      "text/plain": [
       "<Figure size 432x288 with 1 Axes>"
      ]
     },
     "metadata": {
      "needs_background": "light"
     },
     "output_type": "display_data"
    }
   ],
   "source": [
    "# For Citrate\n",
    "ppp_pcou = production_envelope(model,\n",
    "                               reactions=[model.reactions.EX_cit_e],\n",
    "                               objective=model.reactions.PAL)\n",
    "ppp_pcou.plot(x='EX_cit_e', y='flux_maximum')"
   ]
  },
  {
   "cell_type": "code",
   "execution_count": 15,
   "id": "60f006b2",
   "metadata": {},
   "outputs": [
    {
     "data": {
      "text/plain": [
       "<matplotlib.axes._subplots.AxesSubplot at 0x2557d8989b0>"
      ]
     },
     "execution_count": 15,
     "metadata": {},
     "output_type": "execute_result"
    },
    {
     "data": {
      "image/png": "[encoded data removed]",
      "text/plain": [
       "<Figure size 432x288 with 1 Axes>"
      ]
     },
     "metadata": {
      "needs_background": "light"
     },
     "output_type": "display_data"
    }
   ],
   "source": [
    "# For H+\n",
    "ppp_pcou = production_envelope(model,\n",
    "                               reactions=[model.reactions.EX_h_e],\n",
    "                               objective=model.reactions.PAL)\n",
    "ppp_pcou.plot(x='EX_h_e', y='flux_maximum')"
   ]
  },
  {
   "cell_type": "markdown",
   "id": "b063812c",
   "metadata": {},
   "source": [
    "###### Comments on what these PPP charts mean?"
   ]
  },
  {
   "cell_type": "code",
   "execution_count": 80,
   "id": "d2c3217d",
   "metadata": {},
   "outputs": [
    {
     "data": {
      "image/png": "[encoded data removed]",
      "text/plain": [
       "<Figure size 432x288 with 1 Axes>"
      ]
     },
     "metadata": {
      "needs_background": "light"
     },
     "output_type": "display_data"
    }
   ],
   "source": [
    "# Combination?\n",
    "import matplotlib.pyplot as plt\n",
    "from mpl_toolkits.mplot3d import Axes3D\n",
    "import numpy as np\n",
    "\n",
    "ppp_pcou = production_envelope(model,\n",
    "                               reactions=[model.reactions.EX_h_e,\n",
    "                                          model.reactions.EX_photon_e],\n",
    "                               objective=model.reactions.PAL)\n",
    "\n",
    "fig = plt.figure()\n",
    "ax = Axes3D(fig)\n",
    "X = ppp_pcou['EX_h_e'].unique()\n",
    "Y = ppp_pcou['EX_photon_e'].unique()\n",
    "Z = ppp_pcou['flux_maximum'].values\n",
    "Z = Z.reshape(len(X),len(Y))\n",
    "X, Y = np.meshgrid(X, Y)\n",
    "surf = ax.plot_surface(X, Y, Z, linewidth=0, antialiased=False)"
   ]
  },
  {
   "cell_type": "code",
   "execution_count": null,
   "id": "8a2a659d",
   "metadata": {},
   "outputs": [],
   "source": []
  }
 ],
 "metadata": {
  "kernelspec": {
   "display_name": "Python 3 (ipykernel)",
   "language": "python",
   "name": "python3"
  },
  "language_info": {
   "codemirror_mode": {
    "name": "ipython",
    "version": 3
   },
   "file_extension": ".py",
   "mimetype": "text/x-python",
   "name": "python",
   "nbconvert_exporter": "python",
   "pygments_lexer": "ipython3",
   "version": "3.7.0"
  }
 },
 "nbformat": 4,
 "nbformat_minor": 5
}
