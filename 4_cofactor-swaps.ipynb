{
 "cells": [
  {
   "cell_type": "markdown",
   "id": "eccbccba",
   "metadata": {},
   "source": [
    "### Co-factor swap optimization\n",
    "\n",
    "The p-coumaric acid production is NADPH dependent, meaning that a co-factor swap analysis might be useful to determine if the increasement of available NADPH by swapping it to NADH in other reactions could improve the production of our target molecule. This method relies on the fact, that oxidoreductases participating in the microbial metabolism posess\n",
    "preferential binding specificity for either NADH or NADPH. Genreally, this also determines the role of a certain oxidoreductase enzyme: katabolic reactions are NAD+ or NADH dependent while anabolic ones rely on NADP+ or NADPH. OptSwap is a computational tool, which able to identify the optimal modification of cofactor binding specificities regarding to these enzymes, and previously were used succesfully in other settings (King et al., 2013).\n"
   ]
  },
  {
   "cell_type": "code",
   "execution_count": 43,
   "id": "5faefb59",
   "metadata": {},
   "outputs": [],
   "source": [
    "from cobra.io import read_sbml_model\n",
    "from cobra import Reaction, Metabolite"
   ]
  },
  {
   "cell_type": "code",
   "execution_count": 44,
   "id": "18b80e6a",
   "metadata": {},
   "outputs": [
    {
     "data": {
      "text/html": [
       "\n",
       "        <table>\n",
       "            <tr>\n",
       "                <td><strong>Reaction identifier</strong></td><td>DM_PCOU</td>\n",
       "            </tr><tr>\n",
       "                <td><strong>Name</strong></td><td>p-Coumaric acid demand</td>\n",
       "            </tr><tr>\n",
       "                <td><strong>Memory address</strong></td>\n",
       "                <td>0x022b2df1edf0</td>\n",
       "            </tr><tr>\n",
       "                <td><strong>Stoichiometry</strong></td>\n",
       "                <td>\n",
       "                    <p style='text-align:right'>PCOU --></p>\n",
       "                    <p style='text-align:right'>p-Coumaric acid --></p>\n",
       "                </td>\n",
       "            </tr><tr>\n",
       "                <td><strong>GPR</strong></td><td></td>\n",
       "            </tr><tr>\n",
       "                <td><strong>Lower bound</strong></td><td>0</td>\n",
       "            </tr><tr>\n",
       "                <td><strong>Upper bound</strong></td><td>1000.0</td>\n",
       "            </tr>\n",
       "        </table>\n",
       "        "
      ],
      "text/plain": [
       "<Reaction DM_PCOU at 0x22b2df1edf0>"
      ]
     },
     "execution_count": 44,
     "metadata": {},
     "output_type": "execute_result"
    }
   ],
   "source": [
    "model = read_sbml_model('iSynCJ816.xml')\n",
    "\n",
    "#adding the metabolites (from KEGG, according to the article)\n",
    "trans_Cinnamate = Metabolite(id = 'TRCI', compartment='c', name='trans-Cinnamate', formula='C9H8O2')\n",
    "p_Coumaric_acid = Metabolite(id = 'PCOU', compartment='c', name='p-Coumaric acid', formula='C9H8O3')\n",
    "\n",
    "#adding the reactions\n",
    "phenylalanine_ammonia_lyase = Reaction('PAL')\n",
    "trans_cinnamate_4_monooxygenase = Reaction('CYP73A')\n",
    "\n",
    "#adding the metabolites into the reactions\n",
    "phenylalanine_ammonia_lyase.add_metabolites(({model.metabolites.phe__L_c : -1,  \n",
    "                              trans_Cinnamate: 1, \n",
    "                              model.metabolites.nh3_c: 1, \n",
    "                            }))\n",
    "trans_cinnamate_4_monooxygenase.add_metabolites(({model.metabolites.o2_c : -1,\n",
    "                                                  trans_Cinnamate: -1,\n",
    "                                                  model.metabolites.nadph_c : -1,\n",
    "                                                  p_Coumaric_acid: 1,\n",
    "                                                  model.metabolites.h2o_c: 1,\n",
    "                                                  model.metabolites.nadph_c : 1,\n",
    "                                                 }))\n",
    "\n",
    "#Adding the reactions to the model:\n",
    "model.add_reactions([phenylalanine_ammonia_lyase])\n",
    "model.add_reactions([trans_cinnamate_4_monooxygenase])\n",
    "\n",
    "model.add_boundary(model.metabolites.TRCI, type='demand')\n",
    "model.add_boundary(model.metabolites.PCOU, type='demand')"
   ]
  },
  {
   "cell_type": "code",
   "execution_count": 45,
   "id": "7b17b5fe",
   "metadata": {},
   "outputs": [],
   "source": [
    "from cameo.strain_design.heuristic.evolutionary.optimization import CofactorSwapOptimization\n",
    "from cameo.strain_design.heuristic.evolutionary.objective_functions import product_yield\n",
    "from cameo.strain_design.heuristic.evolutionary.objective_functions import biomass_product_coupled_yield\n",
    "from cameo.util import TimeMachine\n",
    "from cameo.flux_analysis.analysis import flux_variability_analysis as fva"
   ]
  },
  {
   "cell_type": "code",
   "execution_count": 46,
   "id": "1895e7b8",
   "metadata": {},
   "outputs": [],
   "source": [
    "model.objective = model.reactions.CYP73A"
   ]
  },
  {
   "cell_type": "code",
   "execution_count": 47,
   "id": "88542880",
   "metadata": {},
   "outputs": [],
   "source": [
    "model.reactions.BIOMASS_Ec_SynAuto_1.lower_bound = 0.1"
   ]
  },
  {
   "cell_type": "code",
   "execution_count": 48,
   "id": "b477a9f8",
   "metadata": {},
   "outputs": [],
   "source": [
    "py = product_yield(model.reactions.CYP73A, model.reactions.RBPC_1)"
   ]
  },
  {
   "cell_type": "code",
   "execution_count": 49,
   "id": "b1861d15",
   "metadata": {},
   "outputs": [],
   "source": [
    "swap_optimization = CofactorSwapOptimization(model=model, objective_function=py)"
   ]
  },
  {
   "cell_type": "code",
   "execution_count": 50,
   "id": "0170a6dc",
   "metadata": {},
   "outputs": [
    {
     "name": "stdout",
     "output_type": "stream",
     "text": [
      "Starting optimization at Mon, 28 Nov 2022 06:31:33\n"
     ]
    },
    {
     "data": {
      "text/html": [
       "\n",
       "\n",
       "\n",
       "\n",
       "\n",
       "\n",
       "  <div class=\"bk-root\" id=\"50a53a6b-694f-4430-af15-ebce9aa8757d\" data-root-id=\"1608\"></div>\n"
      ]
     },
     "metadata": {},
     "output_type": "display_data"
    },
    {
     "data": {
      "application/javascript": [
       "(function(root) {\n",
       "  function embed_document(root) {\n",
       "    \n",
       "  const docs_json = {\"abe7b0e3-0d38-4284-9b0e-784b92e6ef84\":{\"defs\":[],\"roots\":{\"references\":[{\"attributes\":{\"below\":[{\"id\":\"1619\"}],\"center\":[{\"id\":\"1622\"},{\"id\":\"1626\"}],\"height\":400,\"left\":[{\"id\":\"1623\"}],\"renderers\":[{\"id\":\"1633\"}],\"title\":{\"id\":\"1609\"},\"toolbar\":{\"id\":\"1627\"},\"width\":650,\"x_range\":{\"id\":\"1611\"},\"x_scale\":{\"id\":\"1615\"},\"y_range\":{\"id\":\"1613\"},\"y_scale\":{\"id\":\"1617\"}},\"id\":\"1608\",\"subtype\":\"Figure\",\"type\":\"Plot\"},{\"attributes\":{},\"id\":\"1686\",\"type\":\"AllLabels\"},{\"attributes\":{\"source\":{\"id\":\"1628\"}},\"id\":\"1634\",\"type\":\"CDSView\"},{\"attributes\":{},\"id\":\"1611\",\"type\":\"DataRange1d\"},{\"attributes\":{\"coordinates\":null,\"group\":null,\"text\":\"Fitness plot\"},\"id\":\"1609\",\"type\":\"Title\"},{\"attributes\":{},\"id\":\"1615\",\"type\":\"LinearScale\"},{\"attributes\":{},\"id\":\"1613\",\"type\":\"DataRange1d\"},{\"attributes\":{},\"id\":\"1617\",\"type\":\"LinearScale\"},{\"attributes\":{},\"id\":\"1620\",\"type\":\"BasicTicker\"},{\"attributes\":{\"axis\":{\"id\":\"1619\"},\"coordinates\":null,\"group\":null,\"ticker\":null},\"id\":\"1622\",\"type\":\"Grid\"},{\"attributes\":{\"axis_label\":\"Fitness\",\"coordinates\":null,\"formatter\":{\"id\":\"1682\"},\"group\":null,\"major_label_policy\":{\"id\":\"1683\"},\"ticker\":{\"id\":\"1624\"}},\"id\":\"1623\",\"type\":\"LinearAxis\"},{\"attributes\":{},\"id\":\"1682\",\"type\":\"BasicTickFormatter\"},{\"attributes\":{\"axis_label\":\"Iteration\",\"coordinates\":null,\"formatter\":{\"id\":\"1685\"},\"group\":null,\"major_label_policy\":{\"id\":\"1686\"},\"ticker\":{\"id\":\"1620\"}},\"id\":\"1619\",\"type\":\"LinearAxis\"},{\"attributes\":{},\"id\":\"1688\",\"type\":\"Selection\"},{\"attributes\":{},\"id\":\"1683\",\"type\":\"AllLabels\"},{\"attributes\":{\"axis\":{\"id\":\"1623\"},\"coordinates\":null,\"dimension\":1,\"group\":null,\"ticker\":null},\"id\":\"1626\",\"type\":\"Grid\"},{\"attributes\":{},\"id\":\"1685\",\"type\":\"BasicTickFormatter\"},{\"attributes\":{},\"id\":\"1624\",\"type\":\"BasicTicker\"},{\"attributes\":{},\"id\":\"1627\",\"type\":\"Toolbar\"},{\"attributes\":{\"data\":{\"x\":[],\"y\":[]},\"selected\":{\"id\":\"1688\"},\"selection_policy\":{\"id\":\"1687\"}},\"id\":\"1628\",\"type\":\"ColumnDataSource\"},{\"attributes\":{\"fill_color\":{\"value\":\"#1f77b4\"},\"line_color\":{\"value\":\"#1f77b4\"},\"x\":{\"field\":\"x\"},\"y\":{\"field\":\"y\"}},\"id\":\"1630\",\"type\":\"Circle\"},{\"attributes\":{\"fill_alpha\":{\"value\":0.2},\"fill_color\":{\"value\":\"#1f77b4\"},\"hatch_alpha\":{\"value\":0.2},\"line_alpha\":{\"value\":0.2},\"line_color\":{\"value\":\"#1f77b4\"},\"x\":{\"field\":\"x\"},\"y\":{\"field\":\"y\"}},\"id\":\"1632\",\"type\":\"Circle\"},{\"attributes\":{},\"id\":\"1687\",\"type\":\"UnionRenderers\"},{\"attributes\":{\"coordinates\":null,\"data_source\":{\"id\":\"1628\"},\"glyph\":{\"id\":\"1630\"},\"group\":null,\"hover_glyph\":null,\"muted_glyph\":{\"id\":\"1632\"},\"nonselection_glyph\":{\"id\":\"1631\"},\"view\":{\"id\":\"1634\"}},\"id\":\"1633\",\"type\":\"GlyphRenderer\"},{\"attributes\":{\"fill_alpha\":{\"value\":0.1},\"fill_color\":{\"value\":\"#1f77b4\"},\"hatch_alpha\":{\"value\":0.1},\"line_alpha\":{\"value\":0.1},\"line_color\":{\"value\":\"#1f77b4\"},\"x\":{\"field\":\"x\"},\"y\":{\"field\":\"y\"}},\"id\":\"1631\",\"type\":\"Circle\"}],\"root_ids\":[\"1608\"]},\"title\":\"Bokeh Application\",\"version\":\"2.4.2\"}};\n",
       "  const render_items = [{\"docid\":\"abe7b0e3-0d38-4284-9b0e-784b92e6ef84\",\"notebook_comms_target\":\"1689\",\"root_ids\":[\"1608\"],\"roots\":{\"1608\":\"50a53a6b-694f-4430-af15-ebce9aa8757d\"}}];\n",
       "  root.Bokeh.embed.embed_items_notebook(docs_json, render_items);\n",
       "\n",
       "  }\n",
       "  if (root.Bokeh !== undefined) {\n",
       "    embed_document(root);\n",
       "  } else {\n",
       "    let attempts = 0;\n",
       "    const timer = setInterval(function(root) {\n",
       "      if (root.Bokeh !== undefined) {\n",
       "        clearInterval(timer);\n",
       "        embed_document(root);\n",
       "      } else {\n",
       "        attempts++;\n",
       "        if (attempts > 100) {\n",
       "          clearInterval(timer);\n",
       "          console.log(\"Bokeh: ERROR: Unable to run BokehJS code because BokehJS library is missing\");\n",
       "        }\n",
       "      }\n",
       "    }, 10, root)\n",
       "  }\n",
       "})(window);"
      ],
      "application/vnd.bokehjs_exec.v0+json": ""
     },
     "metadata": {
      "application/vnd.bokehjs_exec.v0+json": {
       "id": "1608"
      }
     },
     "output_type": "display_data"
    },
    {
     "name": "stderr",
     "output_type": "stream",
     "text": [
      "BokehUserWarning: ColumnDataSource's columns must be of the same length. Current lengths: ('x', 1), ('y', 0)\n"
     ]
    },
    {
     "data": {
      "application/vnd.jupyter.widget-view+json": {
       "model_id": "2533ec4653d8423ab3e8247914af3b52",
       "version_major": 2,
       "version_minor": 0
      },
      "text/plain": [
       "HBox()"
      ]
     },
     "metadata": {},
     "output_type": "display_data"
    },
    {
     "name": "stderr",
     "output_type": "stream",
     "text": [
      "BokehUserWarning: ColumnDataSource's columns must be of the same length. Current lengths: ('x', 2), ('y', 1)\n",
      "BokehUserWarning: ColumnDataSource's columns must be of the same length. Current lengths: ('x', 3), ('y', 2)\n",
      "BokehUserWarning: ColumnDataSource's columns must be of the same length. Current lengths: ('x', 4), ('y', 3)\n",
      "BokehUserWarning: ColumnDataSource's columns must be of the same length. Current lengths: ('x', 5), ('y', 4)\n",
      "BokehUserWarning: ColumnDataSource's columns must be of the same length. Current lengths: ('x', 6), ('y', 5)\n",
      "BokehUserWarning: ColumnDataSource's columns must be of the same length. Current lengths: ('x', 7), ('y', 6)\n",
      "BokehUserWarning: ColumnDataSource's columns must be of the same length. Current lengths: ('x', 8), ('y', 7)\n",
      "BokehUserWarning: ColumnDataSource's columns must be of the same length. Current lengths: ('x', 9), ('y', 8)\n",
      "BokehUserWarning: ColumnDataSource's columns must be of the same length. Current lengths: ('x', 10), ('y', 9)\n",
      "BokehUserWarning: ColumnDataSource's columns must be of the same length. Current lengths: ('x', 11), ('y', 10)\n",
      "BokehUserWarning: ColumnDataSource's columns must be of the same length. Current lengths: ('x', 12), ('y', 11)\n",
      "BokehUserWarning: ColumnDataSource's columns must be of the same length. Current lengths: ('x', 13), ('y', 12)\n",
      "BokehUserWarning: ColumnDataSource's columns must be of the same length. Current lengths: ('x', 14), ('y', 13)\n",
      "BokehUserWarning: ColumnDataSource's columns must be of the same length. Current lengths: ('x', 15), ('y', 14)\n",
      "BokehUserWarning: ColumnDataSource's columns must be of the same length. Current lengths: ('x', 16), ('y', 15)\n",
      "BokehUserWarning: ColumnDataSource's columns must be of the same length. Current lengths: ('x', 17), ('y', 16)\n",
      "BokehUserWarning: ColumnDataSource's columns must be of the same length. Current lengths: ('x', 18), ('y', 17)\n",
      "BokehUserWarning: ColumnDataSource's columns must be of the same length. Current lengths: ('x', 19), ('y', 18)\n",
      "BokehUserWarning: ColumnDataSource's columns must be of the same length. Current lengths: ('x', 20), ('y', 19)\n"
     ]
    },
    {
     "name": "stdout",
     "output_type": "stream",
     "text": [
      "Finished after 00:00:02\n"
     ]
    }
   ],
   "source": [
    "result = swap_optimization.run(max_evaluations=2000, max_size=2)"
   ]
  },
  {
   "cell_type": "code",
   "execution_count": 51,
   "id": "c442cf33",
   "metadata": {},
   "outputs": [
    {
     "data": {
      "text/html": [
       "\n",
       "        <h4>Result:</h4>\n",
       "        <ul>\n",
       "            <li>model: iSynCJ816</li>\n",
       "            <li>heuristic: GA</li>\n",
       "            <li>objective function: $$yield = \\frac{CYP73A}{RBPC\\_1}$$</li>\n",
       "            <li>simulation method: pfba</li>\n",
       "            <li>target type: cofactor-swap</li>\n",
       "        <ul>\n",
       "        <div>\n",
       "<style scoped>\n",
       "    .dataframe tbody tr th:only-of-type {\n",
       "        vertical-align: middle;\n",
       "    }\n",
       "\n",
       "    .dataframe tbody tr th {\n",
       "        vertical-align: top;\n",
       "    }\n",
       "\n",
       "    .dataframe thead th {\n",
       "        text-align: right;\n",
       "    }\n",
       "</style>\n",
       "<table border=\"1\" class=\"dataframe\">\n",
       "  <thead>\n",
       "    <tr style=\"text-align: right;\">\n",
       "      <th></th>\n",
       "      <th>index</th>\n",
       "      <th>targets</th>\n",
       "      <th>fitness</th>\n",
       "    </tr>\n",
       "  </thead>\n",
       "  <tbody>\n",
       "  </tbody>\n",
       "</table>\n",
       "</div>"
      ],
      "text/plain": [
       "<cameo.strain_design.heuristic.evolutionary.optimization.TargetOptimizationResult at 0x22b2dea39a0>"
      ]
     },
     "execution_count": 51,
     "metadata": {},
     "output_type": "execute_result"
    }
   ],
   "source": [
    "result"
   ]
  },
  {
   "cell_type": "markdown",
   "id": "44adfccd",
   "metadata": {},
   "source": [
    "These results suggests, that unfortunately there is no target for cofactor specificity swapping to enhance the p-coumaric acid production."
   ]
  },
  {
   "cell_type": "markdown",
   "id": "cbe6a91e",
   "metadata": {},
   "source": [
    "### References:\n",
    "\n",
    "[1] King, Zachary A., and Adam M. Feist. \"Optimizing Cofactor Specificity of Oxidoreductase Enzymes for the Generation of Microbial Production Strains - OptSwap.\" Industrial Biotechnology 9, no. 4 (August 1,2013): 236-46. - doi:10.1089/ind. 2013.0005."
   ]
  },
  {
   "cell_type": "code",
   "execution_count": null,
   "id": "0912e11b",
   "metadata": {},
   "outputs": [],
   "source": []
  }
 ],
 "metadata": {
  "kernelspec": {
   "display_name": "Python 3 (ipykernel)",
   "language": "python",
   "name": "python3"
  },
  "language_info": {
   "codemirror_mode": {
    "name": "ipython",
    "version": 3
   },
   "file_extension": ".py",
   "mimetype": "text/x-python",
   "name": "python",
   "nbconvert_exporter": "python",
   "pygments_lexer": "ipython3",
   "version": "3.7.0"
  }
 },
 "nbformat": 4,
 "nbformat_minor": 5
}
