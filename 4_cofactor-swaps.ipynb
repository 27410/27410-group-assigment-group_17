{
 "cells": [
  {
   "cell_type": "markdown",
   "id": "eccbccba",
   "metadata": {},
   "source": [
    "### Co-factor swap optimization\n",
    "\n",
    "The p-coumaric acid production is NADPH dependent, meaning that a co-factor swap analysis might be useful to determine if the increasement of available NADPH by swapping it to NADH in other reactions could improve the production of our target molecule. This method relies on the fact, that oxidoreductases participating in the microbial metabolism posess\n",
    "preferential binding specificity for either NADH or NADPH. Genreally, this also determines the role of a certain oxidoreductase enzyme: katabolic reactions are NAD+ or NADH dependent while anabolic ones rely on NADP+ or NADPH. OptSwap is a computational tool, which able to identify the optimal modification of cofactor binding specificities regarding to these enzymes, and previously were used succesfully in other settings (King et al., 2013).\n"
   ]
  },
  {
   "cell_type": "code",
   "execution_count": 1,
   "id": "5faefb59",
   "metadata": {},
   "outputs": [],
   "source": [
    "from cobra.io import read_sbml_model\n",
    "from cobra import Reaction, Metabolite"
   ]
  },
  {
   "cell_type": "code",
   "execution_count": 2,
   "id": "18b80e6a",
   "metadata": {},
   "outputs": [
    {
     "data": {
      "text/html": [
       "\n",
       "        <table>\n",
       "            <tr>\n",
       "                <td><strong>Reaction identifier</strong></td><td>DM_PCOU</td>\n",
       "            </tr><tr>\n",
       "                <td><strong>Name</strong></td><td>p-Coumaric acid demand</td>\n",
       "            </tr><tr>\n",
       "                <td><strong>Memory address</strong></td>\n",
       "                <td>0x017749f046d8</td>\n",
       "            </tr><tr>\n",
       "                <td><strong>Stoichiometry</strong></td>\n",
       "                <td>\n",
       "                    <p style='text-align:right'>PCOU --></p>\n",
       "                    <p style='text-align:right'>p-Coumaric acid --></p>\n",
       "                </td>\n",
       "            </tr><tr>\n",
       "                <td><strong>GPR</strong></td><td></td>\n",
       "            </tr><tr>\n",
       "                <td><strong>Lower bound</strong></td><td>0</td>\n",
       "            </tr><tr>\n",
       "                <td><strong>Upper bound</strong></td><td>1000.0</td>\n",
       "            </tr>\n",
       "        </table>\n",
       "        "
      ],
      "text/plain": [
       "<Reaction DM_PCOU at 0x17749f046d8>"
      ]
     },
     "execution_count": 2,
     "metadata": {},
     "output_type": "execute_result"
    }
   ],
   "source": [
    "model = read_sbml_model('iSynCJ816.xml')\n",
    "\n",
    "#adding the metabolites (from KEGG, according to the article)\n",
    "trans_Cinnamate = Metabolite(id = 'TRCI', compartment='c', name='trans-Cinnamate', formula='C9H8O2')\n",
    "p_Coumaric_acid = Metabolite(id = 'PCOU', compartment='c', name='p-Coumaric acid', formula='C9H8O3')\n",
    "\n",
    "#adding the reactions\n",
    "phenylalanine_ammonia_lyase = Reaction('PAL')\n",
    "trans_cinnamate_4_monooxygenase = Reaction('CYP73A')\n",
    "\n",
    "#adding the metabolites into the reactions\n",
    "phenylalanine_ammonia_lyase.add_metabolites(({model.metabolites.phe__L_c : -1,  \n",
    "                              trans_Cinnamate: 1, \n",
    "                              model.metabolites.nh3_c: 1, \n",
    "                            }))\n",
    "trans_cinnamate_4_monooxygenase.add_metabolites(({model.metabolites.o2_c : -1,\n",
    "                                                  trans_Cinnamate: -1,\n",
    "                                                  model.metabolites.nadph_c : -1,\n",
    "                                                  p_Coumaric_acid: 1,\n",
    "                                                  model.metabolites.h2o_c: 1,\n",
    "                                                  model.metabolites.nadph_c : 1,\n",
    "                                                 }))\n",
    "\n",
    "#Adding the reactions to the model:\n",
    "model.add_reactions([phenylalanine_ammonia_lyase])\n",
    "model.add_reactions([trans_cinnamate_4_monooxygenase])\n",
    "\n",
    "model.add_boundary(model.metabolites.TRCI, type='demand')\n",
    "model.add_boundary(model.metabolites.PCOU, type='demand')"
   ]
  },
  {
   "cell_type": "code",
   "execution_count": 3,
   "id": "7b17b5fe",
   "metadata": {},
   "outputs": [],
   "source": [
    "from cameo.strain_design.heuristic.evolutionary.optimization import CofactorSwapOptimization\n",
    "from cameo.strain_design.heuristic.evolutionary.objective_functions import product_yield\n",
    "from cameo.strain_design.heuristic.evolutionary.objective_functions import biomass_product_coupled_yield\n",
    "from cameo.util import TimeMachine\n",
    "from cameo.flux_analysis.analysis import flux_variability_analysis as fva"
   ]
  },
  {
   "cell_type": "code",
   "execution_count": 4,
   "id": "1895e7b8",
   "metadata": {},
   "outputs": [],
   "source": [
    "model.objective = model.reactions.CYP73A"
   ]
  },
  {
   "cell_type": "code",
   "execution_count": 5,
   "id": "88542880",
   "metadata": {},
   "outputs": [],
   "source": [
    "model.reactions.BIOMASS_Ec_SynAuto_1.lower_bound = 0.1"
   ]
  },
  {
   "cell_type": "code",
   "execution_count": 6,
   "id": "b477a9f8",
   "metadata": {},
   "outputs": [],
   "source": [
    "py = product_yield(model.reactions.CYP73A, model.reactions.RBPC_1)"
   ]
  },
  {
   "cell_type": "code",
   "execution_count": 7,
   "id": "b1861d15",
   "metadata": {},
   "outputs": [],
   "source": [
    "swap_optimization = CofactorSwapOptimization(model=model, objective_function=py)"
   ]
  },
  {
   "cell_type": "code",
   "execution_count": 8,
   "id": "0170a6dc",
   "metadata": {},
   "outputs": [
    {
     "name": "stdout",
     "output_type": "stream",
     "text": [
      "Starting optimization at Tue, 29 Nov 2022 00:44:15\n"
     ]
    },
    {
     "data": {
      "application/vnd.jupyter.widget-view+json": {
       "model_id": "cee53c4bfea747c9b2409f05c75329c5",
       "version_major": 2,
       "version_minor": 0
      },
      "text/plain": [
       "HBox()"
      ]
     },
     "metadata": {},
     "output_type": "display_data"
    },
    {
     "name": "stdout",
     "output_type": "stream",
     "text": [
      "Finished after 00:00:04\n"
     ]
    }
   ],
   "source": [
    "result = swap_optimization.run(max_evaluations=5000, max_size=2)"
   ]
  },
  {
   "cell_type": "code",
   "execution_count": 9,
   "id": "c442cf33",
   "metadata": {},
   "outputs": [
    {
     "data": {
      "text/html": [
       "\n",
       "        <h4>Result:</h4>\n",
       "        <ul>\n",
       "            <li>model: iSynCJ816</li>\n",
       "            <li>heuristic: GA</li>\n",
       "            <li>objective function: $$yield = \\frac{CYP73A}{RBPC\\_1}$$</li>\n",
       "            <li>simulation method: pfba</li>\n",
       "            <li>target type: cofactor-swap</li>\n",
       "        <ul>\n",
       "        <div>\n",
       "<style scoped>\n",
       "    .dataframe tbody tr th:only-of-type {\n",
       "        vertical-align: middle;\n",
       "    }\n",
       "\n",
       "    .dataframe tbody tr th {\n",
       "        vertical-align: top;\n",
       "    }\n",
       "\n",
       "    .dataframe thead th {\n",
       "        text-align: right;\n",
       "    }\n",
       "</style>\n",
       "<table border=\"1\" class=\"dataframe\">\n",
       "  <thead>\n",
       "    <tr style=\"text-align: right;\">\n",
       "      <th></th>\n",
       "      <th>index</th>\n",
       "      <th>targets</th>\n",
       "      <th>fitness</th>\n",
       "    </tr>\n",
       "  </thead>\n",
       "  <tbody>\n",
       "  </tbody>\n",
       "</table>\n",
       "</div>"
      ],
      "text/plain": [
       "<cameo.strain_design.heuristic.evolutionary.optimization.TargetOptimizationResult at 0x1774c2094a8>"
      ]
     },
     "execution_count": 9,
     "metadata": {},
     "output_type": "execute_result"
    }
   ],
   "source": [
    "result"
   ]
  },
  {
   "cell_type": "markdown",
   "id": "44adfccd",
   "metadata": {},
   "source": [
    "These results suggests, that unfortunately there is no target for cofactor specificity swapping to enhance the p-coumaric acid production."
   ]
  },
  {
   "cell_type": "markdown",
   "id": "cbe6a91e",
   "metadata": {},
   "source": [
    "### References:\n",
    "\n",
    "[1] King, Zachary A., and Adam M. Feist. \"Optimizing Cofactor Specificity of Oxidoreductase Enzymes for the Generation of Microbial Production Strains - OptSwap.\" Industrial Biotechnology 9, no. 4 (August 1,2013): 236-46. - doi:10.1089/ind. 2013.0005."
   ]
  },
  {
   "cell_type": "code",
   "execution_count": null,
   "id": "0912e11b",
   "metadata": {},
   "outputs": [],
   "source": []
  }
 ],
 "metadata": {
  "kernelspec": {
   "display_name": "Python 3 (ipykernel)",
   "language": "python",
   "name": "python3"
  },
  "language_info": {
   "codemirror_mode": {
    "name": "ipython",
    "version": 3
   },
   "file_extension": ".py",
   "mimetype": "text/x-python",
   "name": "python",
   "nbconvert_exporter": "python",
   "pygments_lexer": "ipython3",
   "version": "3.7.0"
  }
 },
 "nbformat": 4,
 "nbformat_minor": 5
}
